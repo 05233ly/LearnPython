{
 "cells": [
  {
   "cell_type": "markdown",
   "metadata": {},
   "source": [
    "## 安装和基本概念\n",
    "\n",
    "安装方法：pip install plotly\n",
    "\n",
    "在Plotly中有两个基本模块\n",
    "1. plotly.plotly: 主要包含链接Ployly服务器的一些函数\n",
    "2. plotly.graph_objs: 主要包含生成图像实例的函数\n",
    "\n",
    "在Ployly中，我们将使用三个不同的objects来定义一个图像，分别是：\n",
    "1. Data: 即数据，定义图像中使用的数据\n",
    "2. Layout: 即布局，主要定义图像的外观\n",
    "3. Figure: 最终的图像实例，go.Figure帮助我们构建一个可现实的图像实例"
   ]
  },
  {
   "cell_type": "markdown",
   "metadata": {},
   "source": [
    "## 基本使用\n",
    "\n",
    "两种使用方法\n",
    "1. 在线模式，需要注册ploy.ly的账号，同时数据和图保存在云端账户中\n",
    "\n",
    "```\n",
    "import plotly\n",
    "plotly.tools.set_credentials_file(username='DemoAccount', api_key='lr1c37zw81')\n",
    "```\n",
    "\n",
    "2. 离线模式\n",
    "离线模式有两种使用方式：plotly.offline.plot() and plotly.offline.iplot()\n",
    "\n",
    "(1) plotly.offline.plot() 会在本地创建一个标准的HTML文件，你可以通过浏览器打开\n",
    "\n",
    "```\n",
    "import plotly\n",
    "import plotly.graph_objs as go\n",
    "\n",
    "plotly.offline.plot({\n",
    "    \"data\": [go.Scatter(x=[1, 2, 3, 4], y=[4, 3, 2, 1])],\n",
    "    \"layout\": go.Layout(title=\"hello world\")\n",
    "}, auto_open=True)\n",
    "```\n",
    "\n",
    "(2) plotly.offline.iplot() 允许你使用 Jupyter Notebook 进行画图和展示\n",
    "\n",
    "```\n",
    "import plotly\n",
    "import plotly.graph_objs as go\n",
    "\n",
    "plotly.offline.init_notebook_mode(connected=True)\n",
    "\n",
    "plotly.offline.iplot({\n",
    "    \"data\": [go.Scatter(x=[1, 2, 3, 4], y=[4, 3, 2, 1])],\n",
    "    \"layout\": go.Layout(title=\"hello world\")\n",
    "})\n",
    "```"
   ]
  },
  {
   "cell_type": "markdown",
   "metadata": {},
   "source": [
    "#### 导入数据"
   ]
  },
  {
   "cell_type": "code",
   "execution_count": 20,
   "metadata": {},
   "outputs": [
    {
     "data": {
      "application/vnd.plotly.v1+json": {
       "config": {
        "linkText": "Export to plot.ly",
        "plotlyServerURL": "https://plot.ly",
        "showLink": true
       },
       "data": [
        {
         "colorscale": [
          [
           0,
           "#00083e"
          ],
          [
           0.5,
           "#ededee"
          ],
          [
           1,
           "#ffffff"
          ]
         ],
         "hoverinfo": "none",
         "opacity": 0.75,
         "showscale": false,
         "type": "heatmap",
         "uid": "5b0bcc6c-b2bf-47ae-ba78-33eb0526358d",
         "z": [
          [
           0,
           0,
           0,
           0
          ],
          [
           0.5,
           0.5,
           0.5,
           0.5
          ],
          [
           1,
           1,
           1,
           1
          ],
          [
           0.5,
           0.5,
           0.5,
           0.5
          ],
          [
           1,
           1,
           1,
           1
          ],
          [
           0.5,
           0.5,
           0.5,
           0.5
          ],
          [
           1,
           1,
           1,
           1
          ],
          [
           0.5,
           0.5,
           0.5,
           0.5
          ],
          [
           1,
           1,
           1,
           1
          ],
          [
           0.5,
           0.5,
           0.5,
           0.5
          ],
          [
           1,
           1,
           1,
           1
          ],
          [
           0.5,
           0.5,
           0.5,
           0.5
          ],
          [
           1,
           1,
           1,
           1
          ],
          [
           0.5,
           0.5,
           0.5,
           0.5
          ],
          [
           1,
           1,
           1,
           1
          ],
          [
           0.5,
           0.5,
           0.5,
           0.5
          ],
          [
           1,
           1,
           1,
           1
          ],
          [
           0.5,
           0.5,
           0.5,
           0.5
          ],
          [
           1,
           1,
           1,
           1
          ],
          [
           0.5,
           0.5,
           0.5,
           0.5
          ],
          [
           1,
           1,
           1,
           1
          ],
          [
           0.5,
           0.5,
           0.5,
           0.5
          ]
         ]
        }
       ],
       "layout": {
        "annotations": [
         {
          "align": "left",
          "font": {
           "color": "#ffffff"
          },
          "showarrow": false,
          "text": "<b>School</b>",
          "x": -0.45,
          "xanchor": "left",
          "xref": "x",
          "y": 0,
          "yref": "y"
         },
         {
          "align": "left",
          "font": {
           "color": "#ffffff"
          },
          "showarrow": false,
          "text": "<b>Women</b>",
          "x": 0.55,
          "xanchor": "left",
          "xref": "x",
          "y": 0,
          "yref": "y"
         },
         {
          "align": "left",
          "font": {
           "color": "#ffffff"
          },
          "showarrow": false,
          "text": "<b>Men</b>",
          "x": 1.55,
          "xanchor": "left",
          "xref": "x",
          "y": 0,
          "yref": "y"
         },
         {
          "align": "left",
          "font": {
           "color": "#ffffff"
          },
          "showarrow": false,
          "text": "<b>Gap</b>",
          "x": 2.55,
          "xanchor": "left",
          "xref": "x",
          "y": 0,
          "yref": "y"
         },
         {
          "align": "left",
          "font": {
           "color": "#000000"
          },
          "showarrow": false,
          "text": "MIT",
          "x": -0.45,
          "xanchor": "left",
          "xref": "x",
          "y": 1,
          "yref": "y"
         },
         {
          "align": "left",
          "font": {
           "color": "#000000"
          },
          "showarrow": false,
          "text": "94",
          "x": 0.55,
          "xanchor": "left",
          "xref": "x",
          "y": 1,
          "yref": "y"
         },
         {
          "align": "left",
          "font": {
           "color": "#000000"
          },
          "showarrow": false,
          "text": "152",
          "x": 1.55,
          "xanchor": "left",
          "xref": "x",
          "y": 1,
          "yref": "y"
         },
         {
          "align": "left",
          "font": {
           "color": "#000000"
          },
          "showarrow": false,
          "text": "58",
          "x": 2.55,
          "xanchor": "left",
          "xref": "x",
          "y": 1,
          "yref": "y"
         },
         {
          "align": "left",
          "font": {
           "color": "#000000"
          },
          "showarrow": false,
          "text": "Stanford",
          "x": -0.45,
          "xanchor": "left",
          "xref": "x",
          "y": 2,
          "yref": "y"
         },
         {
          "align": "left",
          "font": {
           "color": "#000000"
          },
          "showarrow": false,
          "text": "96",
          "x": 0.55,
          "xanchor": "left",
          "xref": "x",
          "y": 2,
          "yref": "y"
         },
         {
          "align": "left",
          "font": {
           "color": "#000000"
          },
          "showarrow": false,
          "text": "151",
          "x": 1.55,
          "xanchor": "left",
          "xref": "x",
          "y": 2,
          "yref": "y"
         },
         {
          "align": "left",
          "font": {
           "color": "#000000"
          },
          "showarrow": false,
          "text": "55",
          "x": 2.55,
          "xanchor": "left",
          "xref": "x",
          "y": 2,
          "yref": "y"
         },
         {
          "align": "left",
          "font": {
           "color": "#000000"
          },
          "showarrow": false,
          "text": "Harvard",
          "x": -0.45,
          "xanchor": "left",
          "xref": "x",
          "y": 3,
          "yref": "y"
         },
         {
          "align": "left",
          "font": {
           "color": "#000000"
          },
          "showarrow": false,
          "text": "112",
          "x": 0.55,
          "xanchor": "left",
          "xref": "x",
          "y": 3,
          "yref": "y"
         },
         {
          "align": "left",
          "font": {
           "color": "#000000"
          },
          "showarrow": false,
          "text": "165",
          "x": 1.55,
          "xanchor": "left",
          "xref": "x",
          "y": 3,
          "yref": "y"
         },
         {
          "align": "left",
          "font": {
           "color": "#000000"
          },
          "showarrow": false,
          "text": "53",
          "x": 2.55,
          "xanchor": "left",
          "xref": "x",
          "y": 3,
          "yref": "y"
         },
         {
          "align": "left",
          "font": {
           "color": "#000000"
          },
          "showarrow": false,
          "text": "U.Penn",
          "x": -0.45,
          "xanchor": "left",
          "xref": "x",
          "y": 4,
          "yref": "y"
         },
         {
          "align": "left",
          "font": {
           "color": "#000000"
          },
          "showarrow": false,
          "text": "92",
          "x": 0.55,
          "xanchor": "left",
          "xref": "x",
          "y": 4,
          "yref": "y"
         },
         {
          "align": "left",
          "font": {
           "color": "#000000"
          },
          "showarrow": false,
          "text": "141",
          "x": 1.55,
          "xanchor": "left",
          "xref": "x",
          "y": 4,
          "yref": "y"
         },
         {
          "align": "left",
          "font": {
           "color": "#000000"
          },
          "showarrow": false,
          "text": "49",
          "x": 2.55,
          "xanchor": "left",
          "xref": "x",
          "y": 4,
          "yref": "y"
         },
         {
          "align": "left",
          "font": {
           "color": "#000000"
          },
          "showarrow": false,
          "text": "Princeton",
          "x": -0.45,
          "xanchor": "left",
          "xref": "x",
          "y": 5,
          "yref": "y"
         },
         {
          "align": "left",
          "font": {
           "color": "#000000"
          },
          "showarrow": false,
          "text": "90",
          "x": 0.55,
          "xanchor": "left",
          "xref": "x",
          "y": 5,
          "yref": "y"
         },
         {
          "align": "left",
          "font": {
           "color": "#000000"
          },
          "showarrow": false,
          "text": "137",
          "x": 1.55,
          "xanchor": "left",
          "xref": "x",
          "y": 5,
          "yref": "y"
         },
         {
          "align": "left",
          "font": {
           "color": "#000000"
          },
          "showarrow": false,
          "text": "47",
          "x": 2.55,
          "xanchor": "left",
          "xref": "x",
          "y": 5,
          "yref": "y"
         },
         {
          "align": "left",
          "font": {
           "color": "#000000"
          },
          "showarrow": false,
          "text": "Chicago",
          "x": -0.45,
          "xanchor": "left",
          "xref": "x",
          "y": 6,
          "yref": "y"
         },
         {
          "align": "left",
          "font": {
           "color": "#000000"
          },
          "showarrow": false,
          "text": "78",
          "x": 0.55,
          "xanchor": "left",
          "xref": "x",
          "y": 6,
          "yref": "y"
         },
         {
          "align": "left",
          "font": {
           "color": "#000000"
          },
          "showarrow": false,
          "text": "118",
          "x": 1.55,
          "xanchor": "left",
          "xref": "x",
          "y": 6,
          "yref": "y"
         },
         {
          "align": "left",
          "font": {
           "color": "#000000"
          },
          "showarrow": false,
          "text": "40",
          "x": 2.55,
          "xanchor": "left",
          "xref": "x",
          "y": 6,
          "yref": "y"
         },
         {
          "align": "left",
          "font": {
           "color": "#000000"
          },
          "showarrow": false,
          "text": "Georgetown",
          "x": -0.45,
          "xanchor": "left",
          "xref": "x",
          "y": 7,
          "yref": "y"
         },
         {
          "align": "left",
          "font": {
           "color": "#000000"
          },
          "showarrow": false,
          "text": "94",
          "x": 0.55,
          "xanchor": "left",
          "xref": "x",
          "y": 7,
          "yref": "y"
         },
         {
          "align": "left",
          "font": {
           "color": "#000000"
          },
          "showarrow": false,
          "text": "131",
          "x": 1.55,
          "xanchor": "left",
          "xref": "x",
          "y": 7,
          "yref": "y"
         },
         {
          "align": "left",
          "font": {
           "color": "#000000"
          },
          "showarrow": false,
          "text": "37",
          "x": 2.55,
          "xanchor": "left",
          "xref": "x",
          "y": 7,
          "yref": "y"
         },
         {
          "align": "left",
          "font": {
           "color": "#000000"
          },
          "showarrow": false,
          "text": "Tufts",
          "x": -0.45,
          "xanchor": "left",
          "xref": "x",
          "y": 8,
          "yref": "y"
         },
         {
          "align": "left",
          "font": {
           "color": "#000000"
          },
          "showarrow": false,
          "text": "76",
          "x": 0.55,
          "xanchor": "left",
          "xref": "x",
          "y": 8,
          "yref": "y"
         },
         {
          "align": "left",
          "font": {
           "color": "#000000"
          },
          "showarrow": false,
          "text": "112",
          "x": 1.55,
          "xanchor": "left",
          "xref": "x",
          "y": 8,
          "yref": "y"
         },
         {
          "align": "left",
          "font": {
           "color": "#000000"
          },
          "showarrow": false,
          "text": "36",
          "x": 2.55,
          "xanchor": "left",
          "xref": "x",
          "y": 8,
          "yref": "y"
         },
         {
          "align": "left",
          "font": {
           "color": "#000000"
          },
          "showarrow": false,
          "text": "Yale",
          "x": -0.45,
          "xanchor": "left",
          "xref": "x",
          "y": 9,
          "yref": "y"
         },
         {
          "align": "left",
          "font": {
           "color": "#000000"
          },
          "showarrow": false,
          "text": "79",
          "x": 0.55,
          "xanchor": "left",
          "xref": "x",
          "y": 9,
          "yref": "y"
         },
         {
          "align": "left",
          "font": {
           "color": "#000000"
          },
          "showarrow": false,
          "text": "114",
          "x": 1.55,
          "xanchor": "left",
          "xref": "x",
          "y": 9,
          "yref": "y"
         },
         {
          "align": "left",
          "font": {
           "color": "#000000"
          },
          "showarrow": false,
          "text": "35",
          "x": 2.55,
          "xanchor": "left",
          "xref": "x",
          "y": 9,
          "yref": "y"
         },
         {
          "align": "left",
          "font": {
           "color": "#000000"
          },
          "showarrow": false,
          "text": "Columbia",
          "x": -0.45,
          "xanchor": "left",
          "xref": "x",
          "y": 10,
          "yref": "y"
         },
         {
          "align": "left",
          "font": {
           "color": "#000000"
          },
          "showarrow": false,
          "text": "86",
          "x": 0.55,
          "xanchor": "left",
          "xref": "x",
          "y": 10,
          "yref": "y"
         },
         {
          "align": "left",
          "font": {
           "color": "#000000"
          },
          "showarrow": false,
          "text": "119",
          "x": 1.55,
          "xanchor": "left",
          "xref": "x",
          "y": 10,
          "yref": "y"
         },
         {
          "align": "left",
          "font": {
           "color": "#000000"
          },
          "showarrow": false,
          "text": "33",
          "x": 2.55,
          "xanchor": "left",
          "xref": "x",
          "y": 10,
          "yref": "y"
         },
         {
          "align": "left",
          "font": {
           "color": "#000000"
          },
          "showarrow": false,
          "text": "Duke",
          "x": -0.45,
          "xanchor": "left",
          "xref": "x",
          "y": 11,
          "yref": "y"
         },
         {
          "align": "left",
          "font": {
           "color": "#000000"
          },
          "showarrow": false,
          "text": "93",
          "x": 0.55,
          "xanchor": "left",
          "xref": "x",
          "y": 11,
          "yref": "y"
         },
         {
          "align": "left",
          "font": {
           "color": "#000000"
          },
          "showarrow": false,
          "text": "124",
          "x": 1.55,
          "xanchor": "left",
          "xref": "x",
          "y": 11,
          "yref": "y"
         },
         {
          "align": "left",
          "font": {
           "color": "#000000"
          },
          "showarrow": false,
          "text": "31",
          "x": 2.55,
          "xanchor": "left",
          "xref": "x",
          "y": 11,
          "yref": "y"
         },
         {
          "align": "left",
          "font": {
           "color": "#000000"
          },
          "showarrow": false,
          "text": "Dartmouth",
          "x": -0.45,
          "xanchor": "left",
          "xref": "x",
          "y": 12,
          "yref": "y"
         },
         {
          "align": "left",
          "font": {
           "color": "#000000"
          },
          "showarrow": false,
          "text": "84",
          "x": 0.55,
          "xanchor": "left",
          "xref": "x",
          "y": 12,
          "yref": "y"
         },
         {
          "align": "left",
          "font": {
           "color": "#000000"
          },
          "showarrow": false,
          "text": "114",
          "x": 1.55,
          "xanchor": "left",
          "xref": "x",
          "y": 12,
          "yref": "y"
         },
         {
          "align": "left",
          "font": {
           "color": "#000000"
          },
          "showarrow": false,
          "text": "30",
          "x": 2.55,
          "xanchor": "left",
          "xref": "x",
          "y": 12,
          "yref": "y"
         },
         {
          "align": "left",
          "font": {
           "color": "#000000"
          },
          "showarrow": false,
          "text": "NYU",
          "x": -0.45,
          "xanchor": "left",
          "xref": "x",
          "y": 13,
          "yref": "y"
         },
         {
          "align": "left",
          "font": {
           "color": "#000000"
          },
          "showarrow": false,
          "text": "67",
          "x": 0.55,
          "xanchor": "left",
          "xref": "x",
          "y": 13,
          "yref": "y"
         },
         {
          "align": "left",
          "font": {
           "color": "#000000"
          },
          "showarrow": false,
          "text": "94",
          "x": 1.55,
          "xanchor": "left",
          "xref": "x",
          "y": 13,
          "yref": "y"
         },
         {
          "align": "left",
          "font": {
           "color": "#000000"
          },
          "showarrow": false,
          "text": "27",
          "x": 2.55,
          "xanchor": "left",
          "xref": "x",
          "y": 13,
          "yref": "y"
         },
         {
          "align": "left",
          "font": {
           "color": "#000000"
          },
          "showarrow": false,
          "text": "Notre Dame",
          "x": -0.45,
          "xanchor": "left",
          "xref": "x",
          "y": 14,
          "yref": "y"
         },
         {
          "align": "left",
          "font": {
           "color": "#000000"
          },
          "showarrow": false,
          "text": "73",
          "x": 0.55,
          "xanchor": "left",
          "xref": "x",
          "y": 14,
          "yref": "y"
         },
         {
          "align": "left",
          "font": {
           "color": "#000000"
          },
          "showarrow": false,
          "text": "100",
          "x": 1.55,
          "xanchor": "left",
          "xref": "x",
          "y": 14,
          "yref": "y"
         },
         {
          "align": "left",
          "font": {
           "color": "#000000"
          },
          "showarrow": false,
          "text": "27",
          "x": 2.55,
          "xanchor": "left",
          "xref": "x",
          "y": 14,
          "yref": "y"
         },
         {
          "align": "left",
          "font": {
           "color": "#000000"
          },
          "showarrow": false,
          "text": "Cornell",
          "x": -0.45,
          "xanchor": "left",
          "xref": "x",
          "y": 15,
          "yref": "y"
         },
         {
          "align": "left",
          "font": {
           "color": "#000000"
          },
          "showarrow": false,
          "text": "80",
          "x": 0.55,
          "xanchor": "left",
          "xref": "x",
          "y": 15,
          "yref": "y"
         },
         {
          "align": "left",
          "font": {
           "color": "#000000"
          },
          "showarrow": false,
          "text": "107",
          "x": 1.55,
          "xanchor": "left",
          "xref": "x",
          "y": 15,
          "yref": "y"
         },
         {
          "align": "left",
          "font": {
           "color": "#000000"
          },
          "showarrow": false,
          "text": "27",
          "x": 2.55,
          "xanchor": "left",
          "xref": "x",
          "y": 15,
          "yref": "y"
         },
         {
          "align": "left",
          "font": {
           "color": "#000000"
          },
          "showarrow": false,
          "text": "Michigan",
          "x": -0.45,
          "xanchor": "left",
          "xref": "x",
          "y": 16,
          "yref": "y"
         },
         {
          "align": "left",
          "font": {
           "color": "#000000"
          },
          "showarrow": false,
          "text": "62",
          "x": 0.55,
          "xanchor": "left",
          "xref": "x",
          "y": 16,
          "yref": "y"
         },
         {
          "align": "left",
          "font": {
           "color": "#000000"
          },
          "showarrow": false,
          "text": "84",
          "x": 1.55,
          "xanchor": "left",
          "xref": "x",
          "y": 16,
          "yref": "y"
         },
         {
          "align": "left",
          "font": {
           "color": "#000000"
          },
          "showarrow": false,
          "text": "22",
          "x": 2.55,
          "xanchor": "left",
          "xref": "x",
          "y": 16,
          "yref": "y"
         },
         {
          "align": "left",
          "font": {
           "color": "#000000"
          },
          "showarrow": false,
          "text": "Brown",
          "x": -0.45,
          "xanchor": "left",
          "xref": "x",
          "y": 17,
          "yref": "y"
         },
         {
          "align": "left",
          "font": {
           "color": "#000000"
          },
          "showarrow": false,
          "text": "72",
          "x": 0.55,
          "xanchor": "left",
          "xref": "x",
          "y": 17,
          "yref": "y"
         },
         {
          "align": "left",
          "font": {
           "color": "#000000"
          },
          "showarrow": false,
          "text": "92",
          "x": 1.55,
          "xanchor": "left",
          "xref": "x",
          "y": 17,
          "yref": "y"
         },
         {
          "align": "left",
          "font": {
           "color": "#000000"
          },
          "showarrow": false,
          "text": "20",
          "x": 2.55,
          "xanchor": "left",
          "xref": "x",
          "y": 17,
          "yref": "y"
         },
         {
          "align": "left",
          "font": {
           "color": "#000000"
          },
          "showarrow": false,
          "text": "Berkeley",
          "x": -0.45,
          "xanchor": "left",
          "xref": "x",
          "y": 18,
          "yref": "y"
         },
         {
          "align": "left",
          "font": {
           "color": "#000000"
          },
          "showarrow": false,
          "text": "71",
          "x": 0.55,
          "xanchor": "left",
          "xref": "x",
          "y": 18,
          "yref": "y"
         },
         {
          "align": "left",
          "font": {
           "color": "#000000"
          },
          "showarrow": false,
          "text": "88",
          "x": 1.55,
          "xanchor": "left",
          "xref": "x",
          "y": 18,
          "yref": "y"
         },
         {
          "align": "left",
          "font": {
           "color": "#000000"
          },
          "showarrow": false,
          "text": "17",
          "x": 2.55,
          "xanchor": "left",
          "xref": "x",
          "y": 18,
          "yref": "y"
         },
         {
          "align": "left",
          "font": {
           "color": "#000000"
          },
          "showarrow": false,
          "text": "Emory",
          "x": -0.45,
          "xanchor": "left",
          "xref": "x",
          "y": 19,
          "yref": "y"
         },
         {
          "align": "left",
          "font": {
           "color": "#000000"
          },
          "showarrow": false,
          "text": "68",
          "x": 0.55,
          "xanchor": "left",
          "xref": "x",
          "y": 19,
          "yref": "y"
         },
         {
          "align": "left",
          "font": {
           "color": "#000000"
          },
          "showarrow": false,
          "text": "82",
          "x": 1.55,
          "xanchor": "left",
          "xref": "x",
          "y": 19,
          "yref": "y"
         },
         {
          "align": "left",
          "font": {
           "color": "#000000"
          },
          "showarrow": false,
          "text": "14",
          "x": 2.55,
          "xanchor": "left",
          "xref": "x",
          "y": 19,
          "yref": "y"
         },
         {
          "align": "left",
          "font": {
           "color": "#000000"
          },
          "showarrow": false,
          "text": "UCLA",
          "x": -0.45,
          "xanchor": "left",
          "xref": "x",
          "y": 20,
          "yref": "y"
         },
         {
          "align": "left",
          "font": {
           "color": "#000000"
          },
          "showarrow": false,
          "text": "64",
          "x": 0.55,
          "xanchor": "left",
          "xref": "x",
          "y": 20,
          "yref": "y"
         },
         {
          "align": "left",
          "font": {
           "color": "#000000"
          },
          "showarrow": false,
          "text": "78",
          "x": 1.55,
          "xanchor": "left",
          "xref": "x",
          "y": 20,
          "yref": "y"
         },
         {
          "align": "left",
          "font": {
           "color": "#000000"
          },
          "showarrow": false,
          "text": "14",
          "x": 2.55,
          "xanchor": "left",
          "xref": "x",
          "y": 20,
          "yref": "y"
         },
         {
          "align": "left",
          "font": {
           "color": "#000000"
          },
          "showarrow": false,
          "text": "SoCal",
          "x": -0.45,
          "xanchor": "left",
          "xref": "x",
          "y": 21,
          "yref": "y"
         },
         {
          "align": "left",
          "font": {
           "color": "#000000"
          },
          "showarrow": false,
          "text": "72",
          "x": 0.55,
          "xanchor": "left",
          "xref": "x",
          "y": 21,
          "yref": "y"
         },
         {
          "align": "left",
          "font": {
           "color": "#000000"
          },
          "showarrow": false,
          "text": "81",
          "x": 1.55,
          "xanchor": "left",
          "xref": "x",
          "y": 21,
          "yref": "y"
         },
         {
          "align": "left",
          "font": {
           "color": "#000000"
          },
          "showarrow": false,
          "text": "9",
          "x": 2.55,
          "xanchor": "left",
          "xref": "x",
          "y": 21,
          "yref": "y"
         }
        ],
        "height": 710,
        "margin": {
         "b": 0,
         "l": 0,
         "r": 0,
         "t": 0
        },
        "xaxis": {
         "dtick": 1,
         "gridwidth": 2,
         "showticklabels": false,
         "tick0": -0.5,
         "ticks": "",
         "zeroline": false
        },
        "yaxis": {
         "autorange": "reversed",
         "dtick": 1,
         "gridwidth": 2,
         "showticklabels": false,
         "tick0": 0.5,
         "ticks": "",
         "zeroline": false
        }
       }
      },
      "text/html": [
       "<div id=\"de60c28c-3abc-489f-a8f1-88d5541c89df\" style=\"height: 710px; width: 100%;\" class=\"plotly-graph-div\"></div><script type=\"text/javascript\">require([\"plotly\"], function(Plotly) { window.PLOTLYENV=window.PLOTLYENV || {};window.PLOTLYENV.BASE_URL=\"https://plot.ly\";Plotly.newPlot(\"de60c28c-3abc-489f-a8f1-88d5541c89df\", [{\"colorscale\": [[0, \"#00083e\"], [0.5, \"#ededee\"], [1, \"#ffffff\"]], \"hoverinfo\": \"none\", \"opacity\": 0.75, \"showscale\": false, \"z\": [[0, 0, 0, 0], [0.5, 0.5, 0.5, 0.5], [1, 1, 1, 1], [0.5, 0.5, 0.5, 0.5], [1, 1, 1, 1], [0.5, 0.5, 0.5, 0.5], [1, 1, 1, 1], [0.5, 0.5, 0.5, 0.5], [1, 1, 1, 1], [0.5, 0.5, 0.5, 0.5], [1, 1, 1, 1], [0.5, 0.5, 0.5, 0.5], [1, 1, 1, 1], [0.5, 0.5, 0.5, 0.5], [1, 1, 1, 1], [0.5, 0.5, 0.5, 0.5], [1, 1, 1, 1], [0.5, 0.5, 0.5, 0.5], [1, 1, 1, 1], [0.5, 0.5, 0.5, 0.5], [1, 1, 1, 1], [0.5, 0.5, 0.5, 0.5]], \"type\": \"heatmap\", \"uid\": \"5b0bcc6c-b2bf-47ae-ba78-33eb0526358d\"}], {\"annotations\": [{\"align\": \"left\", \"font\": {\"color\": \"#ffffff\"}, \"showarrow\": false, \"text\": \"<b>School</b>\", \"x\": -0.45, \"xanchor\": \"left\", \"xref\": \"x\", \"y\": 0, \"yref\": \"y\"}, {\"align\": \"left\", \"font\": {\"color\": \"#ffffff\"}, \"showarrow\": false, \"text\": \"<b>Women</b>\", \"x\": 0.55, \"xanchor\": \"left\", \"xref\": \"x\", \"y\": 0, \"yref\": \"y\"}, {\"align\": \"left\", \"font\": {\"color\": \"#ffffff\"}, \"showarrow\": false, \"text\": \"<b>Men</b>\", \"x\": 1.55, \"xanchor\": \"left\", \"xref\": \"x\", \"y\": 0, \"yref\": \"y\"}, {\"align\": \"left\", \"font\": {\"color\": \"#ffffff\"}, \"showarrow\": false, \"text\": \"<b>Gap</b>\", \"x\": 2.55, \"xanchor\": \"left\", \"xref\": \"x\", \"y\": 0, \"yref\": \"y\"}, {\"align\": \"left\", \"font\": {\"color\": \"#000000\"}, \"showarrow\": false, \"text\": \"MIT\", \"x\": -0.45, \"xanchor\": \"left\", \"xref\": \"x\", \"y\": 1, \"yref\": \"y\"}, {\"align\": \"left\", \"font\": {\"color\": \"#000000\"}, \"showarrow\": false, \"text\": \"94\", \"x\": 0.55, \"xanchor\": \"left\", \"xref\": \"x\", \"y\": 1, \"yref\": \"y\"}, {\"align\": \"left\", \"font\": {\"color\": \"#000000\"}, \"showarrow\": false, \"text\": \"152\", \"x\": 1.55, \"xanchor\": \"left\", \"xref\": \"x\", \"y\": 1, \"yref\": \"y\"}, {\"align\": \"left\", \"font\": {\"color\": \"#000000\"}, \"showarrow\": false, \"text\": \"58\", \"x\": 2.55, \"xanchor\": \"left\", \"xref\": \"x\", \"y\": 1, \"yref\": \"y\"}, {\"align\": \"left\", \"font\": {\"color\": \"#000000\"}, \"showarrow\": false, \"text\": \"Stanford\", \"x\": -0.45, \"xanchor\": \"left\", \"xref\": \"x\", \"y\": 2, \"yref\": \"y\"}, {\"align\": \"left\", \"font\": {\"color\": \"#000000\"}, \"showarrow\": false, \"text\": \"96\", \"x\": 0.55, \"xanchor\": \"left\", \"xref\": \"x\", \"y\": 2, \"yref\": \"y\"}, {\"align\": \"left\", \"font\": {\"color\": \"#000000\"}, \"showarrow\": false, \"text\": \"151\", \"x\": 1.55, \"xanchor\": \"left\", \"xref\": \"x\", \"y\": 2, \"yref\": \"y\"}, {\"align\": \"left\", \"font\": {\"color\": \"#000000\"}, \"showarrow\": false, \"text\": \"55\", \"x\": 2.55, \"xanchor\": \"left\", \"xref\": \"x\", \"y\": 2, \"yref\": \"y\"}, {\"align\": \"left\", \"font\": {\"color\": \"#000000\"}, \"showarrow\": false, \"text\": \"Harvard\", \"x\": -0.45, \"xanchor\": \"left\", \"xref\": \"x\", \"y\": 3, \"yref\": \"y\"}, {\"align\": \"left\", \"font\": {\"color\": \"#000000\"}, \"showarrow\": false, \"text\": \"112\", \"x\": 0.55, \"xanchor\": \"left\", \"xref\": \"x\", \"y\": 3, \"yref\": \"y\"}, {\"align\": \"left\", \"font\": {\"color\": \"#000000\"}, \"showarrow\": false, \"text\": \"165\", \"x\": 1.55, \"xanchor\": \"left\", \"xref\": \"x\", \"y\": 3, \"yref\": \"y\"}, {\"align\": \"left\", \"font\": {\"color\": \"#000000\"}, \"showarrow\": false, \"text\": \"53\", \"x\": 2.55, \"xanchor\": \"left\", \"xref\": \"x\", \"y\": 3, \"yref\": \"y\"}, {\"align\": \"left\", \"font\": {\"color\": \"#000000\"}, \"showarrow\": false, \"text\": \"U.Penn\", \"x\": -0.45, \"xanchor\": \"left\", \"xref\": \"x\", \"y\": 4, \"yref\": \"y\"}, {\"align\": \"left\", \"font\": {\"color\": \"#000000\"}, \"showarrow\": false, \"text\": \"92\", \"x\": 0.55, \"xanchor\": \"left\", \"xref\": \"x\", \"y\": 4, \"yref\": \"y\"}, {\"align\": \"left\", \"font\": {\"color\": \"#000000\"}, \"showarrow\": false, \"text\": \"141\", \"x\": 1.55, \"xanchor\": \"left\", \"xref\": \"x\", \"y\": 4, \"yref\": \"y\"}, {\"align\": \"left\", \"font\": {\"color\": \"#000000\"}, \"showarrow\": false, \"text\": \"49\", \"x\": 2.55, \"xanchor\": \"left\", \"xref\": \"x\", \"y\": 4, \"yref\": \"y\"}, {\"align\": \"left\", \"font\": {\"color\": \"#000000\"}, \"showarrow\": false, \"text\": \"Princeton\", \"x\": -0.45, \"xanchor\": \"left\", \"xref\": \"x\", \"y\": 5, \"yref\": \"y\"}, {\"align\": \"left\", \"font\": {\"color\": \"#000000\"}, \"showarrow\": false, \"text\": \"90\", \"x\": 0.55, \"xanchor\": \"left\", \"xref\": \"x\", \"y\": 5, \"yref\": \"y\"}, {\"align\": \"left\", \"font\": {\"color\": \"#000000\"}, \"showarrow\": false, \"text\": \"137\", \"x\": 1.55, \"xanchor\": \"left\", \"xref\": \"x\", \"y\": 5, \"yref\": \"y\"}, {\"align\": \"left\", \"font\": {\"color\": \"#000000\"}, \"showarrow\": false, \"text\": \"47\", \"x\": 2.55, \"xanchor\": \"left\", \"xref\": \"x\", \"y\": 5, \"yref\": \"y\"}, {\"align\": \"left\", \"font\": {\"color\": \"#000000\"}, \"showarrow\": false, \"text\": \"Chicago\", \"x\": -0.45, \"xanchor\": \"left\", \"xref\": \"x\", \"y\": 6, \"yref\": \"y\"}, {\"align\": \"left\", \"font\": {\"color\": \"#000000\"}, \"showarrow\": false, \"text\": \"78\", \"x\": 0.55, \"xanchor\": \"left\", \"xref\": \"x\", \"y\": 6, \"yref\": \"y\"}, {\"align\": \"left\", \"font\": {\"color\": \"#000000\"}, \"showarrow\": false, \"text\": \"118\", \"x\": 1.55, \"xanchor\": \"left\", \"xref\": \"x\", \"y\": 6, \"yref\": \"y\"}, {\"align\": \"left\", \"font\": {\"color\": \"#000000\"}, \"showarrow\": false, \"text\": \"40\", \"x\": 2.55, \"xanchor\": \"left\", \"xref\": \"x\", \"y\": 6, \"yref\": \"y\"}, {\"align\": \"left\", \"font\": {\"color\": \"#000000\"}, \"showarrow\": false, \"text\": \"Georgetown\", \"x\": -0.45, \"xanchor\": \"left\", \"xref\": \"x\", \"y\": 7, \"yref\": \"y\"}, {\"align\": \"left\", \"font\": {\"color\": \"#000000\"}, \"showarrow\": false, \"text\": \"94\", \"x\": 0.55, \"xanchor\": \"left\", \"xref\": \"x\", \"y\": 7, \"yref\": \"y\"}, {\"align\": \"left\", \"font\": {\"color\": \"#000000\"}, \"showarrow\": false, \"text\": \"131\", \"x\": 1.55, \"xanchor\": \"left\", \"xref\": \"x\", \"y\": 7, \"yref\": \"y\"}, {\"align\": \"left\", \"font\": {\"color\": \"#000000\"}, \"showarrow\": false, \"text\": \"37\", \"x\": 2.55, \"xanchor\": \"left\", \"xref\": \"x\", \"y\": 7, \"yref\": \"y\"}, {\"align\": \"left\", \"font\": {\"color\": \"#000000\"}, \"showarrow\": false, \"text\": \"Tufts\", \"x\": -0.45, \"xanchor\": \"left\", \"xref\": \"x\", \"y\": 8, \"yref\": \"y\"}, {\"align\": \"left\", \"font\": {\"color\": \"#000000\"}, \"showarrow\": false, \"text\": \"76\", \"x\": 0.55, \"xanchor\": \"left\", \"xref\": \"x\", \"y\": 8, \"yref\": \"y\"}, {\"align\": \"left\", \"font\": {\"color\": \"#000000\"}, \"showarrow\": false, \"text\": \"112\", \"x\": 1.55, \"xanchor\": \"left\", \"xref\": \"x\", \"y\": 8, \"yref\": \"y\"}, {\"align\": \"left\", \"font\": {\"color\": \"#000000\"}, \"showarrow\": false, \"text\": \"36\", \"x\": 2.55, \"xanchor\": \"left\", \"xref\": \"x\", \"y\": 8, \"yref\": \"y\"}, {\"align\": \"left\", \"font\": {\"color\": \"#000000\"}, \"showarrow\": false, \"text\": \"Yale\", \"x\": -0.45, \"xanchor\": \"left\", \"xref\": \"x\", \"y\": 9, \"yref\": \"y\"}, {\"align\": \"left\", \"font\": {\"color\": \"#000000\"}, \"showarrow\": false, \"text\": \"79\", \"x\": 0.55, \"xanchor\": \"left\", \"xref\": \"x\", \"y\": 9, \"yref\": \"y\"}, {\"align\": \"left\", \"font\": {\"color\": \"#000000\"}, \"showarrow\": false, \"text\": \"114\", \"x\": 1.55, \"xanchor\": \"left\", \"xref\": \"x\", \"y\": 9, \"yref\": \"y\"}, {\"align\": \"left\", \"font\": {\"color\": \"#000000\"}, \"showarrow\": false, \"text\": \"35\", \"x\": 2.55, \"xanchor\": \"left\", \"xref\": \"x\", \"y\": 9, \"yref\": \"y\"}, {\"align\": \"left\", \"font\": {\"color\": \"#000000\"}, \"showarrow\": false, \"text\": \"Columbia\", \"x\": -0.45, \"xanchor\": \"left\", \"xref\": \"x\", \"y\": 10, \"yref\": \"y\"}, {\"align\": \"left\", \"font\": {\"color\": \"#000000\"}, \"showarrow\": false, \"text\": \"86\", \"x\": 0.55, \"xanchor\": \"left\", \"xref\": \"x\", \"y\": 10, \"yref\": \"y\"}, {\"align\": \"left\", \"font\": {\"color\": \"#000000\"}, \"showarrow\": false, \"text\": \"119\", \"x\": 1.55, \"xanchor\": \"left\", \"xref\": \"x\", \"y\": 10, \"yref\": \"y\"}, {\"align\": \"left\", \"font\": {\"color\": \"#000000\"}, \"showarrow\": false, \"text\": \"33\", \"x\": 2.55, \"xanchor\": \"left\", \"xref\": \"x\", \"y\": 10, \"yref\": \"y\"}, {\"align\": \"left\", \"font\": {\"color\": \"#000000\"}, \"showarrow\": false, \"text\": \"Duke\", \"x\": -0.45, \"xanchor\": \"left\", \"xref\": \"x\", \"y\": 11, \"yref\": \"y\"}, {\"align\": \"left\", \"font\": {\"color\": \"#000000\"}, \"showarrow\": false, \"text\": \"93\", \"x\": 0.55, \"xanchor\": \"left\", \"xref\": \"x\", \"y\": 11, \"yref\": \"y\"}, {\"align\": \"left\", \"font\": {\"color\": \"#000000\"}, \"showarrow\": false, \"text\": \"124\", \"x\": 1.55, \"xanchor\": \"left\", \"xref\": \"x\", \"y\": 11, \"yref\": \"y\"}, {\"align\": \"left\", \"font\": {\"color\": \"#000000\"}, \"showarrow\": false, \"text\": \"31\", \"x\": 2.55, \"xanchor\": \"left\", \"xref\": \"x\", \"y\": 11, \"yref\": \"y\"}, {\"align\": \"left\", \"font\": {\"color\": \"#000000\"}, \"showarrow\": false, \"text\": \"Dartmouth\", \"x\": -0.45, \"xanchor\": \"left\", \"xref\": \"x\", \"y\": 12, \"yref\": \"y\"}, {\"align\": \"left\", \"font\": {\"color\": \"#000000\"}, \"showarrow\": false, \"text\": \"84\", \"x\": 0.55, \"xanchor\": \"left\", \"xref\": \"x\", \"y\": 12, \"yref\": \"y\"}, {\"align\": \"left\", \"font\": {\"color\": \"#000000\"}, \"showarrow\": false, \"text\": \"114\", \"x\": 1.55, \"xanchor\": \"left\", \"xref\": \"x\", \"y\": 12, \"yref\": \"y\"}, {\"align\": \"left\", \"font\": {\"color\": \"#000000\"}, \"showarrow\": false, \"text\": \"30\", \"x\": 2.55, \"xanchor\": \"left\", \"xref\": \"x\", \"y\": 12, \"yref\": \"y\"}, {\"align\": \"left\", \"font\": {\"color\": \"#000000\"}, \"showarrow\": false, \"text\": \"NYU\", \"x\": -0.45, \"xanchor\": \"left\", \"xref\": \"x\", \"y\": 13, \"yref\": \"y\"}, {\"align\": \"left\", \"font\": {\"color\": \"#000000\"}, \"showarrow\": false, \"text\": \"67\", \"x\": 0.55, \"xanchor\": \"left\", \"xref\": \"x\", \"y\": 13, \"yref\": \"y\"}, {\"align\": \"left\", \"font\": {\"color\": \"#000000\"}, \"showarrow\": false, \"text\": \"94\", \"x\": 1.55, \"xanchor\": \"left\", \"xref\": \"x\", \"y\": 13, \"yref\": \"y\"}, {\"align\": \"left\", \"font\": {\"color\": \"#000000\"}, \"showarrow\": false, \"text\": \"27\", \"x\": 2.55, \"xanchor\": \"left\", \"xref\": \"x\", \"y\": 13, \"yref\": \"y\"}, {\"align\": \"left\", \"font\": {\"color\": \"#000000\"}, \"showarrow\": false, \"text\": \"Notre Dame\", \"x\": -0.45, \"xanchor\": \"left\", \"xref\": \"x\", \"y\": 14, \"yref\": \"y\"}, {\"align\": \"left\", \"font\": {\"color\": \"#000000\"}, \"showarrow\": false, \"text\": \"73\", \"x\": 0.55, \"xanchor\": \"left\", \"xref\": \"x\", \"y\": 14, \"yref\": \"y\"}, {\"align\": \"left\", \"font\": {\"color\": \"#000000\"}, \"showarrow\": false, \"text\": \"100\", \"x\": 1.55, \"xanchor\": \"left\", \"xref\": \"x\", \"y\": 14, \"yref\": \"y\"}, {\"align\": \"left\", \"font\": {\"color\": \"#000000\"}, \"showarrow\": false, \"text\": \"27\", \"x\": 2.55, \"xanchor\": \"left\", \"xref\": \"x\", \"y\": 14, \"yref\": \"y\"}, {\"align\": \"left\", \"font\": {\"color\": \"#000000\"}, \"showarrow\": false, \"text\": \"Cornell\", \"x\": -0.45, \"xanchor\": \"left\", \"xref\": \"x\", \"y\": 15, \"yref\": \"y\"}, {\"align\": \"left\", \"font\": {\"color\": \"#000000\"}, \"showarrow\": false, \"text\": \"80\", \"x\": 0.55, \"xanchor\": \"left\", \"xref\": \"x\", \"y\": 15, \"yref\": \"y\"}, {\"align\": \"left\", \"font\": {\"color\": \"#000000\"}, \"showarrow\": false, \"text\": \"107\", \"x\": 1.55, \"xanchor\": \"left\", \"xref\": \"x\", \"y\": 15, \"yref\": \"y\"}, {\"align\": \"left\", \"font\": {\"color\": \"#000000\"}, \"showarrow\": false, \"text\": \"27\", \"x\": 2.55, \"xanchor\": \"left\", \"xref\": \"x\", \"y\": 15, \"yref\": \"y\"}, {\"align\": \"left\", \"font\": {\"color\": \"#000000\"}, \"showarrow\": false, \"text\": \"Michigan\", \"x\": -0.45, \"xanchor\": \"left\", \"xref\": \"x\", \"y\": 16, \"yref\": \"y\"}, {\"align\": \"left\", \"font\": {\"color\": \"#000000\"}, \"showarrow\": false, \"text\": \"62\", \"x\": 0.55, \"xanchor\": \"left\", \"xref\": \"x\", \"y\": 16, \"yref\": \"y\"}, {\"align\": \"left\", \"font\": {\"color\": \"#000000\"}, \"showarrow\": false, \"text\": \"84\", \"x\": 1.55, \"xanchor\": \"left\", \"xref\": \"x\", \"y\": 16, \"yref\": \"y\"}, {\"align\": \"left\", \"font\": {\"color\": \"#000000\"}, \"showarrow\": false, \"text\": \"22\", \"x\": 2.55, \"xanchor\": \"left\", \"xref\": \"x\", \"y\": 16, \"yref\": \"y\"}, {\"align\": \"left\", \"font\": {\"color\": \"#000000\"}, \"showarrow\": false, \"text\": \"Brown\", \"x\": -0.45, \"xanchor\": \"left\", \"xref\": \"x\", \"y\": 17, \"yref\": \"y\"}, {\"align\": \"left\", \"font\": {\"color\": \"#000000\"}, \"showarrow\": false, \"text\": \"72\", \"x\": 0.55, \"xanchor\": \"left\", \"xref\": \"x\", \"y\": 17, \"yref\": \"y\"}, {\"align\": \"left\", \"font\": {\"color\": \"#000000\"}, \"showarrow\": false, \"text\": \"92\", \"x\": 1.55, \"xanchor\": \"left\", \"xref\": \"x\", \"y\": 17, \"yref\": \"y\"}, {\"align\": \"left\", \"font\": {\"color\": \"#000000\"}, \"showarrow\": false, \"text\": \"20\", \"x\": 2.55, \"xanchor\": \"left\", \"xref\": \"x\", \"y\": 17, \"yref\": \"y\"}, {\"align\": \"left\", \"font\": {\"color\": \"#000000\"}, \"showarrow\": false, \"text\": \"Berkeley\", \"x\": -0.45, \"xanchor\": \"left\", \"xref\": \"x\", \"y\": 18, \"yref\": \"y\"}, {\"align\": \"left\", \"font\": {\"color\": \"#000000\"}, \"showarrow\": false, \"text\": \"71\", \"x\": 0.55, \"xanchor\": \"left\", \"xref\": \"x\", \"y\": 18, \"yref\": \"y\"}, {\"align\": \"left\", \"font\": {\"color\": \"#000000\"}, \"showarrow\": false, \"text\": \"88\", \"x\": 1.55, \"xanchor\": \"left\", \"xref\": \"x\", \"y\": 18, \"yref\": \"y\"}, {\"align\": \"left\", \"font\": {\"color\": \"#000000\"}, \"showarrow\": false, \"text\": \"17\", \"x\": 2.55, \"xanchor\": \"left\", \"xref\": \"x\", \"y\": 18, \"yref\": \"y\"}, {\"align\": \"left\", \"font\": {\"color\": \"#000000\"}, \"showarrow\": false, \"text\": \"Emory\", \"x\": -0.45, \"xanchor\": \"left\", \"xref\": \"x\", \"y\": 19, \"yref\": \"y\"}, {\"align\": \"left\", \"font\": {\"color\": \"#000000\"}, \"showarrow\": false, \"text\": \"68\", \"x\": 0.55, \"xanchor\": \"left\", \"xref\": \"x\", \"y\": 19, \"yref\": \"y\"}, {\"align\": \"left\", \"font\": {\"color\": \"#000000\"}, \"showarrow\": false, \"text\": \"82\", \"x\": 1.55, \"xanchor\": \"left\", \"xref\": \"x\", \"y\": 19, \"yref\": \"y\"}, {\"align\": \"left\", \"font\": {\"color\": \"#000000\"}, \"showarrow\": false, \"text\": \"14\", \"x\": 2.55, \"xanchor\": \"left\", \"xref\": \"x\", \"y\": 19, \"yref\": \"y\"}, {\"align\": \"left\", \"font\": {\"color\": \"#000000\"}, \"showarrow\": false, \"text\": \"UCLA\", \"x\": -0.45, \"xanchor\": \"left\", \"xref\": \"x\", \"y\": 20, \"yref\": \"y\"}, {\"align\": \"left\", \"font\": {\"color\": \"#000000\"}, \"showarrow\": false, \"text\": \"64\", \"x\": 0.55, \"xanchor\": \"left\", \"xref\": \"x\", \"y\": 20, \"yref\": \"y\"}, {\"align\": \"left\", \"font\": {\"color\": \"#000000\"}, \"showarrow\": false, \"text\": \"78\", \"x\": 1.55, \"xanchor\": \"left\", \"xref\": \"x\", \"y\": 20, \"yref\": \"y\"}, {\"align\": \"left\", \"font\": {\"color\": \"#000000\"}, \"showarrow\": false, \"text\": \"14\", \"x\": 2.55, \"xanchor\": \"left\", \"xref\": \"x\", \"y\": 20, \"yref\": \"y\"}, {\"align\": \"left\", \"font\": {\"color\": \"#000000\"}, \"showarrow\": false, \"text\": \"SoCal\", \"x\": -0.45, \"xanchor\": \"left\", \"xref\": \"x\", \"y\": 21, \"yref\": \"y\"}, {\"align\": \"left\", \"font\": {\"color\": \"#000000\"}, \"showarrow\": false, \"text\": \"72\", \"x\": 0.55, \"xanchor\": \"left\", \"xref\": \"x\", \"y\": 21, \"yref\": \"y\"}, {\"align\": \"left\", \"font\": {\"color\": \"#000000\"}, \"showarrow\": false, \"text\": \"81\", \"x\": 1.55, \"xanchor\": \"left\", \"xref\": \"x\", \"y\": 21, \"yref\": \"y\"}, {\"align\": \"left\", \"font\": {\"color\": \"#000000\"}, \"showarrow\": false, \"text\": \"9\", \"x\": 2.55, \"xanchor\": \"left\", \"xref\": \"x\", \"y\": 21, \"yref\": \"y\"}], \"height\": 710, \"margin\": {\"b\": 0, \"l\": 0, \"r\": 0, \"t\": 0}, \"xaxis\": {\"dtick\": 1, \"gridwidth\": 2, \"showticklabels\": false, \"tick0\": -0.5, \"ticks\": \"\", \"zeroline\": false}, \"yaxis\": {\"autorange\": \"reversed\", \"dtick\": 1, \"gridwidth\": 2, \"showticklabels\": false, \"tick0\": 0.5, \"ticks\": \"\", \"zeroline\": false}}, {\"showLink\": true, \"linkText\": \"Export to plot.ly\", \"plotlyServerURL\": \"https://plot.ly\"})});</script><script type=\"text/javascript\">window.addEventListener(\"resize\", function(){window._Plotly.Plots.resize(document.getElementById(\"de60c28c-3abc-489f-a8f1-88d5541c89df\"));});</script>"
      ],
      "text/vnd.plotly.v1+html": [
       "<div id=\"de60c28c-3abc-489f-a8f1-88d5541c89df\" style=\"height: 710px; width: 100%;\" class=\"plotly-graph-div\"></div><script type=\"text/javascript\">require([\"plotly\"], function(Plotly) { window.PLOTLYENV=window.PLOTLYENV || {};window.PLOTLYENV.BASE_URL=\"https://plot.ly\";Plotly.newPlot(\"de60c28c-3abc-489f-a8f1-88d5541c89df\", [{\"colorscale\": [[0, \"#00083e\"], [0.5, \"#ededee\"], [1, \"#ffffff\"]], \"hoverinfo\": \"none\", \"opacity\": 0.75, \"showscale\": false, \"z\": [[0, 0, 0, 0], [0.5, 0.5, 0.5, 0.5], [1, 1, 1, 1], [0.5, 0.5, 0.5, 0.5], [1, 1, 1, 1], [0.5, 0.5, 0.5, 0.5], [1, 1, 1, 1], [0.5, 0.5, 0.5, 0.5], [1, 1, 1, 1], [0.5, 0.5, 0.5, 0.5], [1, 1, 1, 1], [0.5, 0.5, 0.5, 0.5], [1, 1, 1, 1], [0.5, 0.5, 0.5, 0.5], [1, 1, 1, 1], [0.5, 0.5, 0.5, 0.5], [1, 1, 1, 1], [0.5, 0.5, 0.5, 0.5], [1, 1, 1, 1], [0.5, 0.5, 0.5, 0.5], [1, 1, 1, 1], [0.5, 0.5, 0.5, 0.5]], \"type\": \"heatmap\", \"uid\": \"5b0bcc6c-b2bf-47ae-ba78-33eb0526358d\"}], {\"annotations\": [{\"align\": \"left\", \"font\": {\"color\": \"#ffffff\"}, \"showarrow\": false, \"text\": \"<b>School</b>\", \"x\": -0.45, \"xanchor\": \"left\", \"xref\": \"x\", \"y\": 0, \"yref\": \"y\"}, {\"align\": \"left\", \"font\": {\"color\": \"#ffffff\"}, \"showarrow\": false, \"text\": \"<b>Women</b>\", \"x\": 0.55, \"xanchor\": \"left\", \"xref\": \"x\", \"y\": 0, \"yref\": \"y\"}, {\"align\": \"left\", \"font\": {\"color\": \"#ffffff\"}, \"showarrow\": false, \"text\": \"<b>Men</b>\", \"x\": 1.55, \"xanchor\": \"left\", \"xref\": \"x\", \"y\": 0, \"yref\": \"y\"}, {\"align\": \"left\", \"font\": {\"color\": \"#ffffff\"}, \"showarrow\": false, \"text\": \"<b>Gap</b>\", \"x\": 2.55, \"xanchor\": \"left\", \"xref\": \"x\", \"y\": 0, \"yref\": \"y\"}, {\"align\": \"left\", \"font\": {\"color\": \"#000000\"}, \"showarrow\": false, \"text\": \"MIT\", \"x\": -0.45, \"xanchor\": \"left\", \"xref\": \"x\", \"y\": 1, \"yref\": \"y\"}, {\"align\": \"left\", \"font\": {\"color\": \"#000000\"}, \"showarrow\": false, \"text\": \"94\", \"x\": 0.55, \"xanchor\": \"left\", \"xref\": \"x\", \"y\": 1, \"yref\": \"y\"}, {\"align\": \"left\", \"font\": {\"color\": \"#000000\"}, \"showarrow\": false, \"text\": \"152\", \"x\": 1.55, \"xanchor\": \"left\", \"xref\": \"x\", \"y\": 1, \"yref\": \"y\"}, {\"align\": \"left\", \"font\": {\"color\": \"#000000\"}, \"showarrow\": false, \"text\": \"58\", \"x\": 2.55, \"xanchor\": \"left\", \"xref\": \"x\", \"y\": 1, \"yref\": \"y\"}, {\"align\": \"left\", \"font\": {\"color\": \"#000000\"}, \"showarrow\": false, \"text\": \"Stanford\", \"x\": -0.45, \"xanchor\": \"left\", \"xref\": \"x\", \"y\": 2, \"yref\": \"y\"}, {\"align\": \"left\", \"font\": {\"color\": \"#000000\"}, \"showarrow\": false, \"text\": \"96\", \"x\": 0.55, \"xanchor\": \"left\", \"xref\": \"x\", \"y\": 2, \"yref\": \"y\"}, {\"align\": \"left\", \"font\": {\"color\": \"#000000\"}, \"showarrow\": false, \"text\": \"151\", \"x\": 1.55, \"xanchor\": \"left\", \"xref\": \"x\", \"y\": 2, \"yref\": \"y\"}, {\"align\": \"left\", \"font\": {\"color\": \"#000000\"}, \"showarrow\": false, \"text\": \"55\", \"x\": 2.55, \"xanchor\": \"left\", \"xref\": \"x\", \"y\": 2, \"yref\": \"y\"}, {\"align\": \"left\", \"font\": {\"color\": \"#000000\"}, \"showarrow\": false, \"text\": \"Harvard\", \"x\": -0.45, \"xanchor\": \"left\", \"xref\": \"x\", \"y\": 3, \"yref\": \"y\"}, {\"align\": \"left\", \"font\": {\"color\": \"#000000\"}, \"showarrow\": false, \"text\": \"112\", \"x\": 0.55, \"xanchor\": \"left\", \"xref\": \"x\", \"y\": 3, \"yref\": \"y\"}, {\"align\": \"left\", \"font\": {\"color\": \"#000000\"}, \"showarrow\": false, \"text\": \"165\", \"x\": 1.55, \"xanchor\": \"left\", \"xref\": \"x\", \"y\": 3, \"yref\": \"y\"}, {\"align\": \"left\", \"font\": {\"color\": \"#000000\"}, \"showarrow\": false, \"text\": \"53\", \"x\": 2.55, \"xanchor\": \"left\", \"xref\": \"x\", \"y\": 3, \"yref\": \"y\"}, {\"align\": \"left\", \"font\": {\"color\": \"#000000\"}, \"showarrow\": false, \"text\": \"U.Penn\", \"x\": -0.45, \"xanchor\": \"left\", \"xref\": \"x\", \"y\": 4, \"yref\": \"y\"}, {\"align\": \"left\", \"font\": {\"color\": \"#000000\"}, \"showarrow\": false, \"text\": \"92\", \"x\": 0.55, \"xanchor\": \"left\", \"xref\": \"x\", \"y\": 4, \"yref\": \"y\"}, {\"align\": \"left\", \"font\": {\"color\": \"#000000\"}, \"showarrow\": false, \"text\": \"141\", \"x\": 1.55, \"xanchor\": \"left\", \"xref\": \"x\", \"y\": 4, \"yref\": \"y\"}, {\"align\": \"left\", \"font\": {\"color\": \"#000000\"}, \"showarrow\": false, \"text\": \"49\", \"x\": 2.55, \"xanchor\": \"left\", \"xref\": \"x\", \"y\": 4, \"yref\": \"y\"}, {\"align\": \"left\", \"font\": {\"color\": \"#000000\"}, \"showarrow\": false, \"text\": \"Princeton\", \"x\": -0.45, \"xanchor\": \"left\", \"xref\": \"x\", \"y\": 5, \"yref\": \"y\"}, {\"align\": \"left\", \"font\": {\"color\": \"#000000\"}, \"showarrow\": false, \"text\": \"90\", \"x\": 0.55, \"xanchor\": \"left\", \"xref\": \"x\", \"y\": 5, \"yref\": \"y\"}, {\"align\": \"left\", \"font\": {\"color\": \"#000000\"}, \"showarrow\": false, \"text\": \"137\", \"x\": 1.55, \"xanchor\": \"left\", \"xref\": \"x\", \"y\": 5, \"yref\": \"y\"}, {\"align\": \"left\", \"font\": {\"color\": \"#000000\"}, \"showarrow\": false, \"text\": \"47\", \"x\": 2.55, \"xanchor\": \"left\", \"xref\": \"x\", \"y\": 5, \"yref\": \"y\"}, {\"align\": \"left\", \"font\": {\"color\": \"#000000\"}, \"showarrow\": false, \"text\": \"Chicago\", \"x\": -0.45, \"xanchor\": \"left\", \"xref\": \"x\", \"y\": 6, \"yref\": \"y\"}, {\"align\": \"left\", \"font\": {\"color\": \"#000000\"}, \"showarrow\": false, \"text\": \"78\", \"x\": 0.55, \"xanchor\": \"left\", \"xref\": \"x\", \"y\": 6, \"yref\": \"y\"}, {\"align\": \"left\", \"font\": {\"color\": \"#000000\"}, \"showarrow\": false, \"text\": \"118\", \"x\": 1.55, \"xanchor\": \"left\", \"xref\": \"x\", \"y\": 6, \"yref\": \"y\"}, {\"align\": \"left\", \"font\": {\"color\": \"#000000\"}, \"showarrow\": false, \"text\": \"40\", \"x\": 2.55, \"xanchor\": \"left\", \"xref\": \"x\", \"y\": 6, \"yref\": \"y\"}, {\"align\": \"left\", \"font\": {\"color\": \"#000000\"}, \"showarrow\": false, \"text\": \"Georgetown\", \"x\": -0.45, \"xanchor\": \"left\", \"xref\": \"x\", \"y\": 7, \"yref\": \"y\"}, {\"align\": \"left\", \"font\": {\"color\": \"#000000\"}, \"showarrow\": false, \"text\": \"94\", \"x\": 0.55, \"xanchor\": \"left\", \"xref\": \"x\", \"y\": 7, \"yref\": \"y\"}, {\"align\": \"left\", \"font\": {\"color\": \"#000000\"}, \"showarrow\": false, \"text\": \"131\", \"x\": 1.55, \"xanchor\": \"left\", \"xref\": \"x\", \"y\": 7, \"yref\": \"y\"}, {\"align\": \"left\", \"font\": {\"color\": \"#000000\"}, \"showarrow\": false, \"text\": \"37\", \"x\": 2.55, \"xanchor\": \"left\", \"xref\": \"x\", \"y\": 7, \"yref\": \"y\"}, {\"align\": \"left\", \"font\": {\"color\": \"#000000\"}, \"showarrow\": false, \"text\": \"Tufts\", \"x\": -0.45, \"xanchor\": \"left\", \"xref\": \"x\", \"y\": 8, \"yref\": \"y\"}, {\"align\": \"left\", \"font\": {\"color\": \"#000000\"}, \"showarrow\": false, \"text\": \"76\", \"x\": 0.55, \"xanchor\": \"left\", \"xref\": \"x\", \"y\": 8, \"yref\": \"y\"}, {\"align\": \"left\", \"font\": {\"color\": \"#000000\"}, \"showarrow\": false, \"text\": \"112\", \"x\": 1.55, \"xanchor\": \"left\", \"xref\": \"x\", \"y\": 8, \"yref\": \"y\"}, {\"align\": \"left\", \"font\": {\"color\": \"#000000\"}, \"showarrow\": false, \"text\": \"36\", \"x\": 2.55, \"xanchor\": \"left\", \"xref\": \"x\", \"y\": 8, \"yref\": \"y\"}, {\"align\": \"left\", \"font\": {\"color\": \"#000000\"}, \"showarrow\": false, \"text\": \"Yale\", \"x\": -0.45, \"xanchor\": \"left\", \"xref\": \"x\", \"y\": 9, \"yref\": \"y\"}, {\"align\": \"left\", \"font\": {\"color\": \"#000000\"}, \"showarrow\": false, \"text\": \"79\", \"x\": 0.55, \"xanchor\": \"left\", \"xref\": \"x\", \"y\": 9, \"yref\": \"y\"}, {\"align\": \"left\", \"font\": {\"color\": \"#000000\"}, \"showarrow\": false, \"text\": \"114\", \"x\": 1.55, \"xanchor\": \"left\", \"xref\": \"x\", \"y\": 9, \"yref\": \"y\"}, {\"align\": \"left\", \"font\": {\"color\": \"#000000\"}, \"showarrow\": false, \"text\": \"35\", \"x\": 2.55, \"xanchor\": \"left\", \"xref\": \"x\", \"y\": 9, \"yref\": \"y\"}, {\"align\": \"left\", \"font\": {\"color\": \"#000000\"}, \"showarrow\": false, \"text\": \"Columbia\", \"x\": -0.45, \"xanchor\": \"left\", \"xref\": \"x\", \"y\": 10, \"yref\": \"y\"}, {\"align\": \"left\", \"font\": {\"color\": \"#000000\"}, \"showarrow\": false, \"text\": \"86\", \"x\": 0.55, \"xanchor\": \"left\", \"xref\": \"x\", \"y\": 10, \"yref\": \"y\"}, {\"align\": \"left\", \"font\": {\"color\": \"#000000\"}, \"showarrow\": false, \"text\": \"119\", \"x\": 1.55, \"xanchor\": \"left\", \"xref\": \"x\", \"y\": 10, \"yref\": \"y\"}, {\"align\": \"left\", \"font\": {\"color\": \"#000000\"}, \"showarrow\": false, \"text\": \"33\", \"x\": 2.55, \"xanchor\": \"left\", \"xref\": \"x\", \"y\": 10, \"yref\": \"y\"}, {\"align\": \"left\", \"font\": {\"color\": \"#000000\"}, \"showarrow\": false, \"text\": \"Duke\", \"x\": -0.45, \"xanchor\": \"left\", \"xref\": \"x\", \"y\": 11, \"yref\": \"y\"}, {\"align\": \"left\", \"font\": {\"color\": \"#000000\"}, \"showarrow\": false, \"text\": \"93\", \"x\": 0.55, \"xanchor\": \"left\", \"xref\": \"x\", \"y\": 11, \"yref\": \"y\"}, {\"align\": \"left\", \"font\": {\"color\": \"#000000\"}, \"showarrow\": false, \"text\": \"124\", \"x\": 1.55, \"xanchor\": \"left\", \"xref\": \"x\", \"y\": 11, \"yref\": \"y\"}, {\"align\": \"left\", \"font\": {\"color\": \"#000000\"}, \"showarrow\": false, \"text\": \"31\", \"x\": 2.55, \"xanchor\": \"left\", \"xref\": \"x\", \"y\": 11, \"yref\": \"y\"}, {\"align\": \"left\", \"font\": {\"color\": \"#000000\"}, \"showarrow\": false, \"text\": \"Dartmouth\", \"x\": -0.45, \"xanchor\": \"left\", \"xref\": \"x\", \"y\": 12, \"yref\": \"y\"}, {\"align\": \"left\", \"font\": {\"color\": \"#000000\"}, \"showarrow\": false, \"text\": \"84\", \"x\": 0.55, \"xanchor\": \"left\", \"xref\": \"x\", \"y\": 12, \"yref\": \"y\"}, {\"align\": \"left\", \"font\": {\"color\": \"#000000\"}, \"showarrow\": false, \"text\": \"114\", \"x\": 1.55, \"xanchor\": \"left\", \"xref\": \"x\", \"y\": 12, \"yref\": \"y\"}, {\"align\": \"left\", \"font\": {\"color\": \"#000000\"}, \"showarrow\": false, \"text\": \"30\", \"x\": 2.55, \"xanchor\": \"left\", \"xref\": \"x\", \"y\": 12, \"yref\": \"y\"}, {\"align\": \"left\", \"font\": {\"color\": \"#000000\"}, \"showarrow\": false, \"text\": \"NYU\", \"x\": -0.45, \"xanchor\": \"left\", \"xref\": \"x\", \"y\": 13, \"yref\": \"y\"}, {\"align\": \"left\", \"font\": {\"color\": \"#000000\"}, \"showarrow\": false, \"text\": \"67\", \"x\": 0.55, \"xanchor\": \"left\", \"xref\": \"x\", \"y\": 13, \"yref\": \"y\"}, {\"align\": \"left\", \"font\": {\"color\": \"#000000\"}, \"showarrow\": false, \"text\": \"94\", \"x\": 1.55, \"xanchor\": \"left\", \"xref\": \"x\", \"y\": 13, \"yref\": \"y\"}, {\"align\": \"left\", \"font\": {\"color\": \"#000000\"}, \"showarrow\": false, \"text\": \"27\", \"x\": 2.55, \"xanchor\": \"left\", \"xref\": \"x\", \"y\": 13, \"yref\": \"y\"}, {\"align\": \"left\", \"font\": {\"color\": \"#000000\"}, \"showarrow\": false, \"text\": \"Notre Dame\", \"x\": -0.45, \"xanchor\": \"left\", \"xref\": \"x\", \"y\": 14, \"yref\": \"y\"}, {\"align\": \"left\", \"font\": {\"color\": \"#000000\"}, \"showarrow\": false, \"text\": \"73\", \"x\": 0.55, \"xanchor\": \"left\", \"xref\": \"x\", \"y\": 14, \"yref\": \"y\"}, {\"align\": \"left\", \"font\": {\"color\": \"#000000\"}, \"showarrow\": false, \"text\": \"100\", \"x\": 1.55, \"xanchor\": \"left\", \"xref\": \"x\", \"y\": 14, \"yref\": \"y\"}, {\"align\": \"left\", \"font\": {\"color\": \"#000000\"}, \"showarrow\": false, \"text\": \"27\", \"x\": 2.55, \"xanchor\": \"left\", \"xref\": \"x\", \"y\": 14, \"yref\": \"y\"}, {\"align\": \"left\", \"font\": {\"color\": \"#000000\"}, \"showarrow\": false, \"text\": \"Cornell\", \"x\": -0.45, \"xanchor\": \"left\", \"xref\": \"x\", \"y\": 15, \"yref\": \"y\"}, {\"align\": \"left\", \"font\": {\"color\": \"#000000\"}, \"showarrow\": false, \"text\": \"80\", \"x\": 0.55, \"xanchor\": \"left\", \"xref\": \"x\", \"y\": 15, \"yref\": \"y\"}, {\"align\": \"left\", \"font\": {\"color\": \"#000000\"}, \"showarrow\": false, \"text\": \"107\", \"x\": 1.55, \"xanchor\": \"left\", \"xref\": \"x\", \"y\": 15, \"yref\": \"y\"}, {\"align\": \"left\", \"font\": {\"color\": \"#000000\"}, \"showarrow\": false, \"text\": \"27\", \"x\": 2.55, \"xanchor\": \"left\", \"xref\": \"x\", \"y\": 15, \"yref\": \"y\"}, {\"align\": \"left\", \"font\": {\"color\": \"#000000\"}, \"showarrow\": false, \"text\": \"Michigan\", \"x\": -0.45, \"xanchor\": \"left\", \"xref\": \"x\", \"y\": 16, \"yref\": \"y\"}, {\"align\": \"left\", \"font\": {\"color\": \"#000000\"}, \"showarrow\": false, \"text\": \"62\", \"x\": 0.55, \"xanchor\": \"left\", \"xref\": \"x\", \"y\": 16, \"yref\": \"y\"}, {\"align\": \"left\", \"font\": {\"color\": \"#000000\"}, \"showarrow\": false, \"text\": \"84\", \"x\": 1.55, \"xanchor\": \"left\", \"xref\": \"x\", \"y\": 16, \"yref\": \"y\"}, {\"align\": \"left\", \"font\": {\"color\": \"#000000\"}, \"showarrow\": false, \"text\": \"22\", \"x\": 2.55, \"xanchor\": \"left\", \"xref\": \"x\", \"y\": 16, \"yref\": \"y\"}, {\"align\": \"left\", \"font\": {\"color\": \"#000000\"}, \"showarrow\": false, \"text\": \"Brown\", \"x\": -0.45, \"xanchor\": \"left\", \"xref\": \"x\", \"y\": 17, \"yref\": \"y\"}, {\"align\": \"left\", \"font\": {\"color\": \"#000000\"}, \"showarrow\": false, \"text\": \"72\", \"x\": 0.55, \"xanchor\": \"left\", \"xref\": \"x\", \"y\": 17, \"yref\": \"y\"}, {\"align\": \"left\", \"font\": {\"color\": \"#000000\"}, \"showarrow\": false, \"text\": \"92\", \"x\": 1.55, \"xanchor\": \"left\", \"xref\": \"x\", \"y\": 17, \"yref\": \"y\"}, {\"align\": \"left\", \"font\": {\"color\": \"#000000\"}, \"showarrow\": false, \"text\": \"20\", \"x\": 2.55, \"xanchor\": \"left\", \"xref\": \"x\", \"y\": 17, \"yref\": \"y\"}, {\"align\": \"left\", \"font\": {\"color\": \"#000000\"}, \"showarrow\": false, \"text\": \"Berkeley\", \"x\": -0.45, \"xanchor\": \"left\", \"xref\": \"x\", \"y\": 18, \"yref\": \"y\"}, {\"align\": \"left\", \"font\": {\"color\": \"#000000\"}, \"showarrow\": false, \"text\": \"71\", \"x\": 0.55, \"xanchor\": \"left\", \"xref\": \"x\", \"y\": 18, \"yref\": \"y\"}, {\"align\": \"left\", \"font\": {\"color\": \"#000000\"}, \"showarrow\": false, \"text\": \"88\", \"x\": 1.55, \"xanchor\": \"left\", \"xref\": \"x\", \"y\": 18, \"yref\": \"y\"}, {\"align\": \"left\", \"font\": {\"color\": \"#000000\"}, \"showarrow\": false, \"text\": \"17\", \"x\": 2.55, \"xanchor\": \"left\", \"xref\": \"x\", \"y\": 18, \"yref\": \"y\"}, {\"align\": \"left\", \"font\": {\"color\": \"#000000\"}, \"showarrow\": false, \"text\": \"Emory\", \"x\": -0.45, \"xanchor\": \"left\", \"xref\": \"x\", \"y\": 19, \"yref\": \"y\"}, {\"align\": \"left\", \"font\": {\"color\": \"#000000\"}, \"showarrow\": false, \"text\": \"68\", \"x\": 0.55, \"xanchor\": \"left\", \"xref\": \"x\", \"y\": 19, \"yref\": \"y\"}, {\"align\": \"left\", \"font\": {\"color\": \"#000000\"}, \"showarrow\": false, \"text\": \"82\", \"x\": 1.55, \"xanchor\": \"left\", \"xref\": \"x\", \"y\": 19, \"yref\": \"y\"}, {\"align\": \"left\", \"font\": {\"color\": \"#000000\"}, \"showarrow\": false, \"text\": \"14\", \"x\": 2.55, \"xanchor\": \"left\", \"xref\": \"x\", \"y\": 19, \"yref\": \"y\"}, {\"align\": \"left\", \"font\": {\"color\": \"#000000\"}, \"showarrow\": false, \"text\": \"UCLA\", \"x\": -0.45, \"xanchor\": \"left\", \"xref\": \"x\", \"y\": 20, \"yref\": \"y\"}, {\"align\": \"left\", \"font\": {\"color\": \"#000000\"}, \"showarrow\": false, \"text\": \"64\", \"x\": 0.55, \"xanchor\": \"left\", \"xref\": \"x\", \"y\": 20, \"yref\": \"y\"}, {\"align\": \"left\", \"font\": {\"color\": \"#000000\"}, \"showarrow\": false, \"text\": \"78\", \"x\": 1.55, \"xanchor\": \"left\", \"xref\": \"x\", \"y\": 20, \"yref\": \"y\"}, {\"align\": \"left\", \"font\": {\"color\": \"#000000\"}, \"showarrow\": false, \"text\": \"14\", \"x\": 2.55, \"xanchor\": \"left\", \"xref\": \"x\", \"y\": 20, \"yref\": \"y\"}, {\"align\": \"left\", \"font\": {\"color\": \"#000000\"}, \"showarrow\": false, \"text\": \"SoCal\", \"x\": -0.45, \"xanchor\": \"left\", \"xref\": \"x\", \"y\": 21, \"yref\": \"y\"}, {\"align\": \"left\", \"font\": {\"color\": \"#000000\"}, \"showarrow\": false, \"text\": \"72\", \"x\": 0.55, \"xanchor\": \"left\", \"xref\": \"x\", \"y\": 21, \"yref\": \"y\"}, {\"align\": \"left\", \"font\": {\"color\": \"#000000\"}, \"showarrow\": false, \"text\": \"81\", \"x\": 1.55, \"xanchor\": \"left\", \"xref\": \"x\", \"y\": 21, \"yref\": \"y\"}, {\"align\": \"left\", \"font\": {\"color\": \"#000000\"}, \"showarrow\": false, \"text\": \"9\", \"x\": 2.55, \"xanchor\": \"left\", \"xref\": \"x\", \"y\": 21, \"yref\": \"y\"}], \"height\": 710, \"margin\": {\"b\": 0, \"l\": 0, \"r\": 0, \"t\": 0}, \"xaxis\": {\"dtick\": 1, \"gridwidth\": 2, \"showticklabels\": false, \"tick0\": -0.5, \"ticks\": \"\", \"zeroline\": false}, \"yaxis\": {\"autorange\": \"reversed\", \"dtick\": 1, \"gridwidth\": 2, \"showticklabels\": false, \"tick0\": 0.5, \"ticks\": \"\", \"zeroline\": false}}, {\"showLink\": true, \"linkText\": \"Export to plot.ly\", \"plotlyServerURL\": \"https://plot.ly\"})});</script><script type=\"text/javascript\">window.addEventListener(\"resize\", function(){window._Plotly.Plots.resize(document.getElementById(\"de60c28c-3abc-489f-a8f1-88d5541c89df\"));});</script>"
      ]
     },
     "metadata": {},
     "output_type": "display_data"
    }
   ],
   "source": [
    "df = pd.read_csv(\"school_earnings.csv\")\n",
    "\n",
    "# 将数据显示为一个表格\n",
    "table = ff.create_table(df)\n",
    "plotly.offline.iplot(table, filename='jupyter-table1')"
   ]
  },
  {
   "cell_type": "markdown",
   "metadata": {},
   "source": [
    "#### 基本图形\n",
    "1. 在Ployly中，使用dict和使用go.XXX是同样的效果\n",
    "2. trace是一个图形包含的数据，也包括marker指定图形格式\n",
    "3. data是一个至少包含一个trace的数据列表"
   ]
  },
  {
   "cell_type": "code",
   "execution_count": 38,
   "metadata": {},
   "outputs": [
    {
     "data": {
      "application/vnd.plotly.v1+json": {
       "config": {
        "linkText": "Export to plot.ly",
        "plotlyServerURL": "https://plot.ly",
        "showLink": true
       },
       "data": [
        {
         "marker": {
          "color": "blue",
          "opacity": 0.4
         },
         "name": "Gap",
         "type": "bar",
         "uid": "abdc156a-3088-4333-89f6-213f28a70515",
         "x": [
          "MIT",
          "Stanford",
          "Harvard",
          "U.Penn",
          "Princeton",
          "Chicago",
          "Georgetown",
          "Tufts",
          "Yale",
          "Columbia",
          "Duke",
          "Dartmouth",
          "NYU",
          "Notre Dame",
          "Cornell",
          "Michigan",
          "Brown",
          "Berkeley",
          "Emory",
          "UCLA",
          "SoCal"
         ],
         "y": [
          58,
          55,
          53,
          49,
          47,
          40,
          37,
          36,
          35,
          33,
          31,
          30,
          27,
          27,
          27,
          22,
          20,
          17,
          14,
          14,
          9
         ]
        }
       ],
       "layout": {
        "title": "hello world"
       }
      },
      "text/html": [
       "<div id=\"4bfa9412-3728-44fb-b53a-38ec464d7577\" style=\"height: 525px; width: 100%;\" class=\"plotly-graph-div\"></div><script type=\"text/javascript\">require([\"plotly\"], function(Plotly) { window.PLOTLYENV=window.PLOTLYENV || {};window.PLOTLYENV.BASE_URL=\"https://plot.ly\";Plotly.newPlot(\"4bfa9412-3728-44fb-b53a-38ec464d7577\", [{\"marker\": {\"color\": \"blue\", \"opacity\": 0.4}, \"name\": \"Gap\", \"x\": [\"MIT\", \"Stanford\", \"Harvard\", \"U.Penn\", \"Princeton\", \"Chicago\", \"Georgetown\", \"Tufts\", \"Yale\", \"Columbia\", \"Duke\", \"Dartmouth\", \"NYU\", \"Notre Dame\", \"Cornell\", \"Michigan\", \"Brown\", \"Berkeley\", \"Emory\", \"UCLA\", \"SoCal\"], \"y\": [58, 55, 53, 49, 47, 40, 37, 36, 35, 33, 31, 30, 27, 27, 27, 22, 20, 17, 14, 14, 9], \"type\": \"bar\", \"uid\": \"a87823ee-13fc-404b-8ec8-4f151d5088ae\"}], {\"title\": \"hello world\"}, {\"showLink\": true, \"linkText\": \"Export to plot.ly\", \"plotlyServerURL\": \"https://plot.ly\"})});</script><script type=\"text/javascript\">window.addEventListener(\"resize\", function(){window._Plotly.Plots.resize(document.getElementById(\"4bfa9412-3728-44fb-b53a-38ec464d7577\"));});</script>"
      ],
      "text/vnd.plotly.v1+html": [
       "<div id=\"4bfa9412-3728-44fb-b53a-38ec464d7577\" style=\"height: 525px; width: 100%;\" class=\"plotly-graph-div\"></div><script type=\"text/javascript\">require([\"plotly\"], function(Plotly) { window.PLOTLYENV=window.PLOTLYENV || {};window.PLOTLYENV.BASE_URL=\"https://plot.ly\";Plotly.newPlot(\"4bfa9412-3728-44fb-b53a-38ec464d7577\", [{\"marker\": {\"color\": \"blue\", \"opacity\": 0.4}, \"name\": \"Gap\", \"x\": [\"MIT\", \"Stanford\", \"Harvard\", \"U.Penn\", \"Princeton\", \"Chicago\", \"Georgetown\", \"Tufts\", \"Yale\", \"Columbia\", \"Duke\", \"Dartmouth\", \"NYU\", \"Notre Dame\", \"Cornell\", \"Michigan\", \"Brown\", \"Berkeley\", \"Emory\", \"UCLA\", \"SoCal\"], \"y\": [58, 55, 53, 49, 47, 40, 37, 36, 35, 33, 31, 30, 27, 27, 27, 22, 20, 17, 14, 14, 9], \"type\": \"bar\", \"uid\": \"a87823ee-13fc-404b-8ec8-4f151d5088ae\"}], {\"title\": \"hello world\"}, {\"showLink\": true, \"linkText\": \"Export to plot.ly\", \"plotlyServerURL\": \"https://plot.ly\"})});</script><script type=\"text/javascript\">window.addEventListener(\"resize\", function(){window._Plotly.Plots.resize(document.getElementById(\"4bfa9412-3728-44fb-b53a-38ec464d7577\"));});</script>"
      ]
     },
     "metadata": {},
     "output_type": "display_data"
    }
   ],
   "source": [
    "# 柱状图\n",
    "trace = go.Bar(x=df.School, y=df.Gap, name=\"Gap\", marker=dict(color='blue', opacity=0.4))\n",
    "layout = go.Layout(title=\"hello world\")\n",
    "\n",
    "plotly.offline.iplot({\n",
    "    \"data\": [trace],\n",
    "    \"layout\": layout\n",
    "}, filename='jupyter-basic_bar')"
   ]
  },
  {
   "cell_type": "code",
   "execution_count": 39,
   "metadata": {},
   "outputs": [
    {
     "data": {
      "application/vnd.plotly.v1+json": {
       "config": {
        "linkText": "Export to plot.ly",
        "plotlyServerURL": "https://plot.ly",
        "showLink": true
       },
       "data": [
        {
         "marker": {
          "color": "#ffcdd2"
         },
         "name": "Women",
         "type": "bar",
         "uid": "bf5b6a6e-fe91-4aee-97d1-a7f56e90ae51",
         "x": [
          "MIT",
          "Stanford",
          "Harvard",
          "U.Penn",
          "Princeton",
          "Chicago",
          "Georgetown",
          "Tufts",
          "Yale",
          "Columbia",
          "Duke",
          "Dartmouth",
          "NYU",
          "Notre Dame",
          "Cornell",
          "Michigan",
          "Brown",
          "Berkeley",
          "Emory",
          "UCLA",
          "SoCal"
         ],
         "y": [
          94,
          96,
          112,
          92,
          90,
          78,
          94,
          76,
          79,
          86,
          93,
          84,
          67,
          73,
          80,
          62,
          72,
          71,
          68,
          64,
          72
         ]
        },
        {
         "marker": {
          "color": "#A2D5F2"
         },
         "name": "Men",
         "type": "bar",
         "uid": "1718e681-fa59-414c-9c69-6732039fd2c2",
         "x": [
          "MIT",
          "Stanford",
          "Harvard",
          "U.Penn",
          "Princeton",
          "Chicago",
          "Georgetown",
          "Tufts",
          "Yale",
          "Columbia",
          "Duke",
          "Dartmouth",
          "NYU",
          "Notre Dame",
          "Cornell",
          "Michigan",
          "Brown",
          "Berkeley",
          "Emory",
          "UCLA",
          "SoCal"
         ],
         "y": [
          152,
          151,
          165,
          141,
          137,
          118,
          131,
          112,
          114,
          119,
          124,
          114,
          94,
          100,
          107,
          84,
          92,
          88,
          82,
          78,
          81
         ]
        },
        {
         "marker": {
          "color": "#59606D"
         },
         "name": "Gap",
         "type": "bar",
         "uid": "a1dbc251-c576-490b-befd-b1eb0aa939b0",
         "x": [
          "MIT",
          "Stanford",
          "Harvard",
          "U.Penn",
          "Princeton",
          "Chicago",
          "Georgetown",
          "Tufts",
          "Yale",
          "Columbia",
          "Duke",
          "Dartmouth",
          "NYU",
          "Notre Dame",
          "Cornell",
          "Michigan",
          "Brown",
          "Berkeley",
          "Emory",
          "UCLA",
          "SoCal"
         ],
         "y": [
          58,
          55,
          53,
          49,
          47,
          40,
          37,
          36,
          35,
          33,
          31,
          30,
          27,
          27,
          27,
          22,
          20,
          17,
          14,
          14,
          9
         ]
        }
       ],
       "layout": {
        "title": "Average Earnings for Graduates",
        "xaxis": {
         "title": "School"
        },
        "yaxis": {
         "title": "Salary (in thousands)"
        }
       }
      },
      "text/html": [
       "<div id=\"ba09ce5e-d553-45f8-b6f2-f018d211a4a8\" style=\"height: 525px; width: 100%;\" class=\"plotly-graph-div\"></div><script type=\"text/javascript\">require([\"plotly\"], function(Plotly) { window.PLOTLYENV=window.PLOTLYENV || {};window.PLOTLYENV.BASE_URL=\"https://plot.ly\";Plotly.newPlot(\"ba09ce5e-d553-45f8-b6f2-f018d211a4a8\", [{\"marker\": {\"color\": \"#ffcdd2\"}, \"name\": \"Women\", \"x\": [\"MIT\", \"Stanford\", \"Harvard\", \"U.Penn\", \"Princeton\", \"Chicago\", \"Georgetown\", \"Tufts\", \"Yale\", \"Columbia\", \"Duke\", \"Dartmouth\", \"NYU\", \"Notre Dame\", \"Cornell\", \"Michigan\", \"Brown\", \"Berkeley\", \"Emory\", \"UCLA\", \"SoCal\"], \"y\": [94, 96, 112, 92, 90, 78, 94, 76, 79, 86, 93, 84, 67, 73, 80, 62, 72, 71, 68, 64, 72], \"type\": \"bar\", \"uid\": \"bf5b6a6e-fe91-4aee-97d1-a7f56e90ae51\"}, {\"marker\": {\"color\": \"#A2D5F2\"}, \"name\": \"Men\", \"x\": [\"MIT\", \"Stanford\", \"Harvard\", \"U.Penn\", \"Princeton\", \"Chicago\", \"Georgetown\", \"Tufts\", \"Yale\", \"Columbia\", \"Duke\", \"Dartmouth\", \"NYU\", \"Notre Dame\", \"Cornell\", \"Michigan\", \"Brown\", \"Berkeley\", \"Emory\", \"UCLA\", \"SoCal\"], \"y\": [152, 151, 165, 141, 137, 118, 131, 112, 114, 119, 124, 114, 94, 100, 107, 84, 92, 88, 82, 78, 81], \"type\": \"bar\", \"uid\": \"1718e681-fa59-414c-9c69-6732039fd2c2\"}, {\"marker\": {\"color\": \"#59606D\"}, \"name\": \"Gap\", \"x\": [\"MIT\", \"Stanford\", \"Harvard\", \"U.Penn\", \"Princeton\", \"Chicago\", \"Georgetown\", \"Tufts\", \"Yale\", \"Columbia\", \"Duke\", \"Dartmouth\", \"NYU\", \"Notre Dame\", \"Cornell\", \"Michigan\", \"Brown\", \"Berkeley\", \"Emory\", \"UCLA\", \"SoCal\"], \"y\": [58, 55, 53, 49, 47, 40, 37, 36, 35, 33, 31, 30, 27, 27, 27, 22, 20, 17, 14, 14, 9], \"type\": \"bar\", \"uid\": \"a1dbc251-c576-490b-befd-b1eb0aa939b0\"}], {\"title\": \"Average Earnings for Graduates\", \"xaxis\": {\"title\": \"School\"}, \"yaxis\": {\"title\": \"Salary (in thousands)\"}}, {\"showLink\": true, \"linkText\": \"Export to plot.ly\", \"plotlyServerURL\": \"https://plot.ly\"})});</script><script type=\"text/javascript\">window.addEventListener(\"resize\", function(){window._Plotly.Plots.resize(document.getElementById(\"ba09ce5e-d553-45f8-b6f2-f018d211a4a8\"));});</script>"
      ],
      "text/vnd.plotly.v1+html": [
       "<div id=\"ba09ce5e-d553-45f8-b6f2-f018d211a4a8\" style=\"height: 525px; width: 100%;\" class=\"plotly-graph-div\"></div><script type=\"text/javascript\">require([\"plotly\"], function(Plotly) { window.PLOTLYENV=window.PLOTLYENV || {};window.PLOTLYENV.BASE_URL=\"https://plot.ly\";Plotly.newPlot(\"ba09ce5e-d553-45f8-b6f2-f018d211a4a8\", [{\"marker\": {\"color\": \"#ffcdd2\"}, \"name\": \"Women\", \"x\": [\"MIT\", \"Stanford\", \"Harvard\", \"U.Penn\", \"Princeton\", \"Chicago\", \"Georgetown\", \"Tufts\", \"Yale\", \"Columbia\", \"Duke\", \"Dartmouth\", \"NYU\", \"Notre Dame\", \"Cornell\", \"Michigan\", \"Brown\", \"Berkeley\", \"Emory\", \"UCLA\", \"SoCal\"], \"y\": [94, 96, 112, 92, 90, 78, 94, 76, 79, 86, 93, 84, 67, 73, 80, 62, 72, 71, 68, 64, 72], \"type\": \"bar\", \"uid\": \"bf5b6a6e-fe91-4aee-97d1-a7f56e90ae51\"}, {\"marker\": {\"color\": \"#A2D5F2\"}, \"name\": \"Men\", \"x\": [\"MIT\", \"Stanford\", \"Harvard\", \"U.Penn\", \"Princeton\", \"Chicago\", \"Georgetown\", \"Tufts\", \"Yale\", \"Columbia\", \"Duke\", \"Dartmouth\", \"NYU\", \"Notre Dame\", \"Cornell\", \"Michigan\", \"Brown\", \"Berkeley\", \"Emory\", \"UCLA\", \"SoCal\"], \"y\": [152, 151, 165, 141, 137, 118, 131, 112, 114, 119, 124, 114, 94, 100, 107, 84, 92, 88, 82, 78, 81], \"type\": \"bar\", \"uid\": \"1718e681-fa59-414c-9c69-6732039fd2c2\"}, {\"marker\": {\"color\": \"#59606D\"}, \"name\": \"Gap\", \"x\": [\"MIT\", \"Stanford\", \"Harvard\", \"U.Penn\", \"Princeton\", \"Chicago\", \"Georgetown\", \"Tufts\", \"Yale\", \"Columbia\", \"Duke\", \"Dartmouth\", \"NYU\", \"Notre Dame\", \"Cornell\", \"Michigan\", \"Brown\", \"Berkeley\", \"Emory\", \"UCLA\", \"SoCal\"], \"y\": [58, 55, 53, 49, 47, 40, 37, 36, 35, 33, 31, 30, 27, 27, 27, 22, 20, 17, 14, 14, 9], \"type\": \"bar\", \"uid\": \"a1dbc251-c576-490b-befd-b1eb0aa939b0\"}], {\"title\": \"Average Earnings for Graduates\", \"xaxis\": {\"title\": \"School\"}, \"yaxis\": {\"title\": \"Salary (in thousands)\"}}, {\"showLink\": true, \"linkText\": \"Export to plot.ly\", \"plotlyServerURL\": \"https://plot.ly\"})});</script><script type=\"text/javascript\">window.addEventListener(\"resize\", function(){window._Plotly.Plots.resize(document.getElementById(\"ba09ce5e-d553-45f8-b6f2-f018d211a4a8\"));});</script>"
      ]
     },
     "metadata": {},
     "output_type": "display_data"
    }
   ],
   "source": [
    "# 更复杂的柱状图，\n",
    "trace_women = go.Bar(x=df.School, y=df.Women, name='Women', marker=dict(color='#ffcdd2'))\n",
    "trace_men = go.Bar(x=df.School, y=df.Men, name='Men', marker=dict(color='#A2D5F2'))\n",
    "trace_gap = go.Bar(x=df.School, y=df.Gap, name='Gap', marker=dict(color='#59606D'))\n",
    "\n",
    "data = [trace_women, trace_men, trace_gap]\n",
    "layout = go.Layout(\n",
    "    title=\"Average Earnings for Graduates\", \n",
    "    xaxis=dict(title='School'), \n",
    "    yaxis=dict(title='Salary (in thousands)')\n",
    ")\n",
    "\n",
    "fig = go.Figure(data=data, layout=layout)\n",
    "plotly.offline.iplot(fig, filename='jupyter-styled_bar')"
   ]
  },
  {
   "cell_type": "code",
   "execution_count": 49,
   "metadata": {},
   "outputs": [
    {
     "data": {
      "application/vnd.plotly.v1+json": {
       "config": {
        "linkText": "Export to plot.ly",
        "plotlyServerURL": "https://plot.ly",
        "showLink": true
       },
       "data": [
        {
         "marker": {
          "color": "blue",
          "opacity": 0.5,
          "size": 10
         },
         "mode": "markers",
         "name": "Nothing",
         "type": "scatter",
         "uid": "2da168e0-dad4-4ce9-9662-5607bf3f926c",
         "x": [
          152,
          151,
          165,
          141,
          137,
          118,
          131,
          112,
          114,
          119,
          124,
          114,
          94,
          100,
          107,
          84,
          92,
          88,
          82,
          78,
          81
         ],
         "y": [
          94,
          96,
          112,
          92,
          90,
          78,
          94,
          76,
          79,
          86,
          93,
          84,
          67,
          73,
          80,
          62,
          72,
          71,
          68,
          64,
          72
         ]
        }
       ],
       "layout": {
        "hovermode": "closest",
        "title": "Basic scatter chart",
        "xaxis": {
         "title": "Women"
        },
        "yaxis": {
         "title": "Men"
        }
       }
      },
      "text/html": [
       "<div id=\"2f9ad4d6-81cd-4445-a7d1-ea4389d513d9\" style=\"height: 525px; width: 100%;\" class=\"plotly-graph-div\"></div><script type=\"text/javascript\">require([\"plotly\"], function(Plotly) { window.PLOTLYENV=window.PLOTLYENV || {};window.PLOTLYENV.BASE_URL=\"https://plot.ly\";Plotly.newPlot(\"2f9ad4d6-81cd-4445-a7d1-ea4389d513d9\", [{\"marker\": {\"color\": \"blue\", \"opacity\": 0.5, \"size\": 10}, \"mode\": \"markers\", \"name\": \"Nothing\", \"x\": [152, 151, 165, 141, 137, 118, 131, 112, 114, 119, 124, 114, 94, 100, 107, 84, 92, 88, 82, 78, 81], \"y\": [94, 96, 112, 92, 90, 78, 94, 76, 79, 86, 93, 84, 67, 73, 80, 62, 72, 71, 68, 64, 72], \"type\": \"scatter\", \"uid\": \"2ed30a9e-fb43-4066-83c5-f091f90624fe\"}], {\"hovermode\": \"closest\", \"title\": \"Basic scatter chart\", \"xaxis\": {\"title\": \"Women\"}, \"yaxis\": {\"title\": \"Men\"}}, {\"showLink\": true, \"linkText\": \"Export to plot.ly\", \"plotlyServerURL\": \"https://plot.ly\"})});</script><script type=\"text/javascript\">window.addEventListener(\"resize\", function(){window._Plotly.Plots.resize(document.getElementById(\"2f9ad4d6-81cd-4445-a7d1-ea4389d513d9\"));});</script>"
      ],
      "text/vnd.plotly.v1+html": [
       "<div id=\"2f9ad4d6-81cd-4445-a7d1-ea4389d513d9\" style=\"height: 525px; width: 100%;\" class=\"plotly-graph-div\"></div><script type=\"text/javascript\">require([\"plotly\"], function(Plotly) { window.PLOTLYENV=window.PLOTLYENV || {};window.PLOTLYENV.BASE_URL=\"https://plot.ly\";Plotly.newPlot(\"2f9ad4d6-81cd-4445-a7d1-ea4389d513d9\", [{\"marker\": {\"color\": \"blue\", \"opacity\": 0.5, \"size\": 10}, \"mode\": \"markers\", \"name\": \"Nothing\", \"x\": [152, 151, 165, 141, 137, 118, 131, 112, 114, 119, 124, 114, 94, 100, 107, 84, 92, 88, 82, 78, 81], \"y\": [94, 96, 112, 92, 90, 78, 94, 76, 79, 86, 93, 84, 67, 73, 80, 62, 72, 71, 68, 64, 72], \"type\": \"scatter\", \"uid\": \"2ed30a9e-fb43-4066-83c5-f091f90624fe\"}], {\"hovermode\": \"closest\", \"title\": \"Basic scatter chart\", \"xaxis\": {\"title\": \"Women\"}, \"yaxis\": {\"title\": \"Men\"}}, {\"showLink\": true, \"linkText\": \"Export to plot.ly\", \"plotlyServerURL\": \"https://plot.ly\"})});</script><script type=\"text/javascript\">window.addEventListener(\"resize\", function(){window._Plotly.Plots.resize(document.getElementById(\"2f9ad4d6-81cd-4445-a7d1-ea4389d513d9\"));});</script>"
      ]
     },
     "metadata": {},
     "output_type": "display_data"
    }
   ],
   "source": [
    "# 散点图\n",
    "trace = go.Scatter(x=df.Men, y=df.Women, name=\"Nothing\", mode=\"markers\", \n",
    "                   marker=dict(color='blue', size=10, opacity=0.5))\n",
    "layout = dict(\n",
    "    title='Basic scatter chart',\n",
    "    yaxis=dict(title = 'Men'),\n",
    "    xaxis=dict(title = 'Women'),\n",
    "    hovermode='closest',\n",
    ")\n",
    "\n",
    "# fig = go.Figure(data=[trace], layout=layout)\n",
    "fig = dict(data = [trace], layout = layout)\n",
    "plotly.offline.iplot(fig, filename='Basic scatter chart')"
   ]
  },
  {
   "cell_type": "code",
   "execution_count": 52,
   "metadata": {},
   "outputs": [
    {
     "data": {
      "application/vnd.plotly.v1+json": {
       "config": {
        "linkText": "Export to plot.ly",
        "plotlyServerURL": "https://plot.ly",
        "showLink": true
       },
       "data": [
        {
         "marker": {
          "color": "orange",
          "size": 5
         },
         "mode": "lines+markers",
         "name": "lines+markers",
         "type": "scatter",
         "uid": "add62634-ebbf-44c4-84b4-3d329b0851c9",
         "x": [
          0,
          0.010101010101010102,
          0.020202020202020204,
          0.030303030303030304,
          0.04040404040404041,
          0.05050505050505051,
          0.06060606060606061,
          0.07070707070707072,
          0.08080808080808081,
          0.09090909090909091,
          0.10101010101010102,
          0.11111111111111112,
          0.12121212121212122,
          0.13131313131313133,
          0.14141414141414144,
          0.15151515151515152,
          0.16161616161616163,
          0.17171717171717174,
          0.18181818181818182,
          0.19191919191919193,
          0.20202020202020204,
          0.21212121212121213,
          0.22222222222222224,
          0.23232323232323235,
          0.24242424242424243,
          0.25252525252525254,
          0.26262626262626265,
          0.27272727272727276,
          0.2828282828282829,
          0.29292929292929293,
          0.30303030303030304,
          0.31313131313131315,
          0.32323232323232326,
          0.33333333333333337,
          0.3434343434343435,
          0.3535353535353536,
          0.36363636363636365,
          0.37373737373737376,
          0.38383838383838387,
          0.393939393939394,
          0.4040404040404041,
          0.4141414141414142,
          0.42424242424242425,
          0.43434343434343436,
          0.4444444444444445,
          0.4545454545454546,
          0.4646464646464647,
          0.4747474747474748,
          0.48484848484848486,
          0.494949494949495,
          0.5050505050505051,
          0.5151515151515152,
          0.5252525252525253,
          0.5353535353535354,
          0.5454545454545455,
          0.5555555555555556,
          0.5656565656565657,
          0.5757575757575758,
          0.5858585858585859,
          0.595959595959596,
          0.6060606060606061,
          0.6161616161616162,
          0.6262626262626263,
          0.6363636363636365,
          0.6464646464646465,
          0.6565656565656566,
          0.6666666666666667,
          0.6767676767676768,
          0.686868686868687,
          0.696969696969697,
          0.7070707070707072,
          0.7171717171717172,
          0.7272727272727273,
          0.7373737373737375,
          0.7474747474747475,
          0.7575757575757577,
          0.7676767676767677,
          0.7777777777777778,
          0.787878787878788,
          0.797979797979798,
          0.8080808080808082,
          0.8181818181818182,
          0.8282828282828284,
          0.8383838383838385,
          0.8484848484848485,
          0.8585858585858587,
          0.8686868686868687,
          0.8787878787878789,
          0.888888888888889,
          0.8989898989898991,
          0.9090909090909092,
          0.9191919191919192,
          0.9292929292929294,
          0.9393939393939394,
          0.9494949494949496,
          0.9595959595959597,
          0.9696969696969697,
          0.9797979797979799,
          0.98989898989899,
          1
         ],
         "y": [
          8.909819861543383,
          10.451733245365759,
          7.644956057044898,
          5.797467844714419,
          9.24619885658844,
          7.45062302261637,
          6.068062848153886,
          8.933589570718771,
          7.6511706651087295,
          6.855323814868605,
          7.6856533819595185,
          8.398925648529632,
          9.61419203323937,
          7.175298109873771,
          7.362488334305629,
          7.7541820874256935,
          7.333802395759827,
          8.36365337661482,
          9.309281332083595,
          7.691087186594585,
          7.119615243162004,
          8.199549488718054,
          7.8131974237192665,
          7.221828340853794,
          7.999267942350476,
          9.396963629030951,
          8.332837948313136,
          7.644742929598676,
          6.903208612590255,
          7.843813107375499,
          6.047470611306402,
          9.059357624500326,
          8.147025938874657,
          9.385603964920541,
          9.12571887827825,
          6.697681681906356,
          6.595231391028394,
          8.835266091699927,
          8.341550662460422,
          8.434678610868723,
          7.709013734347221,
          6.408933728807013,
          6.750067844743309,
          7.518429254669392,
          7.13097022059572,
          8.500522756011865,
          8.593895823561011,
          8.312995963081418,
          6.916769804633013,
          7.183688264624536,
          9.117694269922104,
          9.717133938448171,
          10.997614072883064,
          8.49112569984519,
          8.104772623894572,
          8.781551427943501,
          7.495928160148143,
          8.151709116453222,
          8.74413814107671,
          7.650035656726794,
          7.326071291586919,
          7.861279220469145,
          8.119019289080562,
          8.19532802688875,
          7.303016818090446,
          8.497476084150817,
          8.456626978391837,
          7.299826238533464,
          8.311987002734737,
          7.8864671061013345,
          7.552281377869964,
          7.462197896914936,
          7.3147276186775905,
          6.613911133427077,
          9.406977435105103,
          6.559312202323737,
          7.4737888865717075,
          6.5317494120893915,
          7.396781046107441,
          7.470371415099242,
          10.100264391166647,
          7.8157403386445,
          9.866098066187494,
          8.038568976294695,
          8.168964439319497,
          8.916111099182089,
          6.631841937146299,
          8.0466072723629,
          8.608014707869163,
          8.912577720685837,
          8.28385806577405,
          9.230643590114921,
          6.418013297461746,
          6.621871969914268,
          8.66427824951293,
          8.799635214747418,
          8.587915370292066,
          8.337900920075276,
          7.657814323760169,
          9.022153979871113
         ]
        },
        {
         "marker": {
          "color": "green"
         },
         "mode": "lines",
         "name": "lines",
         "type": "scatter",
         "uid": "412107f6-f276-4cac-b656-ec664885cf2d",
         "x": [
          0,
          0.010101010101010102,
          0.020202020202020204,
          0.030303030303030304,
          0.04040404040404041,
          0.05050505050505051,
          0.06060606060606061,
          0.07070707070707072,
          0.08080808080808081,
          0.09090909090909091,
          0.10101010101010102,
          0.11111111111111112,
          0.12121212121212122,
          0.13131313131313133,
          0.14141414141414144,
          0.15151515151515152,
          0.16161616161616163,
          0.17171717171717174,
          0.18181818181818182,
          0.19191919191919193,
          0.20202020202020204,
          0.21212121212121213,
          0.22222222222222224,
          0.23232323232323235,
          0.24242424242424243,
          0.25252525252525254,
          0.26262626262626265,
          0.27272727272727276,
          0.2828282828282829,
          0.29292929292929293,
          0.30303030303030304,
          0.31313131313131315,
          0.32323232323232326,
          0.33333333333333337,
          0.3434343434343435,
          0.3535353535353536,
          0.36363636363636365,
          0.37373737373737376,
          0.38383838383838387,
          0.393939393939394,
          0.4040404040404041,
          0.4141414141414142,
          0.42424242424242425,
          0.43434343434343436,
          0.4444444444444445,
          0.4545454545454546,
          0.4646464646464647,
          0.4747474747474748,
          0.48484848484848486,
          0.494949494949495,
          0.5050505050505051,
          0.5151515151515152,
          0.5252525252525253,
          0.5353535353535354,
          0.5454545454545455,
          0.5555555555555556,
          0.5656565656565657,
          0.5757575757575758,
          0.5858585858585859,
          0.595959595959596,
          0.6060606060606061,
          0.6161616161616162,
          0.6262626262626263,
          0.6363636363636365,
          0.6464646464646465,
          0.6565656565656566,
          0.6666666666666667,
          0.6767676767676768,
          0.686868686868687,
          0.696969696969697,
          0.7070707070707072,
          0.7171717171717172,
          0.7272727272727273,
          0.7373737373737375,
          0.7474747474747475,
          0.7575757575757577,
          0.7676767676767677,
          0.7777777777777778,
          0.787878787878788,
          0.797979797979798,
          0.8080808080808082,
          0.8181818181818182,
          0.8282828282828284,
          0.8383838383838385,
          0.8484848484848485,
          0.8585858585858587,
          0.8686868686868687,
          0.8787878787878789,
          0.888888888888889,
          0.8989898989898991,
          0.9090909090909092,
          0.9191919191919192,
          0.9292929292929294,
          0.9393939393939394,
          0.9494949494949496,
          0.9595959595959597,
          0.9696969696969697,
          0.9797979797979799,
          0.98989898989899,
          1
         ],
         "y": [
          -0.10394192753441915,
          1.0790236891125684,
          -0.20368920953041464,
          -0.07080940481055316,
          0.1950143322327025,
          -0.2870866087420446,
          -1.1107795523975172,
          0.9950083592106851,
          -0.8208475384978516,
          -0.9623631585824872,
          0.476886376073065,
          -0.13850880552872966,
          0.9585518153268079,
          -0.15265608348780255,
          -0.6471153601626267,
          -1.8788189402836806,
          -2.043629631242298,
          0.2995782864467907,
          0.8191878195593493,
          -2.322802321557721,
          0.817495728921918,
          -0.005849653522218019,
          -0.826264039531657,
          -0.019307824790233668,
          -1.1615146533360978,
          0.4721143708394972,
          -0.6275545534343039,
          -1.6540749153457122,
          0.7420354579635289,
          -0.5880772693145059,
          -0.5581787096459501,
          -0.6599032561069711,
          -1.5565716870798996,
          -1.1964821691965084,
          -1.0325587373626306,
          -1.8438823664144666,
          1.0291438521748442,
          0.31229063829375475,
          1.9969715114946425,
          -0.3293391538356665,
          -0.35467584773893335,
          0.3950602234894335,
          0.14549505590270087,
          -3.273772473888571,
          -0.4477681501416885,
          -0.05531201286348619,
          -0.8567247123759465,
          0.8186163140613975,
          -0.6716391537844848,
          1.0778280542148395,
          0.5045040320050349,
          -0.2467080860018545,
          0.3789737754800813,
          -0.8202534842787842,
          0.7996923722284328,
          2.12279653342233,
          -0.31123976035885,
          -0.28681883503325406,
          0.7984889899894936,
          1.1736441822937265,
          1.0445951940866156,
          -1.7098254746391555,
          -1.34985274138989,
          -1.0174621385045195,
          -0.6883064950009302,
          -1.9004187548684937,
          1.0502131580753749,
          0.08614603641451338,
          -0.2293988544667396,
          -1.4545881865206176,
          0.10662027717498176,
          1.706976013577592,
          1.0564962555801984,
          -0.06025595062257992,
          1.413468025569579,
          0.44189284026603726,
          -0.6825862350619483,
          -0.7974057904755227,
          -1.4980845920900687,
          -0.0357056894067242,
          -0.44777439617857184,
          0.15342211277448833,
          0.6174119749172333,
          0.8770731131123133,
          0.2813492175131094,
          -0.1738123259210856,
          2.4435311936196378,
          0.5929150586669589,
          -1.50051164456159,
          -1.6033202908175948,
          -1.1521586129200252,
          1.2510723039431069,
          1.2739982904273377,
          -0.5607770143384275,
          1.444059232290799,
          1.0727995462418443,
          0.656016733355138,
          -0.7224362562127095,
          -0.0419268358758422,
          1.490846887076812
         ]
        },
        {
         "marker": {
          "color": "blue",
          "size": 5
         },
         "mode": "markers",
         "name": "markers",
         "type": "scatter",
         "uid": "8741d198-a550-46eb-abd4-090f6898d097",
         "x": [
          0,
          0.010101010101010102,
          0.020202020202020204,
          0.030303030303030304,
          0.04040404040404041,
          0.05050505050505051,
          0.06060606060606061,
          0.07070707070707072,
          0.08080808080808081,
          0.09090909090909091,
          0.10101010101010102,
          0.11111111111111112,
          0.12121212121212122,
          0.13131313131313133,
          0.14141414141414144,
          0.15151515151515152,
          0.16161616161616163,
          0.17171717171717174,
          0.18181818181818182,
          0.19191919191919193,
          0.20202020202020204,
          0.21212121212121213,
          0.22222222222222224,
          0.23232323232323235,
          0.24242424242424243,
          0.25252525252525254,
          0.26262626262626265,
          0.27272727272727276,
          0.2828282828282829,
          0.29292929292929293,
          0.30303030303030304,
          0.31313131313131315,
          0.32323232323232326,
          0.33333333333333337,
          0.3434343434343435,
          0.3535353535353536,
          0.36363636363636365,
          0.37373737373737376,
          0.38383838383838387,
          0.393939393939394,
          0.4040404040404041,
          0.4141414141414142,
          0.42424242424242425,
          0.43434343434343436,
          0.4444444444444445,
          0.4545454545454546,
          0.4646464646464647,
          0.4747474747474748,
          0.48484848484848486,
          0.494949494949495,
          0.5050505050505051,
          0.5151515151515152,
          0.5252525252525253,
          0.5353535353535354,
          0.5454545454545455,
          0.5555555555555556,
          0.5656565656565657,
          0.5757575757575758,
          0.5858585858585859,
          0.595959595959596,
          0.6060606060606061,
          0.6161616161616162,
          0.6262626262626263,
          0.6363636363636365,
          0.6464646464646465,
          0.6565656565656566,
          0.6666666666666667,
          0.6767676767676768,
          0.686868686868687,
          0.696969696969697,
          0.7070707070707072,
          0.7171717171717172,
          0.7272727272727273,
          0.7373737373737375,
          0.7474747474747475,
          0.7575757575757577,
          0.7676767676767677,
          0.7777777777777778,
          0.787878787878788,
          0.797979797979798,
          0.8080808080808082,
          0.8181818181818182,
          0.8282828282828284,
          0.8383838383838385,
          0.8484848484848485,
          0.8585858585858587,
          0.8686868686868687,
          0.8787878787878789,
          0.888888888888889,
          0.8989898989898991,
          0.9090909090909092,
          0.9191919191919192,
          0.9292929292929294,
          0.9393939393939394,
          0.9494949494949496,
          0.9595959595959597,
          0.9696969696969697,
          0.9797979797979799,
          0.98989898989899,
          1
         ],
         "y": [
          -6.95272156736437,
          -8.260559503432752,
          -6.525809451284719,
          -7.397855021607327,
          -7.36261478260365,
          -7.370119184309881,
          -6.615416955430886,
          -7.3998197778332315,
          -6.243649297255088,
          -8.115067700638468,
          -8.09158099535339,
          -7.526482156978872,
          -8.026584334304115,
          -8.237999372883541,
          -9.22848452935554,
          -10.528111537770005,
          -9.192680783843466,
          -8.467644629349236,
          -9.48607910185534,
          -6.823637768828863,
          -8.16992807157585,
          -7.6976452000745015,
          -8.699565944900966,
          -7.26583901381052,
          -6.816234488115965,
          -7.844183600261232,
          -9.119190562904205,
          -7.961701714602714,
          -8.916952136459631,
          -9.356843784755817,
          -8.46559651332474,
          -6.280894866992103,
          -8.843119864493497,
          -7.398642437271932,
          -8.802182803963346,
          -8.515889321886764,
          -7.704183926539872,
          -7.203608891689729,
          -8.445013997909339,
          -7.897668440874311,
          -6.633847640335435,
          -8.342378066048386,
          -7.068220851997954,
          -7.263312356766344,
          -8.43229912379879,
          -9.08964360254363,
          -7.441533470696004,
          -6.975298151519199,
          -7.611367516910008,
          -9.47063833947117,
          -7.318467946286958,
          -8.05937766161414,
          -9.036833333289799,
          -8.625442372711536,
          -5.979040242406839,
          -5.626477218347587,
          -7.359823590956586,
          -7.220743018071679,
          -8.165406993292434,
          -7.1454570418347485,
          -7.694317963160109,
          -7.756460364186746,
          -6.593653758450229,
          -9.250061796239791,
          -9.066044326011589,
          -8.209761020831705,
          -8.358257027165577,
          -9.217611000917666,
          -8.074554304736122,
          -7.995705261917929,
          -7.113187292738822,
          -8.301003065891813,
          -7.690285083895053,
          -8.875111567998617,
          -8.482178275438251,
          -8.36276118864718,
          -8.375169180227848,
          -7.273034577777656,
          -7.565812535529687,
          -7.4393901408049725,
          -8.123328160655227,
          -8.323939980058798,
          -7.206454635233773,
          -7.728749193851942,
          -6.894893524770344,
          -7.809349683786507,
          -7.230077733611355,
          -7.497588502264895,
          -8.418445842336785,
          -8.800580473417284,
          -8.593480948899142,
          -7.27639879707362,
          -5.663161473401044,
          -8.149238008907961,
          -6.591689361186539,
          -6.520287498472371,
          -7.492129964448246,
          -7.757586761642322,
          -8.873327214822957,
          -8.162770979869887
         ]
        }
       ],
       "layout": {
        "hovermode": "closest",
        "title": "Basic line chart"
       }
      },
      "text/html": [
       "<div id=\"816df118-63b8-4ff4-8dc9-83d7eeafd59f\" style=\"height: 525px; width: 100%;\" class=\"plotly-graph-div\"></div><script type=\"text/javascript\">require([\"plotly\"], function(Plotly) { window.PLOTLYENV=window.PLOTLYENV || {};window.PLOTLYENV.BASE_URL=\"https://plot.ly\";Plotly.newPlot(\"816df118-63b8-4ff4-8dc9-83d7eeafd59f\", [{\"marker\": {\"color\": \"orange\", \"size\": 5}, \"mode\": \"lines+markers\", \"name\": \"lines+markers\", \"x\": [0.0, 0.010101010101010102, 0.020202020202020204, 0.030303030303030304, 0.04040404040404041, 0.05050505050505051, 0.06060606060606061, 0.07070707070707072, 0.08080808080808081, 0.09090909090909091, 0.10101010101010102, 0.11111111111111112, 0.12121212121212122, 0.13131313131313133, 0.14141414141414144, 0.15151515151515152, 0.16161616161616163, 0.17171717171717174, 0.18181818181818182, 0.19191919191919193, 0.20202020202020204, 0.21212121212121213, 0.22222222222222224, 0.23232323232323235, 0.24242424242424243, 0.25252525252525254, 0.26262626262626265, 0.27272727272727276, 0.2828282828282829, 0.29292929292929293, 0.30303030303030304, 0.31313131313131315, 0.32323232323232326, 0.33333333333333337, 0.3434343434343435, 0.3535353535353536, 0.36363636363636365, 0.37373737373737376, 0.38383838383838387, 0.393939393939394, 0.4040404040404041, 0.4141414141414142, 0.42424242424242425, 0.43434343434343436, 0.4444444444444445, 0.4545454545454546, 0.4646464646464647, 0.4747474747474748, 0.48484848484848486, 0.494949494949495, 0.5050505050505051, 0.5151515151515152, 0.5252525252525253, 0.5353535353535354, 0.5454545454545455, 0.5555555555555556, 0.5656565656565657, 0.5757575757575758, 0.5858585858585859, 0.595959595959596, 0.6060606060606061, 0.6161616161616162, 0.6262626262626263, 0.6363636363636365, 0.6464646464646465, 0.6565656565656566, 0.6666666666666667, 0.6767676767676768, 0.686868686868687, 0.696969696969697, 0.7070707070707072, 0.7171717171717172, 0.7272727272727273, 0.7373737373737375, 0.7474747474747475, 0.7575757575757577, 0.7676767676767677, 0.7777777777777778, 0.787878787878788, 0.797979797979798, 0.8080808080808082, 0.8181818181818182, 0.8282828282828284, 0.8383838383838385, 0.8484848484848485, 0.8585858585858587, 0.8686868686868687, 0.8787878787878789, 0.888888888888889, 0.8989898989898991, 0.9090909090909092, 0.9191919191919192, 0.9292929292929294, 0.9393939393939394, 0.9494949494949496, 0.9595959595959597, 0.9696969696969697, 0.9797979797979799, 0.98989898989899, 1.0], \"y\": [8.909819861543383, 10.451733245365759, 7.644956057044898, 5.797467844714419, 9.24619885658844, 7.45062302261637, 6.068062848153886, 8.933589570718771, 7.6511706651087295, 6.855323814868605, 7.6856533819595185, 8.398925648529632, 9.61419203323937, 7.175298109873771, 7.362488334305629, 7.7541820874256935, 7.333802395759827, 8.36365337661482, 9.309281332083595, 7.691087186594585, 7.119615243162004, 8.199549488718054, 7.8131974237192665, 7.221828340853794, 7.999267942350476, 9.396963629030951, 8.332837948313136, 7.644742929598676, 6.903208612590255, 7.843813107375499, 6.047470611306402, 9.059357624500326, 8.147025938874657, 9.385603964920541, 9.12571887827825, 6.697681681906356, 6.595231391028394, 8.835266091699927, 8.341550662460422, 8.434678610868723, 7.709013734347221, 6.408933728807013, 6.750067844743309, 7.518429254669392, 7.13097022059572, 8.500522756011865, 8.593895823561011, 8.312995963081418, 6.916769804633013, 7.183688264624536, 9.117694269922104, 9.717133938448171, 10.997614072883064, 8.49112569984519, 8.104772623894572, 8.781551427943501, 7.495928160148143, 8.151709116453222, 8.74413814107671, 7.650035656726794, 7.326071291586919, 7.861279220469145, 8.119019289080562, 8.19532802688875, 7.303016818090446, 8.497476084150817, 8.456626978391837, 7.299826238533464, 8.311987002734737, 7.8864671061013345, 7.552281377869964, 7.462197896914936, 7.3147276186775905, 6.613911133427077, 9.406977435105103, 6.559312202323737, 7.4737888865717075, 6.5317494120893915, 7.396781046107441, 7.470371415099242, 10.100264391166647, 7.8157403386445, 9.866098066187494, 8.038568976294695, 8.168964439319497, 8.916111099182089, 6.631841937146299, 8.0466072723629, 8.608014707869163, 8.912577720685837, 8.28385806577405, 9.230643590114921, 6.418013297461746, 6.621871969914268, 8.66427824951293, 8.799635214747418, 8.587915370292066, 8.337900920075276, 7.657814323760169, 9.022153979871113], \"type\": \"scatter\", \"uid\": \"56b6b3cd-c7a5-4ad6-9961-af9825e3d227\"}, {\"marker\": {\"color\": \"green\"}, \"mode\": \"lines\", \"name\": \"lines\", \"x\": [0.0, 0.010101010101010102, 0.020202020202020204, 0.030303030303030304, 0.04040404040404041, 0.05050505050505051, 0.06060606060606061, 0.07070707070707072, 0.08080808080808081, 0.09090909090909091, 0.10101010101010102, 0.11111111111111112, 0.12121212121212122, 0.13131313131313133, 0.14141414141414144, 0.15151515151515152, 0.16161616161616163, 0.17171717171717174, 0.18181818181818182, 0.19191919191919193, 0.20202020202020204, 0.21212121212121213, 0.22222222222222224, 0.23232323232323235, 0.24242424242424243, 0.25252525252525254, 0.26262626262626265, 0.27272727272727276, 0.2828282828282829, 0.29292929292929293, 0.30303030303030304, 0.31313131313131315, 0.32323232323232326, 0.33333333333333337, 0.3434343434343435, 0.3535353535353536, 0.36363636363636365, 0.37373737373737376, 0.38383838383838387, 0.393939393939394, 0.4040404040404041, 0.4141414141414142, 0.42424242424242425, 0.43434343434343436, 0.4444444444444445, 0.4545454545454546, 0.4646464646464647, 0.4747474747474748, 0.48484848484848486, 0.494949494949495, 0.5050505050505051, 0.5151515151515152, 0.5252525252525253, 0.5353535353535354, 0.5454545454545455, 0.5555555555555556, 0.5656565656565657, 0.5757575757575758, 0.5858585858585859, 0.595959595959596, 0.6060606060606061, 0.6161616161616162, 0.6262626262626263, 0.6363636363636365, 0.6464646464646465, 0.6565656565656566, 0.6666666666666667, 0.6767676767676768, 0.686868686868687, 0.696969696969697, 0.7070707070707072, 0.7171717171717172, 0.7272727272727273, 0.7373737373737375, 0.7474747474747475, 0.7575757575757577, 0.7676767676767677, 0.7777777777777778, 0.787878787878788, 0.797979797979798, 0.8080808080808082, 0.8181818181818182, 0.8282828282828284, 0.8383838383838385, 0.8484848484848485, 0.8585858585858587, 0.8686868686868687, 0.8787878787878789, 0.888888888888889, 0.8989898989898991, 0.9090909090909092, 0.9191919191919192, 0.9292929292929294, 0.9393939393939394, 0.9494949494949496, 0.9595959595959597, 0.9696969696969697, 0.9797979797979799, 0.98989898989899, 1.0], \"y\": [-0.10394192753441915, 1.0790236891125684, -0.20368920953041464, -0.07080940481055316, 0.1950143322327025, -0.2870866087420446, -1.1107795523975172, 0.9950083592106851, -0.8208475384978516, -0.9623631585824872, 0.476886376073065, -0.13850880552872966, 0.9585518153268079, -0.15265608348780255, -0.6471153601626267, -1.8788189402836806, -2.043629631242298, 0.2995782864467907, 0.8191878195593493, -2.322802321557721, 0.817495728921918, -0.005849653522218019, -0.826264039531657, -0.019307824790233668, -1.1615146533360978, 0.4721143708394972, -0.6275545534343039, -1.6540749153457122, 0.7420354579635289, -0.5880772693145059, -0.5581787096459501, -0.6599032561069711, -1.5565716870798996, -1.1964821691965084, -1.0325587373626306, -1.8438823664144666, 1.0291438521748442, 0.31229063829375475, 1.9969715114946425, -0.3293391538356665, -0.35467584773893335, 0.3950602234894335, 0.14549505590270087, -3.273772473888571, -0.4477681501416885, -0.05531201286348619, -0.8567247123759465, 0.8186163140613975, -0.6716391537844848, 1.0778280542148395, 0.5045040320050349, -0.2467080860018545, 0.3789737754800813, -0.8202534842787842, 0.7996923722284328, 2.12279653342233, -0.31123976035885, -0.28681883503325406, 0.7984889899894936, 1.1736441822937265, 1.0445951940866156, -1.7098254746391555, -1.34985274138989, -1.0174621385045195, -0.6883064950009302, -1.9004187548684937, 1.0502131580753749, 0.08614603641451338, -0.2293988544667396, -1.4545881865206176, 0.10662027717498176, 1.706976013577592, 1.0564962555801984, -0.06025595062257992, 1.413468025569579, 0.44189284026603726, -0.6825862350619483, -0.7974057904755227, -1.4980845920900687, -0.0357056894067242, -0.44777439617857184, 0.15342211277448833, 0.6174119749172333, 0.8770731131123133, 0.2813492175131094, -0.1738123259210856, 2.4435311936196378, 0.5929150586669589, -1.50051164456159, -1.6033202908175948, -1.1521586129200252, 1.2510723039431069, 1.2739982904273377, -0.5607770143384275, 1.444059232290799, 1.0727995462418443, 0.656016733355138, -0.7224362562127095, -0.0419268358758422, 1.490846887076812], \"type\": \"scatter\", \"uid\": \"35f69400-bfd9-4e27-b051-9b8a74e4ac49\"}, {\"marker\": {\"color\": \"blue\", \"size\": 5}, \"mode\": \"markers\", \"name\": \"markers\", \"x\": [0.0, 0.010101010101010102, 0.020202020202020204, 0.030303030303030304, 0.04040404040404041, 0.05050505050505051, 0.06060606060606061, 0.07070707070707072, 0.08080808080808081, 0.09090909090909091, 0.10101010101010102, 0.11111111111111112, 0.12121212121212122, 0.13131313131313133, 0.14141414141414144, 0.15151515151515152, 0.16161616161616163, 0.17171717171717174, 0.18181818181818182, 0.19191919191919193, 0.20202020202020204, 0.21212121212121213, 0.22222222222222224, 0.23232323232323235, 0.24242424242424243, 0.25252525252525254, 0.26262626262626265, 0.27272727272727276, 0.2828282828282829, 0.29292929292929293, 0.30303030303030304, 0.31313131313131315, 0.32323232323232326, 0.33333333333333337, 0.3434343434343435, 0.3535353535353536, 0.36363636363636365, 0.37373737373737376, 0.38383838383838387, 0.393939393939394, 0.4040404040404041, 0.4141414141414142, 0.42424242424242425, 0.43434343434343436, 0.4444444444444445, 0.4545454545454546, 0.4646464646464647, 0.4747474747474748, 0.48484848484848486, 0.494949494949495, 0.5050505050505051, 0.5151515151515152, 0.5252525252525253, 0.5353535353535354, 0.5454545454545455, 0.5555555555555556, 0.5656565656565657, 0.5757575757575758, 0.5858585858585859, 0.595959595959596, 0.6060606060606061, 0.6161616161616162, 0.6262626262626263, 0.6363636363636365, 0.6464646464646465, 0.6565656565656566, 0.6666666666666667, 0.6767676767676768, 0.686868686868687, 0.696969696969697, 0.7070707070707072, 0.7171717171717172, 0.7272727272727273, 0.7373737373737375, 0.7474747474747475, 0.7575757575757577, 0.7676767676767677, 0.7777777777777778, 0.787878787878788, 0.797979797979798, 0.8080808080808082, 0.8181818181818182, 0.8282828282828284, 0.8383838383838385, 0.8484848484848485, 0.8585858585858587, 0.8686868686868687, 0.8787878787878789, 0.888888888888889, 0.8989898989898991, 0.9090909090909092, 0.9191919191919192, 0.9292929292929294, 0.9393939393939394, 0.9494949494949496, 0.9595959595959597, 0.9696969696969697, 0.9797979797979799, 0.98989898989899, 1.0], \"y\": [-6.95272156736437, -8.260559503432752, -6.525809451284719, -7.397855021607327, -7.36261478260365, -7.370119184309881, -6.615416955430886, -7.3998197778332315, -6.243649297255088, -8.115067700638468, -8.09158099535339, -7.526482156978872, -8.026584334304115, -8.237999372883541, -9.22848452935554, -10.528111537770005, -9.192680783843466, -8.467644629349236, -9.48607910185534, -6.823637768828863, -8.16992807157585, -7.6976452000745015, -8.699565944900966, -7.26583901381052, -6.816234488115965, -7.844183600261232, -9.119190562904205, -7.961701714602714, -8.916952136459631, -9.356843784755817, -8.46559651332474, -6.280894866992103, -8.843119864493497, -7.398642437271932, -8.802182803963346, -8.515889321886764, -7.704183926539872, -7.203608891689729, -8.445013997909339, -7.897668440874311, -6.633847640335435, -8.342378066048386, -7.068220851997954, -7.263312356766344, -8.43229912379879, -9.08964360254363, -7.441533470696004, -6.975298151519199, -7.611367516910008, -9.47063833947117, -7.318467946286958, -8.05937766161414, -9.036833333289799, -8.625442372711536, -5.979040242406839, -5.626477218347587, -7.359823590956586, -7.220743018071679, -8.165406993292434, -7.1454570418347485, -7.694317963160109, -7.756460364186746, -6.593653758450229, -9.250061796239791, -9.066044326011589, -8.209761020831705, -8.358257027165577, -9.217611000917666, -8.074554304736122, -7.995705261917929, -7.113187292738822, -8.301003065891813, -7.690285083895053, -8.875111567998617, -8.482178275438251, -8.36276118864718, -8.375169180227848, -7.273034577777656, -7.565812535529687, -7.4393901408049725, -8.123328160655227, -8.323939980058798, -7.206454635233773, -7.728749193851942, -6.894893524770344, -7.809349683786507, -7.230077733611355, -7.497588502264895, -8.418445842336785, -8.800580473417284, -8.593480948899142, -7.27639879707362, -5.663161473401044, -8.149238008907961, -6.591689361186539, -6.520287498472371, -7.492129964448246, -7.757586761642322, -8.873327214822957, -8.162770979869887], \"type\": \"scatter\", \"uid\": \"388dd001-e872-4542-a7f8-9efc663f60d3\"}], {\"hovermode\": \"closest\", \"title\": \"Basic line chart\"}, {\"showLink\": true, \"linkText\": \"Export to plot.ly\", \"plotlyServerURL\": \"https://plot.ly\"})});</script><script type=\"text/javascript\">window.addEventListener(\"resize\", function(){window._Plotly.Plots.resize(document.getElementById(\"816df118-63b8-4ff4-8dc9-83d7eeafd59f\"));});</script>"
      ],
      "text/vnd.plotly.v1+html": [
       "<div id=\"816df118-63b8-4ff4-8dc9-83d7eeafd59f\" style=\"height: 525px; width: 100%;\" class=\"plotly-graph-div\"></div><script type=\"text/javascript\">require([\"plotly\"], function(Plotly) { window.PLOTLYENV=window.PLOTLYENV || {};window.PLOTLYENV.BASE_URL=\"https://plot.ly\";Plotly.newPlot(\"816df118-63b8-4ff4-8dc9-83d7eeafd59f\", [{\"marker\": {\"color\": \"orange\", \"size\": 5}, \"mode\": \"lines+markers\", \"name\": \"lines+markers\", \"x\": [0.0, 0.010101010101010102, 0.020202020202020204, 0.030303030303030304, 0.04040404040404041, 0.05050505050505051, 0.06060606060606061, 0.07070707070707072, 0.08080808080808081, 0.09090909090909091, 0.10101010101010102, 0.11111111111111112, 0.12121212121212122, 0.13131313131313133, 0.14141414141414144, 0.15151515151515152, 0.16161616161616163, 0.17171717171717174, 0.18181818181818182, 0.19191919191919193, 0.20202020202020204, 0.21212121212121213, 0.22222222222222224, 0.23232323232323235, 0.24242424242424243, 0.25252525252525254, 0.26262626262626265, 0.27272727272727276, 0.2828282828282829, 0.29292929292929293, 0.30303030303030304, 0.31313131313131315, 0.32323232323232326, 0.33333333333333337, 0.3434343434343435, 0.3535353535353536, 0.36363636363636365, 0.37373737373737376, 0.38383838383838387, 0.393939393939394, 0.4040404040404041, 0.4141414141414142, 0.42424242424242425, 0.43434343434343436, 0.4444444444444445, 0.4545454545454546, 0.4646464646464647, 0.4747474747474748, 0.48484848484848486, 0.494949494949495, 0.5050505050505051, 0.5151515151515152, 0.5252525252525253, 0.5353535353535354, 0.5454545454545455, 0.5555555555555556, 0.5656565656565657, 0.5757575757575758, 0.5858585858585859, 0.595959595959596, 0.6060606060606061, 0.6161616161616162, 0.6262626262626263, 0.6363636363636365, 0.6464646464646465, 0.6565656565656566, 0.6666666666666667, 0.6767676767676768, 0.686868686868687, 0.696969696969697, 0.7070707070707072, 0.7171717171717172, 0.7272727272727273, 0.7373737373737375, 0.7474747474747475, 0.7575757575757577, 0.7676767676767677, 0.7777777777777778, 0.787878787878788, 0.797979797979798, 0.8080808080808082, 0.8181818181818182, 0.8282828282828284, 0.8383838383838385, 0.8484848484848485, 0.8585858585858587, 0.8686868686868687, 0.8787878787878789, 0.888888888888889, 0.8989898989898991, 0.9090909090909092, 0.9191919191919192, 0.9292929292929294, 0.9393939393939394, 0.9494949494949496, 0.9595959595959597, 0.9696969696969697, 0.9797979797979799, 0.98989898989899, 1.0], \"y\": [8.909819861543383, 10.451733245365759, 7.644956057044898, 5.797467844714419, 9.24619885658844, 7.45062302261637, 6.068062848153886, 8.933589570718771, 7.6511706651087295, 6.855323814868605, 7.6856533819595185, 8.398925648529632, 9.61419203323937, 7.175298109873771, 7.362488334305629, 7.7541820874256935, 7.333802395759827, 8.36365337661482, 9.309281332083595, 7.691087186594585, 7.119615243162004, 8.199549488718054, 7.8131974237192665, 7.221828340853794, 7.999267942350476, 9.396963629030951, 8.332837948313136, 7.644742929598676, 6.903208612590255, 7.843813107375499, 6.047470611306402, 9.059357624500326, 8.147025938874657, 9.385603964920541, 9.12571887827825, 6.697681681906356, 6.595231391028394, 8.835266091699927, 8.341550662460422, 8.434678610868723, 7.709013734347221, 6.408933728807013, 6.750067844743309, 7.518429254669392, 7.13097022059572, 8.500522756011865, 8.593895823561011, 8.312995963081418, 6.916769804633013, 7.183688264624536, 9.117694269922104, 9.717133938448171, 10.997614072883064, 8.49112569984519, 8.104772623894572, 8.781551427943501, 7.495928160148143, 8.151709116453222, 8.74413814107671, 7.650035656726794, 7.326071291586919, 7.861279220469145, 8.119019289080562, 8.19532802688875, 7.303016818090446, 8.497476084150817, 8.456626978391837, 7.299826238533464, 8.311987002734737, 7.8864671061013345, 7.552281377869964, 7.462197896914936, 7.3147276186775905, 6.613911133427077, 9.406977435105103, 6.559312202323737, 7.4737888865717075, 6.5317494120893915, 7.396781046107441, 7.470371415099242, 10.100264391166647, 7.8157403386445, 9.866098066187494, 8.038568976294695, 8.168964439319497, 8.916111099182089, 6.631841937146299, 8.0466072723629, 8.608014707869163, 8.912577720685837, 8.28385806577405, 9.230643590114921, 6.418013297461746, 6.621871969914268, 8.66427824951293, 8.799635214747418, 8.587915370292066, 8.337900920075276, 7.657814323760169, 9.022153979871113], \"type\": \"scatter\", \"uid\": \"56b6b3cd-c7a5-4ad6-9961-af9825e3d227\"}, {\"marker\": {\"color\": \"green\"}, \"mode\": \"lines\", \"name\": \"lines\", \"x\": [0.0, 0.010101010101010102, 0.020202020202020204, 0.030303030303030304, 0.04040404040404041, 0.05050505050505051, 0.06060606060606061, 0.07070707070707072, 0.08080808080808081, 0.09090909090909091, 0.10101010101010102, 0.11111111111111112, 0.12121212121212122, 0.13131313131313133, 0.14141414141414144, 0.15151515151515152, 0.16161616161616163, 0.17171717171717174, 0.18181818181818182, 0.19191919191919193, 0.20202020202020204, 0.21212121212121213, 0.22222222222222224, 0.23232323232323235, 0.24242424242424243, 0.25252525252525254, 0.26262626262626265, 0.27272727272727276, 0.2828282828282829, 0.29292929292929293, 0.30303030303030304, 0.31313131313131315, 0.32323232323232326, 0.33333333333333337, 0.3434343434343435, 0.3535353535353536, 0.36363636363636365, 0.37373737373737376, 0.38383838383838387, 0.393939393939394, 0.4040404040404041, 0.4141414141414142, 0.42424242424242425, 0.43434343434343436, 0.4444444444444445, 0.4545454545454546, 0.4646464646464647, 0.4747474747474748, 0.48484848484848486, 0.494949494949495, 0.5050505050505051, 0.5151515151515152, 0.5252525252525253, 0.5353535353535354, 0.5454545454545455, 0.5555555555555556, 0.5656565656565657, 0.5757575757575758, 0.5858585858585859, 0.595959595959596, 0.6060606060606061, 0.6161616161616162, 0.6262626262626263, 0.6363636363636365, 0.6464646464646465, 0.6565656565656566, 0.6666666666666667, 0.6767676767676768, 0.686868686868687, 0.696969696969697, 0.7070707070707072, 0.7171717171717172, 0.7272727272727273, 0.7373737373737375, 0.7474747474747475, 0.7575757575757577, 0.7676767676767677, 0.7777777777777778, 0.787878787878788, 0.797979797979798, 0.8080808080808082, 0.8181818181818182, 0.8282828282828284, 0.8383838383838385, 0.8484848484848485, 0.8585858585858587, 0.8686868686868687, 0.8787878787878789, 0.888888888888889, 0.8989898989898991, 0.9090909090909092, 0.9191919191919192, 0.9292929292929294, 0.9393939393939394, 0.9494949494949496, 0.9595959595959597, 0.9696969696969697, 0.9797979797979799, 0.98989898989899, 1.0], \"y\": [-0.10394192753441915, 1.0790236891125684, -0.20368920953041464, -0.07080940481055316, 0.1950143322327025, -0.2870866087420446, -1.1107795523975172, 0.9950083592106851, -0.8208475384978516, -0.9623631585824872, 0.476886376073065, -0.13850880552872966, 0.9585518153268079, -0.15265608348780255, -0.6471153601626267, -1.8788189402836806, -2.043629631242298, 0.2995782864467907, 0.8191878195593493, -2.322802321557721, 0.817495728921918, -0.005849653522218019, -0.826264039531657, -0.019307824790233668, -1.1615146533360978, 0.4721143708394972, -0.6275545534343039, -1.6540749153457122, 0.7420354579635289, -0.5880772693145059, -0.5581787096459501, -0.6599032561069711, -1.5565716870798996, -1.1964821691965084, -1.0325587373626306, -1.8438823664144666, 1.0291438521748442, 0.31229063829375475, 1.9969715114946425, -0.3293391538356665, -0.35467584773893335, 0.3950602234894335, 0.14549505590270087, -3.273772473888571, -0.4477681501416885, -0.05531201286348619, -0.8567247123759465, 0.8186163140613975, -0.6716391537844848, 1.0778280542148395, 0.5045040320050349, -0.2467080860018545, 0.3789737754800813, -0.8202534842787842, 0.7996923722284328, 2.12279653342233, -0.31123976035885, -0.28681883503325406, 0.7984889899894936, 1.1736441822937265, 1.0445951940866156, -1.7098254746391555, -1.34985274138989, -1.0174621385045195, -0.6883064950009302, -1.9004187548684937, 1.0502131580753749, 0.08614603641451338, -0.2293988544667396, -1.4545881865206176, 0.10662027717498176, 1.706976013577592, 1.0564962555801984, -0.06025595062257992, 1.413468025569579, 0.44189284026603726, -0.6825862350619483, -0.7974057904755227, -1.4980845920900687, -0.0357056894067242, -0.44777439617857184, 0.15342211277448833, 0.6174119749172333, 0.8770731131123133, 0.2813492175131094, -0.1738123259210856, 2.4435311936196378, 0.5929150586669589, -1.50051164456159, -1.6033202908175948, -1.1521586129200252, 1.2510723039431069, 1.2739982904273377, -0.5607770143384275, 1.444059232290799, 1.0727995462418443, 0.656016733355138, -0.7224362562127095, -0.0419268358758422, 1.490846887076812], \"type\": \"scatter\", \"uid\": \"35f69400-bfd9-4e27-b051-9b8a74e4ac49\"}, {\"marker\": {\"color\": \"blue\", \"size\": 5}, \"mode\": \"markers\", \"name\": \"markers\", \"x\": [0.0, 0.010101010101010102, 0.020202020202020204, 0.030303030303030304, 0.04040404040404041, 0.05050505050505051, 0.06060606060606061, 0.07070707070707072, 0.08080808080808081, 0.09090909090909091, 0.10101010101010102, 0.11111111111111112, 0.12121212121212122, 0.13131313131313133, 0.14141414141414144, 0.15151515151515152, 0.16161616161616163, 0.17171717171717174, 0.18181818181818182, 0.19191919191919193, 0.20202020202020204, 0.21212121212121213, 0.22222222222222224, 0.23232323232323235, 0.24242424242424243, 0.25252525252525254, 0.26262626262626265, 0.27272727272727276, 0.2828282828282829, 0.29292929292929293, 0.30303030303030304, 0.31313131313131315, 0.32323232323232326, 0.33333333333333337, 0.3434343434343435, 0.3535353535353536, 0.36363636363636365, 0.37373737373737376, 0.38383838383838387, 0.393939393939394, 0.4040404040404041, 0.4141414141414142, 0.42424242424242425, 0.43434343434343436, 0.4444444444444445, 0.4545454545454546, 0.4646464646464647, 0.4747474747474748, 0.48484848484848486, 0.494949494949495, 0.5050505050505051, 0.5151515151515152, 0.5252525252525253, 0.5353535353535354, 0.5454545454545455, 0.5555555555555556, 0.5656565656565657, 0.5757575757575758, 0.5858585858585859, 0.595959595959596, 0.6060606060606061, 0.6161616161616162, 0.6262626262626263, 0.6363636363636365, 0.6464646464646465, 0.6565656565656566, 0.6666666666666667, 0.6767676767676768, 0.686868686868687, 0.696969696969697, 0.7070707070707072, 0.7171717171717172, 0.7272727272727273, 0.7373737373737375, 0.7474747474747475, 0.7575757575757577, 0.7676767676767677, 0.7777777777777778, 0.787878787878788, 0.797979797979798, 0.8080808080808082, 0.8181818181818182, 0.8282828282828284, 0.8383838383838385, 0.8484848484848485, 0.8585858585858587, 0.8686868686868687, 0.8787878787878789, 0.888888888888889, 0.8989898989898991, 0.9090909090909092, 0.9191919191919192, 0.9292929292929294, 0.9393939393939394, 0.9494949494949496, 0.9595959595959597, 0.9696969696969697, 0.9797979797979799, 0.98989898989899, 1.0], \"y\": [-6.95272156736437, -8.260559503432752, -6.525809451284719, -7.397855021607327, -7.36261478260365, -7.370119184309881, -6.615416955430886, -7.3998197778332315, -6.243649297255088, -8.115067700638468, -8.09158099535339, -7.526482156978872, -8.026584334304115, -8.237999372883541, -9.22848452935554, -10.528111537770005, -9.192680783843466, -8.467644629349236, -9.48607910185534, -6.823637768828863, -8.16992807157585, -7.6976452000745015, -8.699565944900966, -7.26583901381052, -6.816234488115965, -7.844183600261232, -9.119190562904205, -7.961701714602714, -8.916952136459631, -9.356843784755817, -8.46559651332474, -6.280894866992103, -8.843119864493497, -7.398642437271932, -8.802182803963346, -8.515889321886764, -7.704183926539872, -7.203608891689729, -8.445013997909339, -7.897668440874311, -6.633847640335435, -8.342378066048386, -7.068220851997954, -7.263312356766344, -8.43229912379879, -9.08964360254363, -7.441533470696004, -6.975298151519199, -7.611367516910008, -9.47063833947117, -7.318467946286958, -8.05937766161414, -9.036833333289799, -8.625442372711536, -5.979040242406839, -5.626477218347587, -7.359823590956586, -7.220743018071679, -8.165406993292434, -7.1454570418347485, -7.694317963160109, -7.756460364186746, -6.593653758450229, -9.250061796239791, -9.066044326011589, -8.209761020831705, -8.358257027165577, -9.217611000917666, -8.074554304736122, -7.995705261917929, -7.113187292738822, -8.301003065891813, -7.690285083895053, -8.875111567998617, -8.482178275438251, -8.36276118864718, -8.375169180227848, -7.273034577777656, -7.565812535529687, -7.4393901408049725, -8.123328160655227, -8.323939980058798, -7.206454635233773, -7.728749193851942, -6.894893524770344, -7.809349683786507, -7.230077733611355, -7.497588502264895, -8.418445842336785, -8.800580473417284, -8.593480948899142, -7.27639879707362, -5.663161473401044, -8.149238008907961, -6.591689361186539, -6.520287498472371, -7.492129964448246, -7.757586761642322, -8.873327214822957, -8.162770979869887], \"type\": \"scatter\", \"uid\": \"388dd001-e872-4542-a7f8-9efc663f60d3\"}], {\"hovermode\": \"closest\", \"title\": \"Basic line chart\"}, {\"showLink\": true, \"linkText\": \"Export to plot.ly\", \"plotlyServerURL\": \"https://plot.ly\"})});</script><script type=\"text/javascript\">window.addEventListener(\"resize\", function(){window._Plotly.Plots.resize(document.getElementById(\"816df118-63b8-4ff4-8dc9-83d7eeafd59f\"));});</script>"
      ]
     },
     "metadata": {},
     "output_type": "display_data"
    }
   ],
   "source": [
    "# 更复杂的散点图和折线图\n",
    "N = 100\n",
    "random_x = np.linspace(0, 1, N)\n",
    "random_y_0 = np.random.randn(N)+8\n",
    "random_y_1 = np.random.randn(N)\n",
    "random_y_2 = np.random.randn(N)-8\n",
    "\n",
    "# 产生三条折线图，分别为散点+折线，折线，散点\n",
    "trace_0 = go.Scatter(x=random_x, y=random_y_0, mode='lines+markers', name='lines+markers', \n",
    "                   marker=go.scatter.Marker(color='orange', size=5))\n",
    "\n",
    "trace_1 = go.Scatter(x=random_x, y=random_y_1, mode='lines', name='lines', \n",
    "                     marker=dict(color='green'))\n",
    "\n",
    "trace_2 = go.Scatter(x=random_x, y=random_y_2, mode='markers', name='markers', \n",
    "                   marker=go.scatter.Marker(color='blue', size=5))\n",
    "\n",
    "data = [trace_0, trace_1, trace_2]\n",
    "layout = go.Layout(title='Basic line chart', hovermode='closest')\n",
    "\n",
    "fig = dict(data=data, layout = layout)\n",
    "plotly.offline.iplot(fig)"
   ]
  }
 ],
 "metadata": {
  "kernelspec": {
   "display_name": "Python 3",
   "language": "python",
   "name": "python3"
  },
  "language_info": {
   "codemirror_mode": {
    "name": "ipython",
    "version": 3
   },
   "file_extension": ".py",
   "mimetype": "text/x-python",
   "name": "python",
   "nbconvert_exporter": "python",
   "pygments_lexer": "ipython3",
   "version": "3.6.5"
  }
 },
 "nbformat": 4,
 "nbformat_minor": 2
}
