{
 "cells": [
  {
   "cell_type": "code",
   "execution_count": 7,
   "metadata": {},
   "outputs": [
    {
     "data": {
      "text/html": [
       "<script type=\"text/javascript\">window.PlotlyConfig = {MathJaxConfig: 'local'};</script><script type=\"text/javascript\">if (window.MathJax) {MathJax.Hub.Config({SVG: {font: \"STIX-Web\"}});}</script><script>requirejs.config({paths: { 'plotly': ['https://cdn.plot.ly/plotly-latest.min']},});if(!window._Plotly) {require(['plotly'],function(plotly) {window._Plotly=plotly;});}</script>"
      ],
      "text/vnd.plotly.v1+html": [
       "<script type=\"text/javascript\">window.PlotlyConfig = {MathJaxConfig: 'local'};</script><script type=\"text/javascript\">if (window.MathJax) {MathJax.Hub.Config({SVG: {font: \"STIX-Web\"}});}</script><script>requirejs.config({paths: { 'plotly': ['https://cdn.plot.ly/plotly-latest.min']},});if(!window._Plotly) {require(['plotly'],function(plotly) {window._Plotly=plotly;});}</script>"
      ]
     },
     "metadata": {},
     "output_type": "display_data"
    }
   ],
   "source": [
    "import plotly\n",
    "import plotly.graph_objs as go\n",
    "import math\n",
    "import random\n",
    "import numpy as np\n",
    "import pandas as pd\n",
    "plotly.offline.init_notebook_mode(connected=True)"
   ]
  },
  {
   "cell_type": "markdown",
   "metadata": {},
   "source": [
    "# Basic Dot Plot"
   ]
  },
  {
   "cell_type": "code",
   "execution_count": 8,
   "metadata": {},
   "outputs": [
    {
     "data": {
      "application/vnd.plotly.v1+json": {
       "config": {
        "linkText": "Export to plot.ly",
        "plotlyServerURL": "https://plot.ly",
        "showLink": true
       },
       "data": [
        {
         "marker": {
          "color": "pink",
          "size": 12
         },
         "mode": "markers",
         "name": "Women",
         "type": "scatter",
         "uid": "0f0cda2b-150f-4ee0-94cc-7fbcd38f5e00",
         "x": [
          72,
          67,
          73,
          80,
          76,
          79,
          84,
          78,
          86,
          93,
          94,
          90,
          92,
          96,
          94,
          112
         ],
         "y": [
          "Brown",
          "NYU",
          "Notre Dame",
          "Cornell",
          "Tufts",
          "Yale",
          "Dartmouth",
          "Chicago",
          "Columbia",
          "Duke",
          "Georgetown",
          "Princeton",
          "U.Penn",
          "Stanford",
          "MIT",
          "Harvard"
         ]
        },
        {
         "marker": {
          "color": "blue",
          "size": 12
         },
         "mode": "markers",
         "name": "Men",
         "type": "scatter",
         "uid": "bc2f8aad-0a11-4635-a23f-0f114880bdf3",
         "x": [
          92,
          94,
          100,
          107,
          112,
          114,
          114,
          118,
          119,
          124,
          131,
          137,
          141,
          151,
          152,
          165
         ],
         "y": [
          "Brown",
          "NYU",
          "Notre Dame",
          "Cornell",
          "Tufts",
          "Yale",
          "Dartmouth",
          "Chicago",
          "Columbia",
          "Duke",
          "Georgetown",
          "Princeton",
          "U.Penn",
          "Stanford",
          "MIT",
          "Harvard"
         ]
        }
       ],
       "layout": {
        "title": "Gender Earnings Disparity",
        "xaxis": {
         "title": "Annual Salary (in thousands)"
        },
        "yaxis": {
         "title": "School"
        }
       }
      },
      "text/html": [
       "<div id=\"fe779c1f-ec3a-4886-9863-5bfbfe840988\" style=\"height: 525px; width: 100%;\" class=\"plotly-graph-div\"></div><script type=\"text/javascript\">require([\"plotly\"], function(Plotly) { window.PLOTLYENV=window.PLOTLYENV || {};window.PLOTLYENV.BASE_URL=\"https://plot.ly\";Plotly.newPlot(\"fe779c1f-ec3a-4886-9863-5bfbfe840988\", [{\"marker\": {\"color\": \"pink\", \"size\": 12}, \"mode\": \"markers\", \"name\": \"Women\", \"x\": [72, 67, 73, 80, 76, 79, 84, 78, 86, 93, 94, 90, 92, 96, 94, 112], \"y\": [\"Brown\", \"NYU\", \"Notre Dame\", \"Cornell\", \"Tufts\", \"Yale\", \"Dartmouth\", \"Chicago\", \"Columbia\", \"Duke\", \"Georgetown\", \"Princeton\", \"U.Penn\", \"Stanford\", \"MIT\", \"Harvard\"], \"type\": \"scatter\", \"uid\": \"0f0cda2b-150f-4ee0-94cc-7fbcd38f5e00\"}, {\"marker\": {\"color\": \"blue\", \"size\": 12}, \"mode\": \"markers\", \"name\": \"Men\", \"x\": [92, 94, 100, 107, 112, 114, 114, 118, 119, 124, 131, 137, 141, 151, 152, 165], \"y\": [\"Brown\", \"NYU\", \"Notre Dame\", \"Cornell\", \"Tufts\", \"Yale\", \"Dartmouth\", \"Chicago\", \"Columbia\", \"Duke\", \"Georgetown\", \"Princeton\", \"U.Penn\", \"Stanford\", \"MIT\", \"Harvard\"], \"type\": \"scatter\", \"uid\": \"bc2f8aad-0a11-4635-a23f-0f114880bdf3\"}], {\"title\": \"Gender Earnings Disparity\", \"xaxis\": {\"title\": \"Annual Salary (in thousands)\"}, \"yaxis\": {\"title\": \"School\"}}, {\"showLink\": true, \"linkText\": \"Export to plot.ly\", \"plotlyServerURL\": \"https://plot.ly\"})});</script><script type=\"text/javascript\">window.addEventListener(\"resize\", function(){window._Plotly.Plots.resize(document.getElementById(\"fe779c1f-ec3a-4886-9863-5bfbfe840988\"));});</script>"
      ],
      "text/vnd.plotly.v1+html": [
       "<div id=\"fe779c1f-ec3a-4886-9863-5bfbfe840988\" style=\"height: 525px; width: 100%;\" class=\"plotly-graph-div\"></div><script type=\"text/javascript\">require([\"plotly\"], function(Plotly) { window.PLOTLYENV=window.PLOTLYENV || {};window.PLOTLYENV.BASE_URL=\"https://plot.ly\";Plotly.newPlot(\"fe779c1f-ec3a-4886-9863-5bfbfe840988\", [{\"marker\": {\"color\": \"pink\", \"size\": 12}, \"mode\": \"markers\", \"name\": \"Women\", \"x\": [72, 67, 73, 80, 76, 79, 84, 78, 86, 93, 94, 90, 92, 96, 94, 112], \"y\": [\"Brown\", \"NYU\", \"Notre Dame\", \"Cornell\", \"Tufts\", \"Yale\", \"Dartmouth\", \"Chicago\", \"Columbia\", \"Duke\", \"Georgetown\", \"Princeton\", \"U.Penn\", \"Stanford\", \"MIT\", \"Harvard\"], \"type\": \"scatter\", \"uid\": \"0f0cda2b-150f-4ee0-94cc-7fbcd38f5e00\"}, {\"marker\": {\"color\": \"blue\", \"size\": 12}, \"mode\": \"markers\", \"name\": \"Men\", \"x\": [92, 94, 100, 107, 112, 114, 114, 118, 119, 124, 131, 137, 141, 151, 152, 165], \"y\": [\"Brown\", \"NYU\", \"Notre Dame\", \"Cornell\", \"Tufts\", \"Yale\", \"Dartmouth\", \"Chicago\", \"Columbia\", \"Duke\", \"Georgetown\", \"Princeton\", \"U.Penn\", \"Stanford\", \"MIT\", \"Harvard\"], \"type\": \"scatter\", \"uid\": \"bc2f8aad-0a11-4635-a23f-0f114880bdf3\"}], {\"title\": \"Gender Earnings Disparity\", \"xaxis\": {\"title\": \"Annual Salary (in thousands)\"}, \"yaxis\": {\"title\": \"School\"}}, {\"showLink\": true, \"linkText\": \"Export to plot.ly\", \"plotlyServerURL\": \"https://plot.ly\"})});</script><script type=\"text/javascript\">window.addEventListener(\"resize\", function(){window._Plotly.Plots.resize(document.getElementById(\"fe779c1f-ec3a-4886-9863-5bfbfe840988\"));});</script>"
      ]
     },
     "metadata": {},
     "output_type": "display_data"
    }
   ],
   "source": [
    "y = [\"Brown\", \"NYU\", \"Notre Dame\", \"Cornell\", \"Tufts\", \"Yale\", \"Dartmouth\", \"Chicago\", \"Columbia\", \n",
    "     \"Duke\", \"Georgetown\", \"Princeton\", \"U.Penn\", \"Stanford\", \"MIT\", \"Harvard\"]\n",
    "\n",
    "trace0 = {\"x\": [72, 67, 73, 80, 76, 79, 84, 78, 86, 93, 94, 90, 92, 96, 94, 112], \n",
    "          \"y\": y,\n",
    "          \"marker\": {\"color\": \"pink\", \"size\": 12}, \n",
    "          \"mode\": \"markers\", \n",
    "          \"name\": \"Women\", \n",
    "          \"type\": \"scatter\"\n",
    "}\n",
    "trace1 = {\"x\": [92, 94, 100, 107, 112, 114, 114, 118, 119, 124, 131, 137, 141, 151, 152, 165], \n",
    "          \"y\": y,\n",
    "          \"marker\": {\"color\": \"blue\", \"size\": 12}, \n",
    "          \"mode\": \"markers\", \n",
    "          \"name\": \"Men\", \n",
    "          \"type\": \"scatter\", \n",
    "}\n",
    "\n",
    "data = [trace0, trace1]\n",
    "layout = {\"title\": \"Gender Earnings Disparity\", \n",
    "          \"xaxis\": {\"title\": \"Annual Salary (in thousands)\", }, \n",
    "          \"yaxis\": {\"title\": \"School\"}}\n",
    "fig = go.Figure(data=data, layout=layout)\n",
    "plotly.offline.iplot(fig, filename='basic_dot-plot')"
   ]
  },
  {
   "cell_type": "markdown",
   "metadata": {},
   "source": [
    "# Styled Categorical Dot Plot"
   ]
  },
  {
   "cell_type": "code",
   "execution_count": 9,
   "metadata": {},
   "outputs": [
    {
     "data": {
      "application/vnd.plotly.v1+json": {
       "config": {
        "linkText": "Export to plot.ly",
        "plotlyServerURL": "https://plot.ly",
        "showLink": true
       },
       "data": [
        {
         "marker": {
          "color": "rgba(156, 165, 196, 0.95)",
          "line": {
           "color": "rgba(156, 165, 196, 1.0)",
           "width": 1
          },
          "size": 16,
          "symbol": "circle"
         },
         "mode": "markers",
         "name": "Percent of estimated voting age population",
         "type": "scatter",
         "uid": "0937aa8c-f4e7-48c1-bff3-4feca0f54ac5",
         "x": [
          40,
          45.7,
          52,
          53.6,
          54.1,
          54.2,
          54.5,
          54.7,
          55.1,
          56.6
         ],
         "y": [
          "Switzerland (2011)",
          "Chile (2013)",
          "Japan (2014)",
          "United States (2012)",
          "Slovenia (2014)",
          "Canada (2011)",
          "Poland (2010)",
          "Estonia (2015)",
          "Luxembourg (2013)",
          "Portugal (2011)"
         ]
        },
        {
         "marker": {
          "color": "rgba(204, 204, 204, 0.95)",
          "line": {
           "color": "rgba(217, 217, 217, 1.0)",
           "width": 1
          },
          "size": 14,
          "symbol": "circle"
         },
         "mode": "markers",
         "name": "Percent of estimated registered voters",
         "type": "scatter",
         "uid": "b75f1029-d601-4e66-82dc-7fcb9de60dc2",
         "x": [
          49.1,
          42,
          52.7,
          84.3,
          51.7,
          61.1,
          55.3,
          64.2,
          91.1,
          58.9
         ],
         "y": [
          "Switzerland (2011)",
          "Chile (2013)",
          "Japan (2014)",
          "United States (2012)",
          "Slovenia (2014)",
          "Canada (2011)",
          "Poland (2010)",
          "Estonia (2015)",
          "Luxembourg (2013)",
          "Portugal (2011)"
         ]
        }
       ],
       "layout": {
        "hovermode": "closest",
        "legend": {
         "font": {
          "size": 10
         },
         "xanchor": "right",
         "yanchor": "middle"
        },
        "margin": {
         "b": 50,
         "l": 140,
         "r": 40,
         "t": 80
        },
        "paper_bgcolor": "rgb(254, 247, 234)",
        "plot_bgcolor": "rgb(254, 247, 234)",
        "title": "Votes cast for ten lowest voting age population in OECD countries",
        "xaxis": {
         "dtick": 5,
         "linecolor": "rgb(102, 102, 102)",
         "showgrid": false,
         "showline": true,
         "showticklabels": true,
         "tickcolor": "rgb(102, 102, 102)",
         "tickfont": {
          "color": "rgb(102, 102, 102)"
         },
         "ticks": "outside",
         "titlefont": {
          "color": "rgb(204, 204, 204)"
         }
        }
       }
      },
      "text/html": [
       "<div id=\"e0dc328e-80e1-4482-94a9-738f02295f10\" style=\"height: 525px; width: 100%;\" class=\"plotly-graph-div\"></div><script type=\"text/javascript\">require([\"plotly\"], function(Plotly) { window.PLOTLYENV=window.PLOTLYENV || {};window.PLOTLYENV.BASE_URL=\"https://plot.ly\";Plotly.newPlot(\"e0dc328e-80e1-4482-94a9-738f02295f10\", [{\"marker\": {\"color\": \"rgba(156, 165, 196, 0.95)\", \"line\": {\"color\": \"rgba(156, 165, 196, 1.0)\", \"width\": 1}, \"size\": 16, \"symbol\": \"circle\"}, \"mode\": \"markers\", \"name\": \"Percent of estimated voting age population\", \"x\": [40, 45.7, 52, 53.6, 54.1, 54.2, 54.5, 54.7, 55.1, 56.6], \"y\": [\"Switzerland (2011)\", \"Chile (2013)\", \"Japan (2014)\", \"United States (2012)\", \"Slovenia (2014)\", \"Canada (2011)\", \"Poland (2010)\", \"Estonia (2015)\", \"Luxembourg (2013)\", \"Portugal (2011)\"], \"type\": \"scatter\", \"uid\": \"0937aa8c-f4e7-48c1-bff3-4feca0f54ac5\"}, {\"marker\": {\"color\": \"rgba(204, 204, 204, 0.95)\", \"line\": {\"color\": \"rgba(217, 217, 217, 1.0)\", \"width\": 1}, \"size\": 14, \"symbol\": \"circle\"}, \"mode\": \"markers\", \"name\": \"Percent of estimated registered voters\", \"x\": [49.1, 42, 52.7, 84.3, 51.7, 61.1, 55.3, 64.2, 91.1, 58.9], \"y\": [\"Switzerland (2011)\", \"Chile (2013)\", \"Japan (2014)\", \"United States (2012)\", \"Slovenia (2014)\", \"Canada (2011)\", \"Poland (2010)\", \"Estonia (2015)\", \"Luxembourg (2013)\", \"Portugal (2011)\"], \"type\": \"scatter\", \"uid\": \"b75f1029-d601-4e66-82dc-7fcb9de60dc2\"}], {\"hovermode\": \"closest\", \"legend\": {\"font\": {\"size\": 10}, \"xanchor\": \"right\", \"yanchor\": \"middle\"}, \"margin\": {\"b\": 50, \"l\": 140, \"r\": 40, \"t\": 80}, \"paper_bgcolor\": \"rgb(254, 247, 234)\", \"plot_bgcolor\": \"rgb(254, 247, 234)\", \"title\": \"Votes cast for ten lowest voting age population in OECD countries\", \"xaxis\": {\"dtick\": 5, \"linecolor\": \"rgb(102, 102, 102)\", \"showgrid\": false, \"showline\": true, \"showticklabels\": true, \"tickcolor\": \"rgb(102, 102, 102)\", \"tickfont\": {\"color\": \"rgb(102, 102, 102)\"}, \"ticks\": \"outside\", \"titlefont\": {\"color\": \"rgb(204, 204, 204)\"}}}, {\"showLink\": true, \"linkText\": \"Export to plot.ly\", \"plotlyServerURL\": \"https://plot.ly\"})});</script><script type=\"text/javascript\">window.addEventListener(\"resize\", function(){window._Plotly.Plots.resize(document.getElementById(\"e0dc328e-80e1-4482-94a9-738f02295f10\"));});</script>"
      ],
      "text/vnd.plotly.v1+html": [
       "<div id=\"e0dc328e-80e1-4482-94a9-738f02295f10\" style=\"height: 525px; width: 100%;\" class=\"plotly-graph-div\"></div><script type=\"text/javascript\">require([\"plotly\"], function(Plotly) { window.PLOTLYENV=window.PLOTLYENV || {};window.PLOTLYENV.BASE_URL=\"https://plot.ly\";Plotly.newPlot(\"e0dc328e-80e1-4482-94a9-738f02295f10\", [{\"marker\": {\"color\": \"rgba(156, 165, 196, 0.95)\", \"line\": {\"color\": \"rgba(156, 165, 196, 1.0)\", \"width\": 1}, \"size\": 16, \"symbol\": \"circle\"}, \"mode\": \"markers\", \"name\": \"Percent of estimated voting age population\", \"x\": [40, 45.7, 52, 53.6, 54.1, 54.2, 54.5, 54.7, 55.1, 56.6], \"y\": [\"Switzerland (2011)\", \"Chile (2013)\", \"Japan (2014)\", \"United States (2012)\", \"Slovenia (2014)\", \"Canada (2011)\", \"Poland (2010)\", \"Estonia (2015)\", \"Luxembourg (2013)\", \"Portugal (2011)\"], \"type\": \"scatter\", \"uid\": \"0937aa8c-f4e7-48c1-bff3-4feca0f54ac5\"}, {\"marker\": {\"color\": \"rgba(204, 204, 204, 0.95)\", \"line\": {\"color\": \"rgba(217, 217, 217, 1.0)\", \"width\": 1}, \"size\": 14, \"symbol\": \"circle\"}, \"mode\": \"markers\", \"name\": \"Percent of estimated registered voters\", \"x\": [49.1, 42, 52.7, 84.3, 51.7, 61.1, 55.3, 64.2, 91.1, 58.9], \"y\": [\"Switzerland (2011)\", \"Chile (2013)\", \"Japan (2014)\", \"United States (2012)\", \"Slovenia (2014)\", \"Canada (2011)\", \"Poland (2010)\", \"Estonia (2015)\", \"Luxembourg (2013)\", \"Portugal (2011)\"], \"type\": \"scatter\", \"uid\": \"b75f1029-d601-4e66-82dc-7fcb9de60dc2\"}], {\"hovermode\": \"closest\", \"legend\": {\"font\": {\"size\": 10}, \"xanchor\": \"right\", \"yanchor\": \"middle\"}, \"margin\": {\"b\": 50, \"l\": 140, \"r\": 40, \"t\": 80}, \"paper_bgcolor\": \"rgb(254, 247, 234)\", \"plot_bgcolor\": \"rgb(254, 247, 234)\", \"title\": \"Votes cast for ten lowest voting age population in OECD countries\", \"xaxis\": {\"dtick\": 5, \"linecolor\": \"rgb(102, 102, 102)\", \"showgrid\": false, \"showline\": true, \"showticklabels\": true, \"tickcolor\": \"rgb(102, 102, 102)\", \"tickfont\": {\"color\": \"rgb(102, 102, 102)\"}, \"ticks\": \"outside\", \"titlefont\": {\"color\": \"rgb(204, 204, 204)\"}}}, {\"showLink\": true, \"linkText\": \"Export to plot.ly\", \"plotlyServerURL\": \"https://plot.ly\"})});</script><script type=\"text/javascript\">window.addEventListener(\"resize\", function(){window._Plotly.Plots.resize(document.getElementById(\"e0dc328e-80e1-4482-94a9-738f02295f10\"));});</script>"
      ]
     },
     "metadata": {},
     "output_type": "display_data"
    }
   ],
   "source": [
    "country = ['Switzerland (2011)', 'Chile (2013)', 'Japan (2014)',\n",
    "           'United States (2012)', 'Slovenia (2014)', 'Canada (2011)',\n",
    "           'Poland (2010)', 'Estonia (2015)', 'Luxembourg (2013)', 'Portugal (2011)']\n",
    "voting_pop = [40, 45.7, 52, 53.6, 54.1, 54.2, 54.5, 54.7, 55.1, 56.6]\n",
    "reg_voters = [49.1, 42, 52.7, 84.3, 51.7, 61.1, 55.3, 64.2, 91.1, 58.9]\n",
    "\n",
    "trace0 = go.Scatter(\n",
    "    x=voting_pop,\n",
    "    y=country,\n",
    "    mode='markers',\n",
    "    name='Percent of estimated voting age population',\n",
    "    marker=dict(\n",
    "        color='rgba(156, 165, 196, 0.95)',\n",
    "        line=dict(\n",
    "            color='rgba(156, 165, 196, 1.0)',\n",
    "            width=1,\n",
    "        ),\n",
    "        symbol='circle',\n",
    "        size=16,\n",
    "    )\n",
    ")\n",
    "trace1 = go.Scatter(\n",
    "    x=reg_voters,\n",
    "    y=country,\n",
    "    mode='markers',\n",
    "    name='Percent of estimated registered voters',\n",
    "    marker=dict(\n",
    "        color='rgba(204, 204, 204, 0.95)',\n",
    "        line=dict(\n",
    "            color='rgba(217, 217, 217, 1.0)',\n",
    "            width=1,\n",
    "        ),\n",
    "        symbol='circle',\n",
    "        size=14,\n",
    "    )\n",
    ")\n",
    "\n",
    "data = [trace0, trace1]\n",
    "layout = go.Layout(\n",
    "    title=\"Votes cast for ten lowest voting age population in OECD countries\",\n",
    "    xaxis=dict(\n",
    "        showgrid=False,\n",
    "        showline=True,\n",
    "        linecolor='rgb(102, 102, 102)',\n",
    "        titlefont=dict(\n",
    "            color='rgb(204, 204, 204)'\n",
    "        ),\n",
    "        tickfont=dict(\n",
    "            color='rgb(102, 102, 102)',\n",
    "        ),\n",
    "        showticklabels=True,\n",
    "        dtick=5,\n",
    "        ticks='outside',\n",
    "        tickcolor='rgb(102, 102, 102)',\n",
    "    ),\n",
    "    margin=dict(\n",
    "        l=140,\n",
    "        r=40,\n",
    "        b=50,\n",
    "        t=80\n",
    "    ),\n",
    "    legend=dict(\n",
    "        font=dict(\n",
    "            size=10,\n",
    "        ),\n",
    "        yanchor='middle',\n",
    "        xanchor='right',\n",
    "    ),\n",
    "    paper_bgcolor='rgb(254, 247, 234)',\n",
    "    plot_bgcolor='rgb(254, 247, 234)',\n",
    "    hovermode='closest',\n",
    ")\n",
    "fig = go.Figure(data=data, layout=layout)\n",
    "plotly.offline.iplot(fig, filename='lowest-oecd-votes-cast')"
   ]
  }
 ],
 "metadata": {
  "kernelspec": {
   "display_name": "Python 3",
   "language": "python",
   "name": "python3"
  },
  "language_info": {
   "codemirror_mode": {
    "name": "ipython",
    "version": 3
   },
   "file_extension": ".py",
   "mimetype": "text/x-python",
   "name": "python",
   "nbconvert_exporter": "python",
   "pygments_lexer": "ipython3",
   "version": "3.6.5"
  }
 },
 "nbformat": 4,
 "nbformat_minor": 2
}
