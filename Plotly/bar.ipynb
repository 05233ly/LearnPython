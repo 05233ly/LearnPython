{
 "cells": [
  {
   "cell_type": "code",
   "execution_count": 75,
   "metadata": {},
   "outputs": [
    {
     "data": {
      "text/html": [
       "<script type=\"text/javascript\">window.PlotlyConfig = {MathJaxConfig: 'local'};</script><script type=\"text/javascript\">if (window.MathJax) {MathJax.Hub.Config({SVG: {font: \"STIX-Web\"}});}</script><script>requirejs.config({paths: { 'plotly': ['https://cdn.plot.ly/plotly-latest.min']},});if(!window._Plotly) {require(['plotly'],function(plotly) {window._Plotly=plotly;});}</script>"
      ],
      "text/vnd.plotly.v1+html": [
       "<script type=\"text/javascript\">window.PlotlyConfig = {MathJaxConfig: 'local'};</script><script type=\"text/javascript\">if (window.MathJax) {MathJax.Hub.Config({SVG: {font: \"STIX-Web\"}});}</script><script>requirejs.config({paths: { 'plotly': ['https://cdn.plot.ly/plotly-latest.min']},});if(!window._Plotly) {require(['plotly'],function(plotly) {window._Plotly=plotly;});}</script>"
      ]
     },
     "metadata": {},
     "output_type": "display_data"
    }
   ],
   "source": [
    "import plotly\n",
    "import plotly.graph_objs as go\n",
    "import math\n",
    "import random\n",
    "import numpy as np\n",
    "import pandas as pd\n",
    "plotly.offline.init_notebook_mode(connected=True)"
   ]
  },
  {
   "cell_type": "markdown",
   "metadata": {},
   "source": [
    "# Colored and Styled -- Grouped(Stacked) Bar Chart"
   ]
  },
  {
   "cell_type": "code",
   "execution_count": 76,
   "metadata": {},
   "outputs": [
    {
     "data": {
      "application/vnd.plotly.v1+json": {
       "config": {
        "linkText": "Export to plot.ly",
        "plotlyServerURL": "https://plot.ly",
        "showLink": true
       },
       "data": [
        {
         "marker": {
          "color": "rgb(158,202,225)",
          "line": {
           "color": "rgb(8,48,107)",
           "width": 1.5
          },
          "opacity": 0.6
         },
         "name": "SF Zoo",
         "text": [
          "gi: 20",
          "or: 14",
          "mo: 23",
          "ti: 5",
          "ra: 16"
         ],
         "textposition": "auto",
         "type": "bar",
         "uid": "35ffe976-e896-4853-8ac2-4116edc863db",
         "x": [
          "giraffes",
          "orangutans",
          "monkeys",
          "tigers",
          "rabbits"
         ],
         "y": [
          20,
          14,
          23,
          5,
          16
         ]
        },
        {
         "name": "LA Zoo",
         "type": "bar",
         "uid": "508c881c-30b6-4365-a379-8ea6dcdaf37c",
         "x": [
          "giraffes",
          "orangutans",
          "monkeys",
          "tigers",
          "rabbits"
         ],
         "y": [
          12,
          18,
          29,
          8,
          21
         ]
        }
       ],
       "layout": {
        "bargap": 0.15,
        "bargroupgap": 0.05,
        "barmode": "group",
        "legend": {
         "bgcolor": "rgba(0, 0, 255, 0)",
         "bordercolor": "rgba(0, 0, 255, 0)",
         "x": 0,
         "y": 1
        },
        "title": "SF and LA Zoo Bar",
        "xaxis": {
         "tickangle": -45,
         "tickfont": {
          "color": "rgb(107, 107, 107)",
          "size": 14
         }
        },
        "yaxis": {
         "tickfont": {
          "color": "rgb(107, 107, 107)",
          "size": 14
         },
         "title": "number",
         "titlefont": {
          "color": "rgb(107, 107, 107)",
          "size": 16
         }
        }
       }
      },
      "text/html": [
       "<div id=\"4fb036ca-8fe1-48c4-adec-eba41e0488da\" style=\"height: 525px; width: 100%;\" class=\"plotly-graph-div\"></div><script type=\"text/javascript\">require([\"plotly\"], function(Plotly) { window.PLOTLYENV=window.PLOTLYENV || {};window.PLOTLYENV.BASE_URL=\"https://plot.ly\";Plotly.newPlot(\"4fb036ca-8fe1-48c4-adec-eba41e0488da\", [{\"marker\": {\"color\": \"rgb(158,202,225)\", \"line\": {\"color\": \"rgb(8,48,107)\", \"width\": 1.5}, \"opacity\": 0.6}, \"name\": \"SF Zoo\", \"text\": [\"gi: 20\", \"or: 14\", \"mo: 23\", \"ti: 5\", \"ra: 16\"], \"textposition\": \"auto\", \"x\": [\"giraffes\", \"orangutans\", \"monkeys\", \"tigers\", \"rabbits\"], \"y\": [20, 14, 23, 5, 16], \"type\": \"bar\", \"uid\": \"35ffe976-e896-4853-8ac2-4116edc863db\"}, {\"name\": \"LA Zoo\", \"x\": [\"giraffes\", \"orangutans\", \"monkeys\", \"tigers\", \"rabbits\"], \"y\": [12, 18, 29, 8, 21], \"type\": \"bar\", \"uid\": \"508c881c-30b6-4365-a379-8ea6dcdaf37c\"}], {\"bargap\": 0.15, \"bargroupgap\": 0.05, \"barmode\": \"group\", \"legend\": {\"bgcolor\": \"rgba(0, 0, 255, 0)\", \"bordercolor\": \"rgba(0, 0, 255, 0)\", \"x\": 0, \"y\": 1}, \"title\": \"SF and LA Zoo Bar\", \"xaxis\": {\"tickangle\": -45, \"tickfont\": {\"color\": \"rgb(107, 107, 107)\", \"size\": 14}}, \"yaxis\": {\"tickfont\": {\"color\": \"rgb(107, 107, 107)\", \"size\": 14}, \"title\": \"number\", \"titlefont\": {\"color\": \"rgb(107, 107, 107)\", \"size\": 16}}}, {\"showLink\": true, \"linkText\": \"Export to plot.ly\", \"plotlyServerURL\": \"https://plot.ly\"})});</script><script type=\"text/javascript\">window.addEventListener(\"resize\", function(){window._Plotly.Plots.resize(document.getElementById(\"4fb036ca-8fe1-48c4-adec-eba41e0488da\"));});</script>"
      ],
      "text/vnd.plotly.v1+html": [
       "<div id=\"4fb036ca-8fe1-48c4-adec-eba41e0488da\" style=\"height: 525px; width: 100%;\" class=\"plotly-graph-div\"></div><script type=\"text/javascript\">require([\"plotly\"], function(Plotly) { window.PLOTLYENV=window.PLOTLYENV || {};window.PLOTLYENV.BASE_URL=\"https://plot.ly\";Plotly.newPlot(\"4fb036ca-8fe1-48c4-adec-eba41e0488da\", [{\"marker\": {\"color\": \"rgb(158,202,225)\", \"line\": {\"color\": \"rgb(8,48,107)\", \"width\": 1.5}, \"opacity\": 0.6}, \"name\": \"SF Zoo\", \"text\": [\"gi: 20\", \"or: 14\", \"mo: 23\", \"ti: 5\", \"ra: 16\"], \"textposition\": \"auto\", \"x\": [\"giraffes\", \"orangutans\", \"monkeys\", \"tigers\", \"rabbits\"], \"y\": [20, 14, 23, 5, 16], \"type\": \"bar\", \"uid\": \"35ffe976-e896-4853-8ac2-4116edc863db\"}, {\"name\": \"LA Zoo\", \"x\": [\"giraffes\", \"orangutans\", \"monkeys\", \"tigers\", \"rabbits\"], \"y\": [12, 18, 29, 8, 21], \"type\": \"bar\", \"uid\": \"508c881c-30b6-4365-a379-8ea6dcdaf37c\"}], {\"bargap\": 0.15, \"bargroupgap\": 0.05, \"barmode\": \"group\", \"legend\": {\"bgcolor\": \"rgba(0, 0, 255, 0)\", \"bordercolor\": \"rgba(0, 0, 255, 0)\", \"x\": 0, \"y\": 1}, \"title\": \"SF and LA Zoo Bar\", \"xaxis\": {\"tickangle\": -45, \"tickfont\": {\"color\": \"rgb(107, 107, 107)\", \"size\": 14}}, \"yaxis\": {\"tickfont\": {\"color\": \"rgb(107, 107, 107)\", \"size\": 14}, \"title\": \"number\", \"titlefont\": {\"color\": \"rgb(107, 107, 107)\", \"size\": 16}}}, {\"showLink\": true, \"linkText\": \"Export to plot.ly\", \"plotlyServerURL\": \"https://plot.ly\"})});</script><script type=\"text/javascript\">window.addEventListener(\"resize\", function(){window._Plotly.Plots.resize(document.getElementById(\"4fb036ca-8fe1-48c4-adec-eba41e0488da\"));});</script>"
      ]
     },
     "metadata": {},
     "output_type": "display_data"
    }
   ],
   "source": [
    "trace0 = go.Bar(\n",
    "    x = ['giraffes', 'orangutans', 'monkeys', 'tigers', 'rabbits'],\n",
    "    y = [20, 14, 23, 5, 16],\n",
    "    name = 'SF Zoo',    \n",
    "    # 显示为横向的Bar，但此时要改变x、y的顺序\n",
    "    # orientation = 'h',\n",
    "    # 直接在图上显示text的内容\n",
    "    textposition = 'auto',\n",
    "    # Text的内容Hover Text\n",
    "    text = [\"gi: 20\", \"or: 14\", \"mo: 23\", \"ti: 5\", \"ra: 16\"],\n",
    "    marker = dict(\n",
    "        color='rgb(158,202,225)',\n",
    "        line=dict(color='rgb(8,48,107)', width=1.5),\n",
    "        opacity = 0.6\n",
    "    )\n",
    ")\n",
    "trace1 = go.Bar(\n",
    "    x = ['giraffes', 'orangutans', 'monkeys', 'tigers', 'rabbits'],\n",
    "    y = [12, 18, 29, 8, 21],\n",
    "    name = 'LA Zoo',\n",
    "    # 显示为横向的Bar，但此时要改变x、y的顺序\n",
    "    # orientation = 'h',\n",
    ")\n",
    "\n",
    "data = [trace0, trace1]\n",
    "layout = go.Layout(\n",
    "    title='SF and LA Zoo Bar',\n",
    "    xaxis=dict(\n",
    "        # 旋转X坐标角度\n",
    "        tickangle=-45,\n",
    "        tickfont=dict(size=14, color='rgb(107, 107, 107)')\n",
    "    ),\n",
    "    yaxis=dict(\n",
    "        title='number',\n",
    "        titlefont=dict(size=16, color='rgb(107, 107, 107)'),\n",
    "        tickfont=dict(size=14, color='rgb(107, 107, 107)')\n",
    "    ),\n",
    "    legend=dict(\n",
    "        # X/Y值标定图例的位置，范围从0到1\n",
    "        x=0, y=1,\n",
    "        bgcolor='rgba(0, 0, 255, 0)',\n",
    "        bordercolor='rgba(0, 0, 255, 0)'\n",
    "    ),\n",
    "    # stack就是上下罗列\n",
    "    barmode='group',\n",
    "    bargap=0.15,\n",
    "    bargroupgap=0.05\n",
    ")\n",
    "fig = go.Figure(data=data, layout=layout)\n",
    "plotly.offline.iplot(fig, filename='grouped-bar')"
   ]
  },
  {
   "cell_type": "markdown",
   "metadata": {},
   "source": [
    "# Customizing Individual Bar"
   ]
  },
  {
   "cell_type": "code",
   "execution_count": 77,
   "metadata": {},
   "outputs": [
    {
     "data": {
      "application/vnd.plotly.v1+json": {
       "config": {
        "linkText": "Export to plot.ly",
        "plotlyServerURL": "https://plot.ly",
        "showLink": true
       },
       "data": [
        {
         "marker": {
          "color": [
           "rgba(204,204,204,1)",
           "rgba(222,45,38,0.8)",
           "rgba(204,204,204,1)",
           "rgba(204,204,204,1)",
           "rgba(204,204,204,1)"
          ]
         },
         "type": "bar",
         "uid": "871b2f2f-a343-4540-aed9-72f3c862e7be",
         "width": [
          0.8,
          0.5,
          0.8,
          1,
          0.5
         ],
         "x": [
          "Feature A",
          "Feature B",
          "Feature C",
          "Feature D",
          "Feature E"
         ],
         "y": [
          20,
          14,
          23,
          25,
          22
         ]
        }
       ],
       "layout": {
        "title": "Least Used Feature"
       }
      },
      "text/html": [
       "<div id=\"7ecf6cec-6269-42d7-bed0-0382c16ae3c6\" style=\"height: 525px; width: 100%;\" class=\"plotly-graph-div\"></div><script type=\"text/javascript\">require([\"plotly\"], function(Plotly) { window.PLOTLYENV=window.PLOTLYENV || {};window.PLOTLYENV.BASE_URL=\"https://plot.ly\";Plotly.newPlot(\"7ecf6cec-6269-42d7-bed0-0382c16ae3c6\", [{\"marker\": {\"color\": [\"rgba(204,204,204,1)\", \"rgba(222,45,38,0.8)\", \"rgba(204,204,204,1)\", \"rgba(204,204,204,1)\", \"rgba(204,204,204,1)\"]}, \"width\": [0.8, 0.5, 0.8, 1, 0.5], \"x\": [\"Feature A\", \"Feature B\", \"Feature C\", \"Feature D\", \"Feature E\"], \"y\": [20, 14, 23, 25, 22], \"type\": \"bar\", \"uid\": \"871b2f2f-a343-4540-aed9-72f3c862e7be\"}], {\"title\": \"Least Used Feature\"}, {\"showLink\": true, \"linkText\": \"Export to plot.ly\", \"plotlyServerURL\": \"https://plot.ly\"})});</script><script type=\"text/javascript\">window.addEventListener(\"resize\", function(){window._Plotly.Plots.resize(document.getElementById(\"7ecf6cec-6269-42d7-bed0-0382c16ae3c6\"));});</script>"
      ],
      "text/vnd.plotly.v1+html": [
       "<div id=\"7ecf6cec-6269-42d7-bed0-0382c16ae3c6\" style=\"height: 525px; width: 100%;\" class=\"plotly-graph-div\"></div><script type=\"text/javascript\">require([\"plotly\"], function(Plotly) { window.PLOTLYENV=window.PLOTLYENV || {};window.PLOTLYENV.BASE_URL=\"https://plot.ly\";Plotly.newPlot(\"7ecf6cec-6269-42d7-bed0-0382c16ae3c6\", [{\"marker\": {\"color\": [\"rgba(204,204,204,1)\", \"rgba(222,45,38,0.8)\", \"rgba(204,204,204,1)\", \"rgba(204,204,204,1)\", \"rgba(204,204,204,1)\"]}, \"width\": [0.8, 0.5, 0.8, 1, 0.5], \"x\": [\"Feature A\", \"Feature B\", \"Feature C\", \"Feature D\", \"Feature E\"], \"y\": [20, 14, 23, 25, 22], \"type\": \"bar\", \"uid\": \"871b2f2f-a343-4540-aed9-72f3c862e7be\"}], {\"title\": \"Least Used Feature\"}, {\"showLink\": true, \"linkText\": \"Export to plot.ly\", \"plotlyServerURL\": \"https://plot.ly\"})});</script><script type=\"text/javascript\">window.addEventListener(\"resize\", function(){window._Plotly.Plots.resize(document.getElementById(\"7ecf6cec-6269-42d7-bed0-0382c16ae3c6\"));});</script>"
      ]
     },
     "metadata": {},
     "output_type": "display_data"
    }
   ],
   "source": [
    "trace = go.Bar(\n",
    "    x=['Feature A', 'Feature B', 'Feature C', 'Feature D', 'Feature E'],\n",
    "    y=[20, 14, 23, 25, 22],\n",
    "    # 自定义宽度\n",
    "    width = [0.8, 0.5, 0.8, 1, 0.5],\n",
    "    # 自定义颜色\n",
    "    marker=dict(color=['rgba(204,204,204,1)', 'rgba(222,45,38,0.8)', 'rgba(204,204,204,1)', 'rgba(204,204,204,1)', 'rgba(204,204,204,1)']),\n",
    ")\n",
    "\n",
    "layout = go.Layout(title='Least Used Feature')\n",
    "fig = go.Figure(data=[trace], layout=layout)\n",
    "plotly.offline.iplot(fig, filename='custom-bar')"
   ]
  },
  {
   "cell_type": "markdown",
   "metadata": {},
   "source": [
    "# Customizing Individual Bar Base"
   ]
  },
  {
   "cell_type": "code",
   "execution_count": 78,
   "metadata": {},
   "outputs": [
    {
     "data": {
      "application/vnd.plotly.v1+json": {
       "config": {
        "linkText": "Export to plot.ly",
        "plotlyServerURL": "https://plot.ly",
        "showLink": true
       },
       "data": [
        {
         "base": [
          -500,
          -600,
          -700
         ],
         "marker": {
          "color": "red"
         },
         "name": "expenses",
         "type": "bar",
         "uid": "6a8f3917-403b-4ad4-9313-62712ddeda2e",
         "x": [
          "2016",
          "2017",
          "2018"
         ],
         "y": [
          500,
          600,
          700
         ]
        },
        {
         "base": 0,
         "marker": {
          "color": "blue"
         },
         "name": "revenue",
         "type": "bar",
         "uid": "dd558aae-fe0d-4220-939c-064bb9154d2f",
         "x": [
          "2016",
          "2017",
          "2018"
         ],
         "y": [
          300,
          400,
          700
         ]
        }
       ],
       "layout": {}
      },
      "text/html": [
       "<div id=\"addb6d23-bfd2-490b-8495-0320bbf1cb1f\" style=\"height: 525px; width: 100%;\" class=\"plotly-graph-div\"></div><script type=\"text/javascript\">require([\"plotly\"], function(Plotly) { window.PLOTLYENV=window.PLOTLYENV || {};window.PLOTLYENV.BASE_URL=\"https://plot.ly\";Plotly.newPlot(\"addb6d23-bfd2-490b-8495-0320bbf1cb1f\", [{\"base\": [-500, -600, -700], \"marker\": {\"color\": \"red\"}, \"name\": \"expenses\", \"x\": [\"2016\", \"2017\", \"2018\"], \"y\": [500, 600, 700], \"type\": \"bar\", \"uid\": \"e1437207-483d-46a2-86fc-448f4bc1846b\"}, {\"base\": 0, \"marker\": {\"color\": \"blue\"}, \"name\": \"revenue\", \"x\": [\"2016\", \"2017\", \"2018\"], \"y\": [300, 400, 700], \"type\": \"bar\", \"uid\": \"133f5e55-ac58-4106-80f7-783a8c08eaf4\"}], {}, {\"showLink\": true, \"linkText\": \"Export to plot.ly\", \"plotlyServerURL\": \"https://plot.ly\"})});</script><script type=\"text/javascript\">window.addEventListener(\"resize\", function(){window._Plotly.Plots.resize(document.getElementById(\"addb6d23-bfd2-490b-8495-0320bbf1cb1f\"));});</script>"
      ],
      "text/vnd.plotly.v1+html": [
       "<div id=\"addb6d23-bfd2-490b-8495-0320bbf1cb1f\" style=\"height: 525px; width: 100%;\" class=\"plotly-graph-div\"></div><script type=\"text/javascript\">require([\"plotly\"], function(Plotly) { window.PLOTLYENV=window.PLOTLYENV || {};window.PLOTLYENV.BASE_URL=\"https://plot.ly\";Plotly.newPlot(\"addb6d23-bfd2-490b-8495-0320bbf1cb1f\", [{\"base\": [-500, -600, -700], \"marker\": {\"color\": \"red\"}, \"name\": \"expenses\", \"x\": [\"2016\", \"2017\", \"2018\"], \"y\": [500, 600, 700], \"type\": \"bar\", \"uid\": \"e1437207-483d-46a2-86fc-448f4bc1846b\"}, {\"base\": 0, \"marker\": {\"color\": \"blue\"}, \"name\": \"revenue\", \"x\": [\"2016\", \"2017\", \"2018\"], \"y\": [300, 400, 700], \"type\": \"bar\", \"uid\": \"133f5e55-ac58-4106-80f7-783a8c08eaf4\"}], {}, {\"showLink\": true, \"linkText\": \"Export to plot.ly\", \"plotlyServerURL\": \"https://plot.ly\"})});</script><script type=\"text/javascript\">window.addEventListener(\"resize\", function(){window._Plotly.Plots.resize(document.getElementById(\"addb6d23-bfd2-490b-8495-0320bbf1cb1f\"));});</script>"
      ]
     },
     "metadata": {},
     "output_type": "display_data"
    }
   ],
   "source": [
    "trace0 = go.Bar(\n",
    "    x = ['2016', '2017', '2018'],\n",
    "    y = [500, 600, 700],\n",
    "    base = [-500, -600, -700],\n",
    "    marker = dict(color = 'red'),\n",
    "    name = 'expenses'\n",
    ")\n",
    "trace1 = go.Bar(\n",
    "    x = ['2016', '2017', '2018'],\n",
    "    y = [300, 400, 700],\n",
    "    base = 0,\n",
    "    marker = dict(color = 'blue'),\n",
    "    name = 'revenue'\n",
    ")\n",
    "plotly.offline.iplot([trace0, trace1], filename='base-bar')"
   ]
  },
  {
   "cell_type": "markdown",
   "metadata": {},
   "source": [
    "# Waterfall Bar Chart"
   ]
  },
  {
   "cell_type": "code",
   "execution_count": 79,
   "metadata": {},
   "outputs": [
    {
     "data": {
      "application/vnd.plotly.v1+json": {
       "config": {
        "linkText": "Export to plot.ly",
        "plotlyServerURL": "https://plot.ly",
        "showLink": true
       },
       "data": [
        {
         "marker": {
          "color": "rgba(1,1,1, 0.0)"
         },
         "type": "bar",
         "uid": "2b6905bf-04bf-4c22-9d34-f2915f880a91",
         "x": [
          "Product<br>Revenue",
          "Services<br>Revenue",
          "Total<br>Revenue",
          "Fixed<br>Costs",
          "Variable<br>Costs",
          "Total<br>Costs",
          "Total"
         ],
         "y": [
          0,
          430,
          0,
          570,
          370,
          370,
          0
         ]
        },
        {
         "marker": {
          "color": "rgba(55, 128, 191, 0.7)",
          "line": {
           "color": "rgba(55, 128, 191, 1.0)",
           "width": 2
          }
         },
         "type": "bar",
         "uid": "43fab406-484a-4716-ada6-7caf366762eb",
         "x": [
          "Product<br>Revenue",
          "Services<br>Revenue",
          "Total<br>Revenue",
          "Fixed<br>Costs",
          "Variable<br>Costs",
          "Total<br>Costs",
          "Total"
         ],
         "y": [
          430,
          260,
          690,
          0,
          0,
          0,
          0
         ]
        },
        {
         "marker": {
          "color": "rgba(219, 64, 82, 0.7)",
          "line": {
           "color": "rgba(219, 64, 82, 1.0)",
           "width": 2
          }
         },
         "type": "bar",
         "uid": "59df9db4-dcd3-40d0-9f68-ad60f8f7f9c6",
         "x": [
          "Product<br>Revenue",
          "Services<br>Revenue",
          "Total<br>Revenue",
          "Fixed<br>Costs",
          "Variable<br>Costs",
          "Total<br>Costs",
          "Total"
         ],
         "y": [
          0,
          0,
          0,
          120,
          200,
          320,
          0
         ]
        },
        {
         "marker": {
          "color": "rgba(50, 171, 96, 0.7)",
          "line": {
           "color": "rgba(50, 171, 96, 1.0)",
           "width": 2
          }
         },
         "type": "bar",
         "uid": "0da7e54c-921a-46c1-882a-d04bcb318edb",
         "x": [
          "Product<br>Revenue",
          "Services<br>Revenue",
          "Total<br>Revenue",
          "Fixed<br>Costs",
          "Variable<br>Costs",
          "Total<br>Costs",
          "Total"
         ],
         "y": [
          0,
          0,
          0,
          0,
          0,
          0,
          370
         ]
        }
       ],
       "layout": {
        "annotations": [
         {
          "font": {
           "color": "rgba(245, 246, 249, 1)",
           "family": "Arial",
           "size": 14
          },
          "showarrow": false,
          "text": "$430K",
          "x": "Product<br>Revenue",
          "y": 400
         },
         {
          "font": {
           "color": "rgba(245, 246, 249, 1)",
           "family": "Arial",
           "size": 14
          },
          "showarrow": false,
          "text": "$260K",
          "x": "Services<br>Revenue",
          "y": 660
         },
         {
          "font": {
           "color": "rgba(245, 246, 249, 1)",
           "family": "Arial",
           "size": 14
          },
          "showarrow": false,
          "text": "$690K",
          "x": "Total<br>Revenue",
          "y": 660
         },
         {
          "font": {
           "color": "rgba(245, 246, 249, 1)",
           "family": "Arial",
           "size": 14
          },
          "showarrow": false,
          "text": "$-120K",
          "x": "Fixed<br>Costs",
          "y": 590
         },
         {
          "font": {
           "color": "rgba(245, 246, 249, 1)",
           "family": "Arial",
           "size": 14
          },
          "showarrow": false,
          "text": "$-200K",
          "x": "Variable<br>Costs",
          "y": 400
         },
         {
          "font": {
           "color": "rgba(245, 246, 249, 1)",
           "family": "Arial",
           "size": 14
          },
          "showarrow": false,
          "text": "$-320K",
          "x": "Total<br>Costs",
          "y": 400
         },
         {
          "font": {
           "color": "rgba(245, 246, 249, 1)",
           "family": "Arial",
           "size": 14
          },
          "showarrow": false,
          "text": "$370K",
          "x": "Total",
          "y": 340
         }
        ],
        "barmode": "stack",
        "paper_bgcolor": "rgba(245, 246, 249, 1)",
        "plot_bgcolor": "rgba(245, 246, 249, 1)",
        "showlegend": false,
        "title": "Annual Profit- 2015"
       }
      },
      "text/html": [
       "<div id=\"b16d5444-0a59-4f8d-9132-88650a25ed69\" style=\"height: 525px; width: 100%;\" class=\"plotly-graph-div\"></div><script type=\"text/javascript\">require([\"plotly\"], function(Plotly) { window.PLOTLYENV=window.PLOTLYENV || {};window.PLOTLYENV.BASE_URL=\"https://plot.ly\";Plotly.newPlot(\"b16d5444-0a59-4f8d-9132-88650a25ed69\", [{\"marker\": {\"color\": \"rgba(1,1,1, 0.0)\"}, \"x\": [\"Product<br>Revenue\", \"Services<br>Revenue\", \"Total<br>Revenue\", \"Fixed<br>Costs\", \"Variable<br>Costs\", \"Total<br>Costs\", \"Total\"], \"y\": [0, 430, 0, 570, 370, 370, 0], \"type\": \"bar\", \"uid\": \"2b6905bf-04bf-4c22-9d34-f2915f880a91\"}, {\"marker\": {\"color\": \"rgba(55, 128, 191, 0.7)\", \"line\": {\"color\": \"rgba(55, 128, 191, 1.0)\", \"width\": 2}}, \"x\": [\"Product<br>Revenue\", \"Services<br>Revenue\", \"Total<br>Revenue\", \"Fixed<br>Costs\", \"Variable<br>Costs\", \"Total<br>Costs\", \"Total\"], \"y\": [430, 260, 690, 0, 0, 0, 0], \"type\": \"bar\", \"uid\": \"43fab406-484a-4716-ada6-7caf366762eb\"}, {\"marker\": {\"color\": \"rgba(219, 64, 82, 0.7)\", \"line\": {\"color\": \"rgba(219, 64, 82, 1.0)\", \"width\": 2}}, \"x\": [\"Product<br>Revenue\", \"Services<br>Revenue\", \"Total<br>Revenue\", \"Fixed<br>Costs\", \"Variable<br>Costs\", \"Total<br>Costs\", \"Total\"], \"y\": [0, 0, 0, 120, 200, 320, 0], \"type\": \"bar\", \"uid\": \"59df9db4-dcd3-40d0-9f68-ad60f8f7f9c6\"}, {\"marker\": {\"color\": \"rgba(50, 171, 96, 0.7)\", \"line\": {\"color\": \"rgba(50, 171, 96, 1.0)\", \"width\": 2}}, \"x\": [\"Product<br>Revenue\", \"Services<br>Revenue\", \"Total<br>Revenue\", \"Fixed<br>Costs\", \"Variable<br>Costs\", \"Total<br>Costs\", \"Total\"], \"y\": [0, 0, 0, 0, 0, 0, 370], \"type\": \"bar\", \"uid\": \"0da7e54c-921a-46c1-882a-d04bcb318edb\"}], {\"annotations\": [{\"font\": {\"color\": \"rgba(245, 246, 249, 1)\", \"family\": \"Arial\", \"size\": 14}, \"showarrow\": false, \"text\": \"$430K\", \"x\": \"Product<br>Revenue\", \"y\": 400}, {\"font\": {\"color\": \"rgba(245, 246, 249, 1)\", \"family\": \"Arial\", \"size\": 14}, \"showarrow\": false, \"text\": \"$260K\", \"x\": \"Services<br>Revenue\", \"y\": 660}, {\"font\": {\"color\": \"rgba(245, 246, 249, 1)\", \"family\": \"Arial\", \"size\": 14}, \"showarrow\": false, \"text\": \"$690K\", \"x\": \"Total<br>Revenue\", \"y\": 660}, {\"font\": {\"color\": \"rgba(245, 246, 249, 1)\", \"family\": \"Arial\", \"size\": 14}, \"showarrow\": false, \"text\": \"$-120K\", \"x\": \"Fixed<br>Costs\", \"y\": 590}, {\"font\": {\"color\": \"rgba(245, 246, 249, 1)\", \"family\": \"Arial\", \"size\": 14}, \"showarrow\": false, \"text\": \"$-200K\", \"x\": \"Variable<br>Costs\", \"y\": 400}, {\"font\": {\"color\": \"rgba(245, 246, 249, 1)\", \"family\": \"Arial\", \"size\": 14}, \"showarrow\": false, \"text\": \"$-320K\", \"x\": \"Total<br>Costs\", \"y\": 400}, {\"font\": {\"color\": \"rgba(245, 246, 249, 1)\", \"family\": \"Arial\", \"size\": 14}, \"showarrow\": false, \"text\": \"$370K\", \"x\": \"Total\", \"y\": 340}], \"barmode\": \"stack\", \"paper_bgcolor\": \"rgba(245, 246, 249, 1)\", \"plot_bgcolor\": \"rgba(245, 246, 249, 1)\", \"showlegend\": false, \"title\": \"Annual Profit- 2015\"}, {\"showLink\": true, \"linkText\": \"Export to plot.ly\", \"plotlyServerURL\": \"https://plot.ly\"})});</script><script type=\"text/javascript\">window.addEventListener(\"resize\", function(){window._Plotly.Plots.resize(document.getElementById(\"b16d5444-0a59-4f8d-9132-88650a25ed69\"));});</script>"
      ],
      "text/vnd.plotly.v1+html": [
       "<div id=\"b16d5444-0a59-4f8d-9132-88650a25ed69\" style=\"height: 525px; width: 100%;\" class=\"plotly-graph-div\"></div><script type=\"text/javascript\">require([\"plotly\"], function(Plotly) { window.PLOTLYENV=window.PLOTLYENV || {};window.PLOTLYENV.BASE_URL=\"https://plot.ly\";Plotly.newPlot(\"b16d5444-0a59-4f8d-9132-88650a25ed69\", [{\"marker\": {\"color\": \"rgba(1,1,1, 0.0)\"}, \"x\": [\"Product<br>Revenue\", \"Services<br>Revenue\", \"Total<br>Revenue\", \"Fixed<br>Costs\", \"Variable<br>Costs\", \"Total<br>Costs\", \"Total\"], \"y\": [0, 430, 0, 570, 370, 370, 0], \"type\": \"bar\", \"uid\": \"2b6905bf-04bf-4c22-9d34-f2915f880a91\"}, {\"marker\": {\"color\": \"rgba(55, 128, 191, 0.7)\", \"line\": {\"color\": \"rgba(55, 128, 191, 1.0)\", \"width\": 2}}, \"x\": [\"Product<br>Revenue\", \"Services<br>Revenue\", \"Total<br>Revenue\", \"Fixed<br>Costs\", \"Variable<br>Costs\", \"Total<br>Costs\", \"Total\"], \"y\": [430, 260, 690, 0, 0, 0, 0], \"type\": \"bar\", \"uid\": \"43fab406-484a-4716-ada6-7caf366762eb\"}, {\"marker\": {\"color\": \"rgba(219, 64, 82, 0.7)\", \"line\": {\"color\": \"rgba(219, 64, 82, 1.0)\", \"width\": 2}}, \"x\": [\"Product<br>Revenue\", \"Services<br>Revenue\", \"Total<br>Revenue\", \"Fixed<br>Costs\", \"Variable<br>Costs\", \"Total<br>Costs\", \"Total\"], \"y\": [0, 0, 0, 120, 200, 320, 0], \"type\": \"bar\", \"uid\": \"59df9db4-dcd3-40d0-9f68-ad60f8f7f9c6\"}, {\"marker\": {\"color\": \"rgba(50, 171, 96, 0.7)\", \"line\": {\"color\": \"rgba(50, 171, 96, 1.0)\", \"width\": 2}}, \"x\": [\"Product<br>Revenue\", \"Services<br>Revenue\", \"Total<br>Revenue\", \"Fixed<br>Costs\", \"Variable<br>Costs\", \"Total<br>Costs\", \"Total\"], \"y\": [0, 0, 0, 0, 0, 0, 370], \"type\": \"bar\", \"uid\": \"0da7e54c-921a-46c1-882a-d04bcb318edb\"}], {\"annotations\": [{\"font\": {\"color\": \"rgba(245, 246, 249, 1)\", \"family\": \"Arial\", \"size\": 14}, \"showarrow\": false, \"text\": \"$430K\", \"x\": \"Product<br>Revenue\", \"y\": 400}, {\"font\": {\"color\": \"rgba(245, 246, 249, 1)\", \"family\": \"Arial\", \"size\": 14}, \"showarrow\": false, \"text\": \"$260K\", \"x\": \"Services<br>Revenue\", \"y\": 660}, {\"font\": {\"color\": \"rgba(245, 246, 249, 1)\", \"family\": \"Arial\", \"size\": 14}, \"showarrow\": false, \"text\": \"$690K\", \"x\": \"Total<br>Revenue\", \"y\": 660}, {\"font\": {\"color\": \"rgba(245, 246, 249, 1)\", \"family\": \"Arial\", \"size\": 14}, \"showarrow\": false, \"text\": \"$-120K\", \"x\": \"Fixed<br>Costs\", \"y\": 590}, {\"font\": {\"color\": \"rgba(245, 246, 249, 1)\", \"family\": \"Arial\", \"size\": 14}, \"showarrow\": false, \"text\": \"$-200K\", \"x\": \"Variable<br>Costs\", \"y\": 400}, {\"font\": {\"color\": \"rgba(245, 246, 249, 1)\", \"family\": \"Arial\", \"size\": 14}, \"showarrow\": false, \"text\": \"$-320K\", \"x\": \"Total<br>Costs\", \"y\": 400}, {\"font\": {\"color\": \"rgba(245, 246, 249, 1)\", \"family\": \"Arial\", \"size\": 14}, \"showarrow\": false, \"text\": \"$370K\", \"x\": \"Total\", \"y\": 340}], \"barmode\": \"stack\", \"paper_bgcolor\": \"rgba(245, 246, 249, 1)\", \"plot_bgcolor\": \"rgba(245, 246, 249, 1)\", \"showlegend\": false, \"title\": \"Annual Profit- 2015\"}, {\"showLink\": true, \"linkText\": \"Export to plot.ly\", \"plotlyServerURL\": \"https://plot.ly\"})});</script><script type=\"text/javascript\">window.addEventListener(\"resize\", function(){window._Plotly.Plots.resize(document.getElementById(\"b16d5444-0a59-4f8d-9132-88650a25ed69\"));});</script>"
      ]
     },
     "metadata": {},
     "output_type": "display_data"
    }
   ],
   "source": [
    "x_data = ['Product<br>Revenue', 'Services<br>Revenue', 'Total<br>Revenue', \n",
    "          'Fixed<br>Costs', 'Variable<br>Costs', 'Total<br>Costs', \n",
    "          'Total']\n",
    "y_data = [400, 660, 660, 590, 400, 400, 340]\n",
    "text = ['$430K', '$260K', '$690K', '$-120K', '$-200K', '$-320K', '$370K']\n",
    "\n",
    "# Base\n",
    "trace0 = go.Bar(\n",
    "    x=x_data, y=[0, 430, 0, 570, 370, 370, 0],\n",
    "    marker=dict(color='rgba(1,1,1, 0.0)')\n",
    ")\n",
    "# Revenue\n",
    "trace1 = go.Bar(\n",
    "    x=x_data, y=[430, 260, 690, 0, 0, 0, 0],\n",
    "    marker=dict(color='rgba(55, 128, 191, 0.7)', line=dict(color='rgba(55, 128, 191, 1.0)', width=2))\n",
    ")\n",
    "# Costs\n",
    "trace2 = go.Bar(\n",
    "    x=x_data, y=[0, 0, 0, 120, 200, 320, 0],\n",
    "    marker=dict(color='rgba(219, 64, 82, 0.7)', line=dict(color='rgba(219, 64, 82, 1.0)', width=2))\n",
    ")\n",
    "# Profit\n",
    "trace3 = go.Bar(\n",
    "    x=x_data, y=[0, 0, 0, 0, 0, 0, 370],\n",
    "    marker=dict(color='rgba(50, 171, 96, 0.7)', line=dict(color='rgba(50, 171, 96, 1.0)', width=2))\n",
    ")\n",
    "\n",
    "data = [trace0, trace1, trace2, trace3]\n",
    "layout = go.Layout(\n",
    "    title='Annual Profit- 2015',\n",
    "    barmode='stack',\n",
    "    paper_bgcolor='rgba(245, 246, 249, 1)',\n",
    "    plot_bgcolor='rgba(245, 246, 249, 1)',\n",
    "    showlegend=False\n",
    ")\n",
    "\n",
    "# 添加标注信息\n",
    "annotations = []\n",
    "for i in range(0, 7):\n",
    "    annotations.append(\n",
    "        dict(x=x_data[i], y=y_data[i], text=text[i],\n",
    "             font=dict(family='Arial', size=14, color='rgba(245, 246, 249, 1)'), showarrow=False)\n",
    "    )\n",
    "layout['annotations'] = annotations\n",
    "\n",
    "fig = go.Figure(data=data, layout=layout)\n",
    "plotly.offline.iplot(fig, filename='waterfall-bar-profit')"
   ]
  },
  {
   "cell_type": "markdown",
   "metadata": {},
   "source": [
    "# Bar Chart with Relative Barmode"
   ]
  },
  {
   "cell_type": "code",
   "execution_count": 80,
   "metadata": {},
   "outputs": [
    {
     "data": {
      "application/vnd.plotly.v1+json": {
       "config": {
        "linkText": "Export to plot.ly",
        "plotlyServerURL": "https://plot.ly",
        "showLink": true
       },
       "data": [
        {
         "name": "Trace0",
         "type": "bar",
         "uid": "3369262b-4912-4f29-add9-1e31dc18854f",
         "x": [
          1,
          2,
          3,
          4
         ],
         "y": [
          1,
          4,
          9,
          16
         ]
        },
        {
         "name": "Trace1",
         "type": "bar",
         "uid": "0876ae9e-25cf-46af-839b-a138e2952e65",
         "x": [
          1,
          2,
          3,
          4
         ],
         "y": [
          6,
          -8,
          -4.5,
          8
         ]
        },
        {
         "name": "Trace2",
         "type": "bar",
         "uid": "7cadfaa6-4671-4ed5-9fa7-e7308aa66cd0",
         "x": [
          1,
          2,
          3,
          4
         ],
         "y": [
          -15,
          -3,
          4.5,
          -8
         ]
        },
        {
         "name": "Trace3",
         "type": "bar",
         "uid": "5603a763-dd15-43ea-8f77-793f97df56d1",
         "x": [
          1,
          2,
          3,
          4
         ],
         "y": [
          -1,
          3,
          -3,
          -4
         ]
        }
       ],
       "layout": {
        "barmode": "relative",
        "title": "Relative Barmode",
        "xaxis": {
         "title": "X axis"
        },
        "yaxis": {
         "title": "Y axis"
        }
       }
      },
      "text/html": [
       "<div id=\"603c6e1d-f3b5-4312-a95d-99704add2e1c\" style=\"height: 525px; width: 100%;\" class=\"plotly-graph-div\"></div><script type=\"text/javascript\">require([\"plotly\"], function(Plotly) { window.PLOTLYENV=window.PLOTLYENV || {};window.PLOTLYENV.BASE_URL=\"https://plot.ly\";Plotly.newPlot(\"603c6e1d-f3b5-4312-a95d-99704add2e1c\", [{\"name\": \"Trace0\", \"x\": [1, 2, 3, 4], \"y\": [1, 4, 9, 16], \"type\": \"bar\", \"uid\": \"d3a3af8b-1a6f-4a9b-b734-1e8c5b3d50df\"}, {\"name\": \"Trace1\", \"x\": [1, 2, 3, 4], \"y\": [6, -8, -4.5, 8], \"type\": \"bar\", \"uid\": \"573fa88e-04d0-465e-a951-52859b663add\"}, {\"name\": \"Trace2\", \"x\": [1, 2, 3, 4], \"y\": [-15, -3, 4.5, -8], \"type\": \"bar\", \"uid\": \"20e51158-ef6c-4c8f-87d5-7237d8476107\"}, {\"name\": \"Trace3\", \"x\": [1, 2, 3, 4], \"y\": [-1, 3, -3, -4], \"type\": \"bar\", \"uid\": \"be8380f3-184e-4fc1-8286-8beabb69e702\"}], {\"barmode\": \"relative\", \"title\": \"Relative Barmode\", \"xaxis\": {\"title\": \"X axis\"}, \"yaxis\": {\"title\": \"Y axis\"}}, {\"showLink\": true, \"linkText\": \"Export to plot.ly\", \"plotlyServerURL\": \"https://plot.ly\"})});</script><script type=\"text/javascript\">window.addEventListener(\"resize\", function(){window._Plotly.Plots.resize(document.getElementById(\"603c6e1d-f3b5-4312-a95d-99704add2e1c\"));});</script>"
      ],
      "text/vnd.plotly.v1+html": [
       "<div id=\"603c6e1d-f3b5-4312-a95d-99704add2e1c\" style=\"height: 525px; width: 100%;\" class=\"plotly-graph-div\"></div><script type=\"text/javascript\">require([\"plotly\"], function(Plotly) { window.PLOTLYENV=window.PLOTLYENV || {};window.PLOTLYENV.BASE_URL=\"https://plot.ly\";Plotly.newPlot(\"603c6e1d-f3b5-4312-a95d-99704add2e1c\", [{\"name\": \"Trace0\", \"x\": [1, 2, 3, 4], \"y\": [1, 4, 9, 16], \"type\": \"bar\", \"uid\": \"d3a3af8b-1a6f-4a9b-b734-1e8c5b3d50df\"}, {\"name\": \"Trace1\", \"x\": [1, 2, 3, 4], \"y\": [6, -8, -4.5, 8], \"type\": \"bar\", \"uid\": \"573fa88e-04d0-465e-a951-52859b663add\"}, {\"name\": \"Trace2\", \"x\": [1, 2, 3, 4], \"y\": [-15, -3, 4.5, -8], \"type\": \"bar\", \"uid\": \"20e51158-ef6c-4c8f-87d5-7237d8476107\"}, {\"name\": \"Trace3\", \"x\": [1, 2, 3, 4], \"y\": [-1, 3, -3, -4], \"type\": \"bar\", \"uid\": \"be8380f3-184e-4fc1-8286-8beabb69e702\"}], {\"barmode\": \"relative\", \"title\": \"Relative Barmode\", \"xaxis\": {\"title\": \"X axis\"}, \"yaxis\": {\"title\": \"Y axis\"}}, {\"showLink\": true, \"linkText\": \"Export to plot.ly\", \"plotlyServerURL\": \"https://plot.ly\"})});</script><script type=\"text/javascript\">window.addEventListener(\"resize\", function(){window._Plotly.Plots.resize(document.getElementById(\"603c6e1d-f3b5-4312-a95d-99704add2e1c\"));});</script>"
      ]
     },
     "metadata": {},
     "output_type": "display_data"
    }
   ],
   "source": [
    "x = [1, 2, 3, 4]\n",
    "trace0 = {'x': x, 'y': [1, 4, 9, 16], 'name': 'Trace0', 'type': 'bar'}\n",
    "trace1 = {'x': x, 'y': [6, -8, -4.5, 8], 'name': 'Trace1', 'type': 'bar'}\n",
    "trace2 = {'x': x, 'y': [-15, -3, 4.5, -8], 'name': 'Trace2', 'type': 'bar'}\n",
    "trace3 = {'x': x, 'y': [-1, 3, -3, -4], 'name': 'Trace3', 'type': 'bar'}\n",
    "\n",
    "data = [trace0, trace1, trace2, trace3]\n",
    "layout = {\n",
    "    'xaxis': {'title': 'X axis'},\n",
    "    'yaxis': {'title': 'Y axis'},\n",
    "    # 这里的relative有点类似于stack，只不过区分正负值\n",
    "    'barmode': 'relative',\n",
    "    'title': 'Relative Barmode'\n",
    "}\n",
    "plotly.offline.iplot({'data': data, 'layout': layout}, filename='barmode-relative')"
   ]
  },
  {
   "cell_type": "markdown",
   "metadata": {},
   "source": [
    "# Basic Population Pyramid Chart"
   ]
  },
  {
   "cell_type": "code",
   "execution_count": 86,
   "metadata": {},
   "outputs": [
    {
     "data": {
      "application/vnd.plotly.v1+json": {
       "config": {
        "linkText": "Export to plot.ly",
        "plotlyServerURL": "https://plot.ly",
        "showLink": true
       },
       "data": [
        {
         "hoverinfo": "x",
         "marker": {
          "color": "powderblue"
         },
         "name": "Men",
         "orientation": "h",
         "type": "bar",
         "uid": "20db6dd6-ef39-4ef2-aff0-e63d8ab1f763",
         "x": [
          600,
          623,
          653,
          650,
          670,
          578,
          541,
          360,
          312,
          170
         ],
         "y": [
          0,
          10,
          20,
          30,
          40,
          50,
          60,
          70,
          80,
          90
         ]
        },
        {
         "hoverinfo": "text",
         "marker": {
          "color": "seagreen"
         },
         "name": "Women",
         "orientation": "h",
         "text": [
          500,
          523,
          573,
          650,
          670,
          578,
          541,
          411,
          322,
          230
         ],
         "type": "bar",
         "uid": "4ba25d81-07b1-4c24-b4e1-b8bb36773c43",
         "x": [
          -500,
          -523,
          -573,
          -650,
          -670,
          -578,
          -541,
          -411,
          -322,
          -230
         ],
         "y": [
          0,
          10,
          20,
          30,
          40,
          50,
          60,
          70,
          80,
          90
         ]
        }
       ],
       "layout": {
        "bargap": 0.1,
        "barmode": "overlay",
        "xaxis": {
         "range": [
          -1200,
          1200
         ],
         "ticktext": [
          1000,
          700,
          300,
          0,
          300,
          700,
          1000
         ],
         "tickvals": [
          -1000,
          -700,
          -300,
          0,
          300,
          700,
          1000
         ],
         "title": "Number"
        },
        "yaxis": {
         "title": "Age"
        }
       }
      },
      "text/html": [
       "<div id=\"f08418b2-82e2-4fc2-beff-09568d2d8cf9\" style=\"height: 525px; width: 100%;\" class=\"plotly-graph-div\"></div><script type=\"text/javascript\">require([\"plotly\"], function(Plotly) { window.PLOTLYENV=window.PLOTLYENV || {};window.PLOTLYENV.BASE_URL=\"https://plot.ly\";Plotly.newPlot(\"f08418b2-82e2-4fc2-beff-09568d2d8cf9\", [{\"hoverinfo\": \"x\", \"marker\": {\"color\": \"powderblue\"}, \"name\": \"Men\", \"orientation\": \"h\", \"x\": [600, 623, 653, 650, 670, 578, 541, 360, 312, 170], \"y\": [0, 10, 20, 30, 40, 50, 60, 70, 80, 90], \"type\": \"bar\", \"uid\": \"d9945237-f39c-4546-866d-af4f76f4a556\"}, {\"hoverinfo\": \"text\", \"marker\": {\"color\": \"seagreen\"}, \"name\": \"Women\", \"orientation\": \"h\", \"text\": [500.0, 523.0, 573.0, 650.0, 670.0, 578.0, 541.0, 411.0, 322.0, 230.0], \"x\": [-500, -523, -573, -650, -670, -578, -541, -411, -322, -230], \"y\": [0, 10, 20, 30, 40, 50, 60, 70, 80, 90], \"type\": \"bar\", \"uid\": \"fce27803-0631-4e46-be76-8a9650e80dfd\"}], {\"bargap\": 0.1, \"barmode\": \"overlay\", \"xaxis\": {\"range\": [-1200, 1200], \"ticktext\": [1000, 700, 300, 0, 300, 700, 1000], \"tickvals\": [-1000, -700, -300, 0, 300, 700, 1000], \"title\": \"Number\"}, \"yaxis\": {\"title\": \"Age\"}}, {\"showLink\": true, \"linkText\": \"Export to plot.ly\", \"plotlyServerURL\": \"https://plot.ly\"})});</script><script type=\"text/javascript\">window.addEventListener(\"resize\", function(){window._Plotly.Plots.resize(document.getElementById(\"f08418b2-82e2-4fc2-beff-09568d2d8cf9\"));});</script>"
      ],
      "text/vnd.plotly.v1+html": [
       "<div id=\"f08418b2-82e2-4fc2-beff-09568d2d8cf9\" style=\"height: 525px; width: 100%;\" class=\"plotly-graph-div\"></div><script type=\"text/javascript\">require([\"plotly\"], function(Plotly) { window.PLOTLYENV=window.PLOTLYENV || {};window.PLOTLYENV.BASE_URL=\"https://plot.ly\";Plotly.newPlot(\"f08418b2-82e2-4fc2-beff-09568d2d8cf9\", [{\"hoverinfo\": \"x\", \"marker\": {\"color\": \"powderblue\"}, \"name\": \"Men\", \"orientation\": \"h\", \"x\": [600, 623, 653, 650, 670, 578, 541, 360, 312, 170], \"y\": [0, 10, 20, 30, 40, 50, 60, 70, 80, 90], \"type\": \"bar\", \"uid\": \"d9945237-f39c-4546-866d-af4f76f4a556\"}, {\"hoverinfo\": \"text\", \"marker\": {\"color\": \"seagreen\"}, \"name\": \"Women\", \"orientation\": \"h\", \"text\": [500.0, 523.0, 573.0, 650.0, 670.0, 578.0, 541.0, 411.0, 322.0, 230.0], \"x\": [-500, -523, -573, -650, -670, -578, -541, -411, -322, -230], \"y\": [0, 10, 20, 30, 40, 50, 60, 70, 80, 90], \"type\": \"bar\", \"uid\": \"fce27803-0631-4e46-be76-8a9650e80dfd\"}], {\"bargap\": 0.1, \"barmode\": \"overlay\", \"xaxis\": {\"range\": [-1200, 1200], \"ticktext\": [1000, 700, 300, 0, 300, 700, 1000], \"tickvals\": [-1000, -700, -300, 0, 300, 700, 1000], \"title\": \"Number\"}, \"yaxis\": {\"title\": \"Age\"}}, {\"showLink\": true, \"linkText\": \"Export to plot.ly\", \"plotlyServerURL\": \"https://plot.ly\"})});</script><script type=\"text/javascript\">window.addEventListener(\"resize\", function(){window._Plotly.Plots.resize(document.getElementById(\"f08418b2-82e2-4fc2-beff-09568d2d8cf9\"));});</script>"
      ]
     },
     "metadata": {},
     "output_type": "display_data"
    }
   ],
   "source": [
    "women_bins = np.array([-500, -523, -573, -650, -670, -578, -541, -411, -322, -230])\n",
    "men_bins = np.array([600, 623, 653, 650, 670, 578, 541, 360, 312, 170])\n",
    "y = list(range(0, 100, 10))\n",
    "\n",
    "data = [\n",
    "    go.Bar(y=y, x=men_bins, orientation='h', name='Men', hoverinfo='x', marker=dict(color='powderblue')),\n",
    "    go.Bar(y=y, x=women_bins, orientation='h', name='Women', text=-1 * women_bins.astype('int'), hoverinfo='text', marker=dict(color='seagreen'))\n",
    "]\n",
    "\n",
    "layout = go.Layout(\n",
    "    yaxis=go.layout.YAxis(title='Age'),\n",
    "    xaxis=go.layout.XAxis(\n",
    "        range=[-1200, 1200],\n",
    "        tickvals=[-1000, -700, -300, 0, 300, 700, 1000],\n",
    "        ticktext=[1000, 700, 300, 0, 300, 700, 1000],\n",
    "        title='Number'\n",
    "    ),\n",
    "    barmode='overlay',\n",
    "    bargap=0.1\n",
    ")\n",
    "plotly.offline.iplot(dict(data=data, layout=layout), filename='bar_pyramid') "
   ]
  }
 ],
 "metadata": {
  "kernelspec": {
   "display_name": "Python 3",
   "language": "python",
   "name": "python3"
  },
  "language_info": {
   "codemirror_mode": {
    "name": "ipython",
    "version": 3
   },
   "file_extension": ".py",
   "mimetype": "text/x-python",
   "name": "python",
   "nbconvert_exporter": "python",
   "pygments_lexer": "ipython3",
   "version": "3.6.5"
  }
 },
 "nbformat": 4,
 "nbformat_minor": 2
}
