{
 "cells": [
  {
   "cell_type": "code",
   "execution_count": 4,
   "metadata": {},
   "outputs": [
    {
     "data": {
      "text/html": [
       "<script type=\"text/javascript\">window.PlotlyConfig = {MathJaxConfig: 'local'};</script><script type=\"text/javascript\">if (window.MathJax) {MathJax.Hub.Config({SVG: {font: \"STIX-Web\"}});}</script><script>requirejs.config({paths: { 'plotly': ['https://cdn.plot.ly/plotly-latest.min']},});if(!window._Plotly) {require(['plotly'],function(plotly) {window._Plotly=plotly;});}</script>"
      ],
      "text/vnd.plotly.v1+html": [
       "<script type=\"text/javascript\">window.PlotlyConfig = {MathJaxConfig: 'local'};</script><script type=\"text/javascript\">if (window.MathJax) {MathJax.Hub.Config({SVG: {font: \"STIX-Web\"}});}</script><script>requirejs.config({paths: { 'plotly': ['https://cdn.plot.ly/plotly-latest.min']},});if(!window._Plotly) {require(['plotly'],function(plotly) {window._Plotly=plotly;});}</script>"
      ]
     },
     "metadata": {},
     "output_type": "display_data"
    }
   ],
   "source": [
    "import plotly\n",
    "import plotly.graph_objs as go\n",
    "import math\n",
    "import random\n",
    "import numpy as np\n",
    "import pandas as pd\n",
    "plotly.offline.init_notebook_mode(connected=True)"
   ]
  },
  {
   "cell_type": "markdown",
   "metadata": {},
   "source": [
    "# Basic Overlaid Area Chart"
   ]
  },
  {
   "cell_type": "code",
   "execution_count": 5,
   "metadata": {},
   "outputs": [
    {
     "data": {
      "application/vnd.plotly.v1+json": {
       "config": {
        "linkText": "Export to plot.ly",
        "plotlyServerURL": "https://plot.ly",
        "showLink": true
       },
       "data": [
        {
         "fill": "tozeroy",
         "type": "scatter",
         "uid": "a5b6d2af-3e06-4f68-a830-9b304a15fe51",
         "x": [
          1,
          2,
          3,
          4
         ],
         "y": [
          0,
          2,
          3,
          5
         ]
        },
        {
         "fill": "tonexty",
         "type": "scatter",
         "uid": "734d4ac9-7fc1-498d-882b-0cfa4180cce2",
         "x": [
          1,
          2,
          3,
          4
         ],
         "y": [
          3,
          5,
          1,
          7
         ]
        }
       ],
       "layout": {}
      },
      "text/html": [
       "<div id=\"d5708e3d-e581-4f00-8eb2-93a9287e37ad\" style=\"height: 525px; width: 100%;\" class=\"plotly-graph-div\"></div><script type=\"text/javascript\">require([\"plotly\"], function(Plotly) { window.PLOTLYENV=window.PLOTLYENV || {};window.PLOTLYENV.BASE_URL=\"https://plot.ly\";Plotly.newPlot(\"d5708e3d-e581-4f00-8eb2-93a9287e37ad\", [{\"fill\": \"tozeroy\", \"x\": [1, 2, 3, 4], \"y\": [0, 2, 3, 5], \"type\": \"scatter\", \"uid\": \"9a333f92-cf94-4d21-8e22-3b34a3ce168b\"}, {\"fill\": \"tonexty\", \"x\": [1, 2, 3, 4], \"y\": [3, 5, 1, 7], \"type\": \"scatter\", \"uid\": \"369d48d1-2aae-436b-9dc5-24b998143ecd\"}], {}, {\"showLink\": true, \"linkText\": \"Export to plot.ly\", \"plotlyServerURL\": \"https://plot.ly\"})});</script><script type=\"text/javascript\">window.addEventListener(\"resize\", function(){window._Plotly.Plots.resize(document.getElementById(\"d5708e3d-e581-4f00-8eb2-93a9287e37ad\"));});</script>"
      ],
      "text/vnd.plotly.v1+html": [
       "<div id=\"d5708e3d-e581-4f00-8eb2-93a9287e37ad\" style=\"height: 525px; width: 100%;\" class=\"plotly-graph-div\"></div><script type=\"text/javascript\">require([\"plotly\"], function(Plotly) { window.PLOTLYENV=window.PLOTLYENV || {};window.PLOTLYENV.BASE_URL=\"https://plot.ly\";Plotly.newPlot(\"d5708e3d-e581-4f00-8eb2-93a9287e37ad\", [{\"fill\": \"tozeroy\", \"x\": [1, 2, 3, 4], \"y\": [0, 2, 3, 5], \"type\": \"scatter\", \"uid\": \"9a333f92-cf94-4d21-8e22-3b34a3ce168b\"}, {\"fill\": \"tonexty\", \"x\": [1, 2, 3, 4], \"y\": [3, 5, 1, 7], \"type\": \"scatter\", \"uid\": \"369d48d1-2aae-436b-9dc5-24b998143ecd\"}], {}, {\"showLink\": true, \"linkText\": \"Export to plot.ly\", \"plotlyServerURL\": \"https://plot.ly\"})});</script><script type=\"text/javascript\">window.addEventListener(\"resize\", function(){window._Plotly.Plots.resize(document.getElementById(\"d5708e3d-e581-4f00-8eb2-93a9287e37ad\"));});</script>"
      ]
     },
     "metadata": {},
     "output_type": "display_data"
    }
   ],
   "source": [
    "trace0 = go.Scatter(\n",
    "    x=[1, 2, 3, 4],\n",
    "    y=[0, 2, 3, 5],\n",
    "    fill='tozeroy'\n",
    ")\n",
    "trace1 = go.Scatter(\n",
    "    x=[1, 2, 3, 4],\n",
    "    y=[3, 5, 1, 7],\n",
    "    fill='tonexty'\n",
    ")\n",
    "\n",
    "data = [trace0, trace1]\n",
    "plotly.offline.iplot(data, filename='basic-area')"
   ]
  },
  {
   "cell_type": "markdown",
   "metadata": {},
   "source": [
    "# Overlaid Area Chart Without Boundary Lines"
   ]
  },
  {
   "cell_type": "code",
   "execution_count": 6,
   "metadata": {},
   "outputs": [
    {
     "data": {
      "application/vnd.plotly.v1+json": {
       "config": {
        "linkText": "Export to plot.ly",
        "plotlyServerURL": "https://plot.ly",
        "showLink": true
       },
       "data": [
        {
         "fill": "tozeroy",
         "mode": "none",
         "type": "scatter",
         "uid": "bd5349f8-6f1f-45b0-a71c-778ff7ae9b25",
         "x": [
          1,
          2,
          3,
          4
         ],
         "y": [
          0,
          2,
          3,
          5
         ]
        },
        {
         "fill": "tonexty",
         "mode": "none",
         "type": "scatter",
         "uid": "5e92d821-254e-45e0-b2a1-19cfdd72b84c",
         "x": [
          1,
          2,
          3,
          4
         ],
         "y": [
          3,
          5,
          1,
          7
         ]
        }
       ],
       "layout": {}
      },
      "text/html": [
       "<div id=\"b7621814-54b7-47e0-8ff0-aea5065bc5b1\" style=\"height: 525px; width: 100%;\" class=\"plotly-graph-div\"></div><script type=\"text/javascript\">require([\"plotly\"], function(Plotly) { window.PLOTLYENV=window.PLOTLYENV || {};window.PLOTLYENV.BASE_URL=\"https://plot.ly\";Plotly.newPlot(\"b7621814-54b7-47e0-8ff0-aea5065bc5b1\", [{\"fill\": \"tozeroy\", \"mode\": \"none\", \"x\": [1, 2, 3, 4], \"y\": [0, 2, 3, 5], \"type\": \"scatter\", \"uid\": \"4d56f862-36aa-4017-9b2c-b199d1302d19\"}, {\"fill\": \"tonexty\", \"mode\": \"none\", \"x\": [1, 2, 3, 4], \"y\": [3, 5, 1, 7], \"type\": \"scatter\", \"uid\": \"970d5d54-1815-4118-a0a3-ec245a537365\"}], {}, {\"showLink\": true, \"linkText\": \"Export to plot.ly\", \"plotlyServerURL\": \"https://plot.ly\"})});</script><script type=\"text/javascript\">window.addEventListener(\"resize\", function(){window._Plotly.Plots.resize(document.getElementById(\"b7621814-54b7-47e0-8ff0-aea5065bc5b1\"));});</script>"
      ],
      "text/vnd.plotly.v1+html": [
       "<div id=\"b7621814-54b7-47e0-8ff0-aea5065bc5b1\" style=\"height: 525px; width: 100%;\" class=\"plotly-graph-div\"></div><script type=\"text/javascript\">require([\"plotly\"], function(Plotly) { window.PLOTLYENV=window.PLOTLYENV || {};window.PLOTLYENV.BASE_URL=\"https://plot.ly\";Plotly.newPlot(\"b7621814-54b7-47e0-8ff0-aea5065bc5b1\", [{\"fill\": \"tozeroy\", \"mode\": \"none\", \"x\": [1, 2, 3, 4], \"y\": [0, 2, 3, 5], \"type\": \"scatter\", \"uid\": \"4d56f862-36aa-4017-9b2c-b199d1302d19\"}, {\"fill\": \"tonexty\", \"mode\": \"none\", \"x\": [1, 2, 3, 4], \"y\": [3, 5, 1, 7], \"type\": \"scatter\", \"uid\": \"970d5d54-1815-4118-a0a3-ec245a537365\"}], {}, {\"showLink\": true, \"linkText\": \"Export to plot.ly\", \"plotlyServerURL\": \"https://plot.ly\"})});</script><script type=\"text/javascript\">window.addEventListener(\"resize\", function(){window._Plotly.Plots.resize(document.getElementById(\"b7621814-54b7-47e0-8ff0-aea5065bc5b1\"));});</script>"
      ]
     },
     "metadata": {},
     "output_type": "display_data"
    }
   ],
   "source": [
    "trace0 = go.Scatter(\n",
    "    x=[1, 2, 3, 4],\n",
    "    y=[0, 2, 3, 5],\n",
    "    fill='tozeroy',\n",
    "    mode= 'none'\n",
    ")\n",
    "trace1 = go.Scatter(\n",
    "    x=[1, 2, 3, 4],\n",
    "    y=[3, 5, 1, 7],\n",
    "    fill='tonexty',\n",
    "    mode= 'none'\n",
    ")\n",
    "\n",
    "data = [trace0, trace1]\n",
    "plotly.offline.iplot(data, filename='basic-area-no-bound')"
   ]
  },
  {
   "cell_type": "markdown",
   "metadata": {},
   "source": [
    "# Interior Filling for Area Chart"
   ]
  },
  {
   "cell_type": "code",
   "execution_count": 7,
   "metadata": {},
   "outputs": [
    {
     "data": {
      "application/vnd.plotly.v1+json": {
       "config": {
        "linkText": "Export to plot.ly",
        "plotlyServerURL": "https://plot.ly",
        "showLink": true
       },
       "data": [
        {
         "line": {
          "color": "rgb(143, 19, 131)"
         },
         "mode": "lines",
         "type": "scatter",
         "uid": "6a50ba52-4cc2-4943-9220-ff10761fd4ae",
         "x": [
          1,
          2,
          3,
          4
         ],
         "y": [
          3,
          4,
          8,
          3
         ]
        },
        {
         "fill": "tonexty",
         "line": {
          "color": "rgb(143, 19, 131)"
         },
         "mode": "lines",
         "type": "scatter",
         "uid": "ee063b1b-7e43-4ad6-a131-64335e8bc0d7",
         "x": [
          1,
          2,
          3,
          4
         ],
         "y": [
          1,
          6,
          2,
          6
         ]
        }
       ],
       "layout": {}
      },
      "text/html": [
       "<div id=\"79f2cade-240f-4c9b-ac67-03d9291a32d8\" style=\"height: 525px; width: 100%;\" class=\"plotly-graph-div\"></div><script type=\"text/javascript\">require([\"plotly\"], function(Plotly) { window.PLOTLYENV=window.PLOTLYENV || {};window.PLOTLYENV.BASE_URL=\"https://plot.ly\";Plotly.newPlot(\"79f2cade-240f-4c9b-ac67-03d9291a32d8\", [{\"line\": {\"color\": \"rgb(143, 19, 131)\"}, \"mode\": \"lines\", \"x\": [1, 2, 3, 4], \"y\": [3, 4, 8, 3], \"type\": \"scatter\", \"uid\": \"05934fbf-efd5-4e1d-ac8a-742fdb5f0b5a\"}, {\"fill\": \"tonexty\", \"line\": {\"color\": \"rgb(143, 19, 131)\"}, \"mode\": \"lines\", \"x\": [1, 2, 3, 4], \"y\": [1, 6, 2, 6], \"type\": \"scatter\", \"uid\": \"8b3b08b1-6e74-45e0-b561-7d9ae322ea61\"}], {}, {\"showLink\": true, \"linkText\": \"Export to plot.ly\", \"plotlyServerURL\": \"https://plot.ly\"})});</script><script type=\"text/javascript\">window.addEventListener(\"resize\", function(){window._Plotly.Plots.resize(document.getElementById(\"79f2cade-240f-4c9b-ac67-03d9291a32d8\"));});</script>"
      ],
      "text/vnd.plotly.v1+html": [
       "<div id=\"79f2cade-240f-4c9b-ac67-03d9291a32d8\" style=\"height: 525px; width: 100%;\" class=\"plotly-graph-div\"></div><script type=\"text/javascript\">require([\"plotly\"], function(Plotly) { window.PLOTLYENV=window.PLOTLYENV || {};window.PLOTLYENV.BASE_URL=\"https://plot.ly\";Plotly.newPlot(\"79f2cade-240f-4c9b-ac67-03d9291a32d8\", [{\"line\": {\"color\": \"rgb(143, 19, 131)\"}, \"mode\": \"lines\", \"x\": [1, 2, 3, 4], \"y\": [3, 4, 8, 3], \"type\": \"scatter\", \"uid\": \"05934fbf-efd5-4e1d-ac8a-742fdb5f0b5a\"}, {\"fill\": \"tonexty\", \"line\": {\"color\": \"rgb(143, 19, 131)\"}, \"mode\": \"lines\", \"x\": [1, 2, 3, 4], \"y\": [1, 6, 2, 6], \"type\": \"scatter\", \"uid\": \"8b3b08b1-6e74-45e0-b561-7d9ae322ea61\"}], {}, {\"showLink\": true, \"linkText\": \"Export to plot.ly\", \"plotlyServerURL\": \"https://plot.ly\"})});</script><script type=\"text/javascript\">window.addEventListener(\"resize\", function(){window._Plotly.Plots.resize(document.getElementById(\"79f2cade-240f-4c9b-ac67-03d9291a32d8\"));});</script>"
      ]
     },
     "metadata": {},
     "output_type": "display_data"
    }
   ],
   "source": [
    "trace0 = go.Scatter(\n",
    "    x=[1, 2, 3, 4],\n",
    "    y=[3, 4, 8, 3],\n",
    "    fill= None,\n",
    "    mode='lines',\n",
    "    line=dict(\n",
    "        color='rgb(143, 19, 131)',\n",
    "    )\n",
    ")\n",
    "trace1 = go.Scatter(\n",
    "    x=[1, 2, 3, 4],\n",
    "    y=[1, 6, 2, 6],\n",
    "    fill='tonexty',\n",
    "    mode='lines',\n",
    "    line=dict(\n",
    "        color='rgb(143, 19, 131)',\n",
    "    )\n",
    ")\n",
    "\n",
    "data = [trace0, trace1]\n",
    "plotly.offline.iplot(data, filename='filling-interior-area')"
   ]
  },
  {
   "cell_type": "markdown",
   "metadata": {},
   "source": [
    "# Stacked Area Chart"
   ]
  },
  {
   "cell_type": "code",
   "execution_count": 8,
   "metadata": {},
   "outputs": [
    {
     "data": {
      "application/vnd.plotly.v1+json": {
       "config": {
        "linkText": "Export to plot.ly",
        "plotlyServerURL": "https://plot.ly",
        "showLink": true
       },
       "data": [
        {
         "hoverinfo": "x+y",
         "line": {
          "color": "rgb(131, 90, 241)",
          "width": 0.5
         },
         "mode": "lines",
         "stackgroup": "one",
         "x": [
          "Winter",
          "Spring",
          "Summer",
          "Fall"
         ],
         "y": [
          40,
          60,
          40,
          10
         ]
        },
        {
         "hoverinfo": "x+y",
         "line": {
          "color": "rgb(111, 231, 219)",
          "width": 0.5
         },
         "mode": "lines",
         "stackgroup": "one",
         "x": [
          "Winter",
          "Spring",
          "Summer",
          "Fall"
         ],
         "y": [
          20,
          10,
          10,
          60
         ]
        },
        {
         "hoverinfo": "x+y",
         "line": {
          "color": "rgb(184, 247, 212)",
          "width": 0.5
         },
         "mode": "lines",
         "stackgroup": "one",
         "x": [
          "Winter",
          "Spring",
          "Summer",
          "Fall"
         ],
         "y": [
          40,
          30,
          50,
          30
         ]
        }
       ],
       "layout": {}
      },
      "text/html": [
       "<div id=\"227f3f94-27a5-47cd-b736-6735ca89428a\" style=\"height: 525px; width: 100%;\" class=\"plotly-graph-div\"></div><script type=\"text/javascript\">require([\"plotly\"], function(Plotly) { window.PLOTLYENV=window.PLOTLYENV || {};window.PLOTLYENV.BASE_URL=\"https://plot.ly\";Plotly.newPlot(\"227f3f94-27a5-47cd-b736-6735ca89428a\", [{\"x\": [\"Winter\", \"Spring\", \"Summer\", \"Fall\"], \"y\": [40, 60, 40, 10], \"hoverinfo\": \"x+y\", \"mode\": \"lines\", \"line\": {\"width\": 0.5, \"color\": \"rgb(131, 90, 241)\"}, \"stackgroup\": \"one\"}, {\"x\": [\"Winter\", \"Spring\", \"Summer\", \"Fall\"], \"y\": [20, 10, 10, 60], \"hoverinfo\": \"x+y\", \"mode\": \"lines\", \"line\": {\"width\": 0.5, \"color\": \"rgb(111, 231, 219)\"}, \"stackgroup\": \"one\"}, {\"x\": [\"Winter\", \"Spring\", \"Summer\", \"Fall\"], \"y\": [40, 30, 50, 30], \"hoverinfo\": \"x+y\", \"mode\": \"lines\", \"line\": {\"width\": 0.5, \"color\": \"rgb(184, 247, 212)\"}, \"stackgroup\": \"one\"}], {}, {\"showLink\": true, \"linkText\": \"Export to plot.ly\", \"plotlyServerURL\": \"https://plot.ly\"})});</script><script type=\"text/javascript\">window.addEventListener(\"resize\", function(){window._Plotly.Plots.resize(document.getElementById(\"227f3f94-27a5-47cd-b736-6735ca89428a\"));});</script>"
      ],
      "text/vnd.plotly.v1+html": [
       "<div id=\"227f3f94-27a5-47cd-b736-6735ca89428a\" style=\"height: 525px; width: 100%;\" class=\"plotly-graph-div\"></div><script type=\"text/javascript\">require([\"plotly\"], function(Plotly) { window.PLOTLYENV=window.PLOTLYENV || {};window.PLOTLYENV.BASE_URL=\"https://plot.ly\";Plotly.newPlot(\"227f3f94-27a5-47cd-b736-6735ca89428a\", [{\"x\": [\"Winter\", \"Spring\", \"Summer\", \"Fall\"], \"y\": [40, 60, 40, 10], \"hoverinfo\": \"x+y\", \"mode\": \"lines\", \"line\": {\"width\": 0.5, \"color\": \"rgb(131, 90, 241)\"}, \"stackgroup\": \"one\"}, {\"x\": [\"Winter\", \"Spring\", \"Summer\", \"Fall\"], \"y\": [20, 10, 10, 60], \"hoverinfo\": \"x+y\", \"mode\": \"lines\", \"line\": {\"width\": 0.5, \"color\": \"rgb(111, 231, 219)\"}, \"stackgroup\": \"one\"}, {\"x\": [\"Winter\", \"Spring\", \"Summer\", \"Fall\"], \"y\": [40, 30, 50, 30], \"hoverinfo\": \"x+y\", \"mode\": \"lines\", \"line\": {\"width\": 0.5, \"color\": \"rgb(184, 247, 212)\"}, \"stackgroup\": \"one\"}], {}, {\"showLink\": true, \"linkText\": \"Export to plot.ly\", \"plotlyServerURL\": \"https://plot.ly\"})});</script><script type=\"text/javascript\">window.addEventListener(\"resize\", function(){window._Plotly.Plots.resize(document.getElementById(\"227f3f94-27a5-47cd-b736-6735ca89428a\"));});</script>"
      ]
     },
     "metadata": {},
     "output_type": "display_data"
    }
   ],
   "source": [
    "x=['Winter', 'Spring', 'Summer', 'Fall']\n",
    "\n",
    "trace0 = dict(\n",
    "    x=x,\n",
    "    y=[40, 60, 40, 10],\n",
    "    hoverinfo='x+y',\n",
    "    mode='lines',\n",
    "    line=dict(width=0.5,\n",
    "              color='rgb(131, 90, 241)'),\n",
    "    stackgroup='one'\n",
    ")\n",
    "trace1 = dict(\n",
    "    x=x,\n",
    "    y=[20, 10, 10, 60],\n",
    "    hoverinfo='x+y',\n",
    "    mode='lines',\n",
    "    line=dict(width=0.5,\n",
    "              color='rgb(111, 231, 219)'),\n",
    "    stackgroup='one'\n",
    ")\n",
    "trace2 = dict(\n",
    "    x=x,\n",
    "    y=[40, 30, 50, 30],\n",
    "    hoverinfo='x+y',\n",
    "    mode='lines',\n",
    "    line=dict(width=0.5,\n",
    "              color='rgb(184, 247, 212)'),\n",
    "    stackgroup='one'\n",
    ")\n",
    "\n",
    "data = [trace0, trace1, trace2]\n",
    "plotly.offline.iplot(data, filename='stacked-area-plot-hover', validate=False)"
   ]
  },
  {
   "cell_type": "markdown",
   "metadata": {},
   "source": [
    "# Select Hover Points"
   ]
  },
  {
   "cell_type": "code",
   "execution_count": 9,
   "metadata": {},
   "outputs": [
    {
     "data": {
      "application/vnd.plotly.v1+json": {
       "config": {
        "linkText": "Export to plot.ly",
        "plotlyServerURL": "https://plot.ly",
        "showLink": true
       },
       "data": [
        {
         "fill": "toself",
         "fillcolor": "#ab63fa",
         "hoverinfo": "text",
         "hoveron": "points+fills",
         "line": {
          "color": "#ab63fa"
         },
         "text": "Points + Fills",
         "type": "scatter",
         "uid": "9f690925-725b-4e3f-962b-daa61ccfe71c",
         "x": [
          0,
          0.5,
          1,
          1.5,
          2
         ],
         "y": [
          0,
          1,
          2,
          1,
          0
         ]
        },
        {
         "fill": "toself",
         "fillcolor": "#e763fa",
         "hoverinfo": "text",
         "hoveron": "points",
         "line": {
          "color": "#e763fa"
         },
         "text": "Points only",
         "type": "scatter",
         "uid": "4127ca13-a6dc-40ae-ac10-21284bef1006",
         "x": [
          3,
          3.5,
          4,
          4.5,
          5
         ],
         "y": [
          0,
          1,
          2,
          1,
          0
         ]
        }
       ],
       "layout": {}
      },
      "text/html": [
       "<div id=\"8f5af56c-ba89-4bdb-9b5f-d2978ace5e3b\" style=\"height: 525px; width: 100%;\" class=\"plotly-graph-div\"></div><script type=\"text/javascript\">require([\"plotly\"], function(Plotly) { window.PLOTLYENV=window.PLOTLYENV || {};window.PLOTLYENV.BASE_URL=\"https://plot.ly\";Plotly.newPlot(\"8f5af56c-ba89-4bdb-9b5f-d2978ace5e3b\", [{\"fill\": \"toself\", \"fillcolor\": \"#ab63fa\", \"hoverinfo\": \"text\", \"hoveron\": \"points+fills\", \"line\": {\"color\": \"#ab63fa\"}, \"text\": \"Points + Fills\", \"x\": [0, 0.5, 1, 1.5, 2], \"y\": [0, 1, 2, 1, 0], \"type\": \"scatter\", \"uid\": \"0c28fff4-0c26-4257-9478-f2bd6242cbc1\"}, {\"fill\": \"toself\", \"fillcolor\": \"#e763fa\", \"hoverinfo\": \"text\", \"hoveron\": \"points\", \"line\": {\"color\": \"#e763fa\"}, \"text\": \"Points only\", \"x\": [3, 3.5, 4, 4.5, 5], \"y\": [0, 1, 2, 1, 0], \"type\": \"scatter\", \"uid\": \"1110abb0-ac86-4ed8-9c7f-479392dd2365\"}], {}, {\"showLink\": true, \"linkText\": \"Export to plot.ly\", \"plotlyServerURL\": \"https://plot.ly\"})});</script><script type=\"text/javascript\">window.addEventListener(\"resize\", function(){window._Plotly.Plots.resize(document.getElementById(\"8f5af56c-ba89-4bdb-9b5f-d2978ace5e3b\"));});</script>"
      ],
      "text/vnd.plotly.v1+html": [
       "<div id=\"8f5af56c-ba89-4bdb-9b5f-d2978ace5e3b\" style=\"height: 525px; width: 100%;\" class=\"plotly-graph-div\"></div><script type=\"text/javascript\">require([\"plotly\"], function(Plotly) { window.PLOTLYENV=window.PLOTLYENV || {};window.PLOTLYENV.BASE_URL=\"https://plot.ly\";Plotly.newPlot(\"8f5af56c-ba89-4bdb-9b5f-d2978ace5e3b\", [{\"fill\": \"toself\", \"fillcolor\": \"#ab63fa\", \"hoverinfo\": \"text\", \"hoveron\": \"points+fills\", \"line\": {\"color\": \"#ab63fa\"}, \"text\": \"Points + Fills\", \"x\": [0, 0.5, 1, 1.5, 2], \"y\": [0, 1, 2, 1, 0], \"type\": \"scatter\", \"uid\": \"0c28fff4-0c26-4257-9478-f2bd6242cbc1\"}, {\"fill\": \"toself\", \"fillcolor\": \"#e763fa\", \"hoverinfo\": \"text\", \"hoveron\": \"points\", \"line\": {\"color\": \"#e763fa\"}, \"text\": \"Points only\", \"x\": [3, 3.5, 4, 4.5, 5], \"y\": [0, 1, 2, 1, 0], \"type\": \"scatter\", \"uid\": \"1110abb0-ac86-4ed8-9c7f-479392dd2365\"}], {}, {\"showLink\": true, \"linkText\": \"Export to plot.ly\", \"plotlyServerURL\": \"https://plot.ly\"})});</script><script type=\"text/javascript\">window.addEventListener(\"resize\", function(){window._Plotly.Plots.resize(document.getElementById(\"8f5af56c-ba89-4bdb-9b5f-d2978ace5e3b\"));});</script>"
      ]
     },
     "metadata": {},
     "output_type": "display_data"
    }
   ],
   "source": [
    "trace0 = go.Scatter(\n",
    "    x=[0,0.5,1,1.5,2],\n",
    "    y=[0,1,2,1,0],\n",
    "    fill= 'toself',\n",
    "    fillcolor = '#ab63fa',\n",
    "    hoveron = 'points+fills',\n",
    "    line = dict(\n",
    "      color = '#ab63fa'\n",
    "    ),\n",
    "    text = \"Points + Fills\",\n",
    "    hoverinfo = 'text'\n",
    ")\n",
    "\n",
    "trace1 = go.Scatter(\n",
    "    x=[3,3.5,4,4.5,5],\n",
    "    y=[0,1,2,1,0],\n",
    "    fill='toself',\n",
    "    fillcolor = '#e763fa',\n",
    "    hoveron = 'points',\n",
    "    line = dict(\n",
    "      color = '#e763fa'\n",
    "    ),\n",
    "    text = \"Points only\",\n",
    "    hoverinfo = 'text'\n",
    ")\n",
    "\n",
    "data = [trace0, trace1]\n",
    "layout = go.Layout(\n",
    "    title = \"hover on <i>points</i> or <i>fill</i>\",\n",
    "    xaxis = dict(\n",
    "      range = [0,5.2]\n",
    "    ),\n",
    "    yaxis = dict(\n",
    "      range = [0,3]\n",
    "    )\n",
    ")\n",
    "fig = go.Figure(data=data,layout=layout)\n",
    "plotly.offline.iplot(data, filename='select-hover-points')"
   ]
  }
 ],
 "metadata": {
  "kernelspec": {
   "display_name": "Python 3",
   "language": "python",
   "name": "python3"
  },
  "language_info": {
   "codemirror_mode": {
    "name": "ipython",
    "version": 3
   },
   "file_extension": ".py",
   "mimetype": "text/x-python",
   "name": "python",
   "nbconvert_exporter": "python",
   "pygments_lexer": "ipython3",
   "version": "3.6.5"
  }
 },
 "nbformat": 4,
 "nbformat_minor": 2
}
